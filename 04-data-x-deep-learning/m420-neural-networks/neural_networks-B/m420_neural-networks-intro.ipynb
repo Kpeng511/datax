{
 "cells": [
  {
   "cell_type": "markdown",
   "metadata": {
    "slideshow": {
     "slide_type": "slide"
    }
   },
   "source": [
    "![data-x](https://raw.githubusercontent.com/afo/data-x-plaksha/master/imgsource/dx_logo.png)\n",
    "\n",
    "---\n",
    "\n",
    "# Data-X: Introduction to Neural Networks and Keras\n",
    "\n",
    "<br>\n",
    "\n",
    "\n",
    "**Author List (in no particular order):** [Wenxi (Ariel) Li](https://www.linkedin.com/in/wenxi-li/), [Elias Castro Hernandez](https://www.linkedin.com/in/ehcastroh/), [Debbie Yuen](http://www.debbiecyuen.me/), [Alexander Fred Ojala](https://www.linkedin.com/in/alexanderfo/), and [Ikhlaq Sidhu](https://ikhlaq-sidhu.com/) \n",
    "\n",
    "**Video Walkthrough:** To view walkthrough of this notebook, click [here](https://youtu.be/XNycXuDW2mg)\n",
    "\n",
    "**References and Additional Resources:** See end of this notebook for additional information related to TensorFlow and Keras.\n",
    "\n",
    "**License Agreement:** Feel free to do whatever you want with this code\n",
    "\n",
    "___"
   ]
  },
  {
   "cell_type": "markdown",
   "metadata": {},
   "source": [
    "<br>\n",
    "\n",
    "<div align=\"center\" style=\"font-size:12px; font-family:FreeMono; font-weight: 100; font-stretch:ultra-condensed; line-height: 1.0; color:#2A2C2B\">\n",
    "    <img src=\"nn_thumbnail-01.png\" align=\"center\" width=\"40%\" padding=\"10\"><br>\n",
    "    <br>\n",
    "    \n",
    "</div>\n",
    "\n",
    "<br>\n",
    "\n",
    "This notebook covers the training of two neural networks on readily available data (with an optional third model in the **References and Additional Resources** section). They are intended to provide users with an overview of [Keras](https://keras.io/) and introduce the process of building neural networks using python. These tutorials use `tf.keras`. Keras is [TensorFlow](https://www.tensorflow.org/)'s high-level Python API for building and training deep learning models. To learn more about using Keras with TensorFlow, or TensorFlow's 2.x integrated Keras functionality, see the TensorFlow Keras Guide.\n",
    "\n",
    "\n",
    "<br>\n",
    "\n",
    "\n",
    "<strong style=\"color:red\">KEY CONSIDERATION:</strong> Some of the following content may be written for machines running on Linux or Mac operating systems. If you are working on a Windows machine, you will need to enable the Linux Bash Shell, or adjust Shell commands to PowerShell syntax. A tutorial on how to enable the Linux Bash Shell on Windows 10 can be found [here](https://youtu.be/xzgwDbe7foQ)."
   ]
  },
  {
   "cell_type": "markdown",
   "metadata": {},
   "source": [
    "___\n",
    "\n",
    "<br>\n",
    "\n",
    "**Setup Environment**"
   ]
  },
  {
   "cell_type": "code",
   "execution_count": 1,
   "metadata": {},
   "outputs": [
    {
     "name": "stderr",
     "output_type": "stream",
     "text": [
      "\n",
      "Bad key savefig.frameon in file /home/ehch/anaconda3/lib/python3.6/site-packages/matplotlib/mpl-data/stylelib/_classic_test.mplstyle, line 421 ('savefig.frameon : True')\n",
      "You probably need to get an updated matplotlibrc file from\n",
      "https://github.com/matplotlib/matplotlib/blob/v3.3.0/matplotlibrc.template\n",
      "or from the matplotlib source distribution\n",
      "\n",
      "Bad key verbose.level in file /home/ehch/anaconda3/lib/python3.6/site-packages/matplotlib/mpl-data/stylelib/_classic_test.mplstyle, line 472 ('verbose.level  : silent      # one of silent, helpful, debug, debug-annoying')\n",
      "You probably need to get an updated matplotlibrc file from\n",
      "https://github.com/matplotlib/matplotlib/blob/v3.3.0/matplotlibrc.template\n",
      "or from the matplotlib source distribution\n",
      "\n",
      "Bad key verbose.fileo in file /home/ehch/anaconda3/lib/python3.6/site-packages/matplotlib/mpl-data/stylelib/_classic_test.mplstyle, line 473 ('verbose.fileo  : sys.stdout  # a log filename, sys.stdout or sys.stderr')\n",
      "You probably need to get an updated matplotlibrc file from\n",
      "https://github.com/matplotlib/matplotlib/blob/v3.3.0/matplotlibrc.template\n",
      "or from the matplotlib source distribution\n",
      "In /home/ehch/anaconda3/lib/python3.6/site-packages/matplotlib/mpl-data/stylelib/_classic_test.mplstyle: \n",
      "The text.latex.preview rcparam was deprecated in Matplotlib 3.3 and will be removed two minor releases later.\n",
      "In /home/ehch/anaconda3/lib/python3.6/site-packages/matplotlib/mpl-data/stylelib/_classic_test.mplstyle: \n",
      "The mathtext.fallback_to_cm rcparam was deprecated in Matplotlib 3.3 and will be removed two minor releases later.\n",
      "In /home/ehch/anaconda3/lib/python3.6/site-packages/matplotlib/mpl-data/stylelib/_classic_test.mplstyle: Support for setting the 'mathtext.fallback_to_cm' rcParam is deprecated since 3.3 and will be removed two minor releases later; use 'mathtext.fallback : 'cm' instead.\n",
      "In /home/ehch/anaconda3/lib/python3.6/site-packages/matplotlib/mpl-data/stylelib/_classic_test.mplstyle: \n",
      "The validate_bool_maybe_none function was deprecated in Matplotlib 3.3 and will be removed two minor releases later.\n",
      "In /home/ehch/anaconda3/lib/python3.6/site-packages/matplotlib/mpl-data/stylelib/_classic_test.mplstyle: \n",
      "The savefig.jpeg_quality rcparam was deprecated in Matplotlib 3.3 and will be removed two minor releases later.\n",
      "In /home/ehch/anaconda3/lib/python3.6/site-packages/matplotlib/mpl-data/stylelib/_classic_test.mplstyle: \n",
      "The keymap.all_axes rcparam was deprecated in Matplotlib 3.3 and will be removed two minor releases later.\n",
      "In /home/ehch/anaconda3/lib/python3.6/site-packages/matplotlib/mpl-data/stylelib/_classic_test.mplstyle: \n",
      "The animation.avconv_path rcparam was deprecated in Matplotlib 3.3 and will be removed two minor releases later.\n",
      "In /home/ehch/anaconda3/lib/python3.6/site-packages/matplotlib/mpl-data/stylelib/_classic_test.mplstyle: \n",
      "The animation.avconv_args rcparam was deprecated in Matplotlib 3.3 and will be removed two minor releases later.\n"
     ]
    }
   ],
   "source": [
    "# Pyton 2 and 3 support\n",
    "from __future__ import division, print_function, unicode_literals\n",
    "\n",
    "import pandas as pd\n",
    "import numpy as np\n",
    "import matplotlib.pyplot as plt\n",
    "import seaborn as sns\n",
    "\n",
    "%matplotlib inline\n",
    "\n",
    "# Hide warnings\n",
    "import warnings\n",
    "warnings.filterwarnings('ignore')"
   ]
  },
  {
   "cell_type": "markdown",
   "metadata": {},
   "source": [
    "<br>\n",
    "\n",
    "**Install TensorFlow:** the following will install TensorFlow using bash. It serves our purposes. However, for detailed installation instructions see the **Additional Resources** section at the end of this notebook."
   ]
  },
  {
   "cell_type": "code",
   "execution_count": 2,
   "metadata": {},
   "outputs": [],
   "source": [
    "## Create Virtual Environment ##\n",
    "! python3 -m venv ./venv"
   ]
  },
  {
   "cell_type": "code",
   "execution_count": 3,
   "metadata": {},
   "outputs": [],
   "source": [
    "## Activate Virtual Environment ##\n",
    "! . ./venv/bin/activate"
   ]
  },
  {
   "cell_type": "code",
   "execution_count": 13,
   "metadata": {},
   "outputs": [
    {
     "name": "stdout",
     "output_type": "stream",
     "text": [
      "Requirement already up-to-date: pip in /home/ehch/anaconda3/lib/python3.6/site-packages (20.2.1)\n"
     ]
    }
   ],
   "source": [
    "## Ensure pip version >= 19.0 ##\n",
    "! pip install --upgrade pip "
   ]
  },
  {
   "cell_type": "code",
   "execution_count": null,
   "metadata": {},
   "outputs": [],
   "source": [
    "## Ensure TF version >= 2.0 ##\n",
    "! pip install --upgrade tensorflow"
   ]
  },
  {
   "cell_type": "markdown",
   "metadata": {},
   "source": [
    "<br>\n",
    "\n",
    "**Import deep learning libriaries**"
   ]
  },
  {
   "cell_type": "code",
   "execution_count": 4,
   "metadata": {},
   "outputs": [
    {
     "name": "stdout",
     "output_type": "stream",
     "text": [
      "2.3.0\n"
     ]
    },
    {
     "data": {
      "text/plain": [
       "True"
      ]
     },
     "execution_count": 4,
     "metadata": {},
     "output_type": "execute_result"
    }
   ],
   "source": [
    "# for deep learning\n",
    "import tensorflow as tf\n",
    "from tensorflow import keras\n",
    "from tensorflow.keras import layers\n",
    "print(tf.__version__)\n",
    "\n",
    "# Check that Eager Execution is active\n",
    "tf.executing_eagerly()"
   ]
  },
  {
   "cell_type": "markdown",
   "metadata": {},
   "source": [
    "___\n",
    "\n",
    "**Note:** If ```import tensorflow as tf``` doesn't work, TensorFlow is not installed correctly. To resolve the issue see [build and install error messages](https://www.tensorflow.org/install/errors)\n",
    "    \n",
    "___"
   ]
  },
  {
   "cell_type": "markdown",
   "metadata": {},
   "source": [
    "<br>\n",
    "\n",
    "## Why Keras\n",
    "\n",
    "<br>\n",
    "\n",
    "<div align=\"center\" style=\"font-size:12px; font-family:FreeMono; font-weight: 100; font-stretch:ultra-condensed; line-height: 1.0; color:#2A2C2B\">\n",
    "    <img src=\"keras_logo.png\" align=\"center\" width=\"15%\" padding=\"0px\"><br>\n",
    "    <br>\n",
    "</div>\n",
    "\n",
    "<br>\n",
    "\n",
    "[Keras](https://keras.io/) is a modular, powerful and intuitive Deep Learning python library built on TensorFlow, CNTK, Theano. It is such a good wrapper, that the fine folks at Google decided to prepackage Keras with the release of TensorFlow V.2. So benefits of using Keras:\n",
    "> * Minimalist, user-friendly interface<br>\n",
    "> * Modular<br>\n",
    "> * Deep integration with Tensorflow (`tf.keras`)<br>\n",
    "> * Works on CPUs and GPUs<br>\n",
    "> * Open-source, developed and maintained by a community of contributors, and publicly hosted on github<br>\n",
    "> * Extremely well documented, lots of working examples: https://keras.io/<br>\n",
    "> * Very shallow learning curve —> it is by far one of the best tools for experimenting, both for beginners and experts<br>\n",
    "> * Easy to extend\n",
    "___"
   ]
  },
  {
   "cell_type": "markdown",
   "metadata": {},
   "source": [
    "<br>\n",
    "\n",
    "**Load TensorBoard and Associated Libraries**"
   ]
  },
  {
   "cell_type": "code",
   "execution_count": 5,
   "metadata": {},
   "outputs": [],
   "source": [
    "## Load TensorBoard notebook extension ##\n",
    "%reload_ext tensorboard"
   ]
  },
  {
   "cell_type": "code",
   "execution_count": 6,
   "metadata": {},
   "outputs": [],
   "source": [
    "## Load additional libraries needed ##\n",
    "from datetime import datetime\n",
    "from IPython.display import clear_output, Image, display, HTML\n",
    "import os\n",
    "import pathlib\n",
    "\n",
    "t = datetime.utcnow().strftime(\"%Y%m%d%H%M%S\") \n",
    "log_dir = \"tf_logs\"\n",
    "logd = \"/tmp/{}/r{}/\".format(log_dir, t)"
   ]
  },
  {
   "cell_type": "markdown",
   "metadata": {},
   "source": [
    "<br>\n",
    "\n",
    "**Clear TensorBoard Logs**"
   ]
  },
  {
   "cell_type": "code",
   "execution_count": 7,
   "metadata": {},
   "outputs": [],
   "source": [
    "## Clear any logs from previous runs ##\n",
    "!rm -rf ./logs/"
   ]
  },
  {
   "cell_type": "markdown",
   "metadata": {},
   "source": [
    "___\n",
    "\n",
    "<br>\n",
    "\n",
    "## Case 1: Image Classification on Iris Dataset\n",
    "\n",
    "<br>\n",
    "\n",
    "<div align=\"center\" style=\"font-size:12px; font-family:FreeMono; font-weight: 100; font-stretch:ultra-condensed; line-height: 1.0; color:#2A2C2B\">\n",
    "    <img src=\"iris_illustration-13.png\" align=\"center\" width=\"40%\" padding=\"10px\"><br>\n",
    "</div>\n",
    "\n",
    "<br>\n",
    "\n",
    "\n",
    "The Iris classification problem is one of the \"Hello World\" exercises in machine learning -- that is, we will classify iris flowers based on the length and width measurements of their [sepals](https://en.wikipedia.org/wiki/Sepal) and [petals](https://en.wikipedia.org/wiki/Petal). However its ubiquity should not seen as a signal of irrelevance.  On the contrary, there are some researchers working with state-of-the-art deep learning models, and essentially expanding on the ideas covered in Case 1, in their efforts to [reduce the use of pesticide and promote traits via crop selection](https://www.nature.com/articles/s41598-018-38343-3) -- all using machine learning."
   ]
  },
  {
   "cell_type": "markdown",
   "metadata": {},
   "source": [
    "<br>\n",
    "\n",
    "#### **Data Preprocessing**\n",
    "\n",
    "___"
   ]
  },
  {
   "cell_type": "code",
   "execution_count": 8,
   "metadata": {},
   "outputs": [
    {
     "name": "stdout",
     "output_type": "stream",
     "text": [
      ".. _iris_dataset:\n",
      "\n",
      "Iris plants dataset\n",
      "--------------------\n",
      "\n",
      "**Data Set Characteristics:**\n",
      "\n",
      "    :Number of Instances: 150 (50 in each of three classes)\n",
      "    :Number of Attributes: 4 numeric, predictive attributes and the class\n",
      "    :Attribute Information:\n",
      "        - sepal length in cm\n",
      "        - sepal width in cm\n",
      "        - petal length in cm\n",
      "        - petal width in cm\n",
      "        - class:\n",
      "                - Iris-Setosa\n",
      "                - Iris-Versicolour\n",
      "                - Iris-Virginica\n",
      "                \n",
      "    :Summary Statistics:\n",
      "\n",
      "    ============== ==== ==== ======= ===== ====================\n",
      "                    Min  Max   Mean    SD   Class Correlation\n",
      "    ============== ==== ==== ======= ===== ====================\n",
      "    sepal length:   4.3  7.9   5.84   0.83    0.7826\n",
      "    sepal width:    2.0  4.4   3.05   0.43   -0.4194\n",
      "    petal length:   1.0  6.9   3.76   1.76    0.9490  (high!)\n",
      "    petal width:    0.1  2.5   1.20   0.76    0.9565  (high!)\n",
      "    ============== ==== ==== =====\n"
     ]
    }
   ],
   "source": [
    "from sklearn import datasets\n",
    "data = datasets.load_iris()\n",
    "\n",
    "print(data.DESCR[:980])"
   ]
  },
  {
   "cell_type": "markdown",
   "metadata": {},
   "source": [
    "___\n",
    "\n",
    "**Note:** we are using `skelearn.datasets` to load the popular iris data set. To learn more about the module, or the object type --Bunch-- it returns, see [here](https://scikit-learn.org/stable/modules/generated/sklearn.datasets.load_iris.html).\n",
    "___\n"
   ]
  },
  {
   "cell_type": "code",
   "execution_count": 9,
   "metadata": {},
   "outputs": [
    {
     "data": {
      "text/plain": [
       "sklearn.utils.Bunch"
      ]
     },
     "execution_count": 9,
     "metadata": {},
     "output_type": "execute_result"
    }
   ],
   "source": [
    "#sanity check\n",
    "type(data)"
   ]
  },
  {
   "cell_type": "markdown",
   "metadata": {},
   "source": [
    "<br>\n",
    "\n",
    "**Separate feature data from target data**"
   ]
  },
  {
   "cell_type": "code",
   "execution_count": 10,
   "metadata": {},
   "outputs": [
    {
     "data": {
      "text/plain": [
       "array([0, 0, 0, 0, 0, 0, 0, 0, 0, 0, 0, 0, 0, 0, 0, 0, 0, 0, 0, 0, 0, 0,\n",
       "       0, 0, 0, 0, 0, 0, 0, 0, 0, 0, 0, 0, 0, 0, 0, 0, 0, 0, 0, 0, 0, 0,\n",
       "       0, 0, 0, 0, 0, 0, 1, 1, 1, 1, 1, 1, 1, 1, 1, 1, 1, 1, 1, 1, 1, 1,\n",
       "       1, 1, 1, 1, 1, 1, 1, 1, 1, 1, 1, 1, 1, 1, 1, 1, 1, 1, 1, 1, 1, 1,\n",
       "       1, 1, 1, 1, 1, 1, 1, 1, 1, 1, 1, 1, 2, 2, 2, 2, 2, 2, 2, 2, 2, 2,\n",
       "       2, 2, 2, 2, 2, 2, 2, 2, 2, 2, 2, 2, 2, 2, 2, 2, 2, 2, 2, 2, 2, 2,\n",
       "       2, 2, 2, 2, 2, 2, 2, 2, 2, 2, 2, 2, 2, 2, 2, 2, 2, 2])"
      ]
     },
     "execution_count": 10,
     "metadata": {},
     "output_type": "execute_result"
    }
   ],
   "source": [
    "# features\n",
    "x = data['data']\n",
    "# label\n",
    "y = data['target']\n",
    "\n",
    "# sanity check\n",
    "y"
   ]
  },
  {
   "cell_type": "code",
   "execution_count": 11,
   "metadata": {},
   "outputs": [
    {
     "data": {
      "text/plain": [
       "array([[5.1, 3.5, 1.4, 0.2],\n",
       "       [4.9, 3. , 1.4, 0.2],\n",
       "       [4.7, 3.2, 1.3, 0.2],\n",
       "       [4.6, 3.1, 1.5, 0.2],\n",
       "       [5. , 3.6, 1.4, 0.2]])"
      ]
     },
     "execution_count": 11,
     "metadata": {},
     "output_type": "execute_result"
    }
   ],
   "source": [
    "# explore feature data\n",
    "x[:5]"
   ]
  },
  {
   "cell_type": "markdown",
   "metadata": {},
   "source": [
    "<br>\n",
    "\n",
    "**Data visualization: Scatter plot with selection histogram using [Altair](https://altair-viz.github.io/index.html) (Optional)**"
   ]
  },
  {
   "cell_type": "code",
   "execution_count": 12,
   "metadata": {},
   "outputs": [],
   "source": [
    "# grammar of graphics plotting lib\n",
    "import altair as alt"
   ]
  },
  {
   "cell_type": "code",
   "execution_count": 13,
   "metadata": {},
   "outputs": [],
   "source": [
    "# convert Bunch to DataFrame for easier plotting using numpy and pandas\n",
    "df = pd.DataFrame(data = np.c_[data['data'], data['target']],\n",
    "                  columns = data['feature_names'] + ['target'])"
   ]
  },
  {
   "cell_type": "code",
   "execution_count": 14,
   "metadata": {},
   "outputs": [
    {
     "data": {
      "text/plain": [
       "Index(['sepal length (cm)', 'sepal width (cm)', 'petal length (cm)',\n",
       "       'petal width (cm)', 'target'],\n",
       "      dtype='object')"
      ]
     },
     "execution_count": 14,
     "metadata": {},
     "output_type": "execute_result"
    }
   ],
   "source": [
    "# sanity check\n",
    "df.columns"
   ]
  },
  {
   "cell_type": "code",
   "execution_count": 15,
   "metadata": {},
   "outputs": [],
   "source": [
    "# create selection brush (Interactive visualization selection event)\n",
    "brush = alt.selection(type='interval')"
   ]
  },
  {
   "cell_type": "code",
   "execution_count": 16,
   "metadata": {},
   "outputs": [],
   "source": [
    "# plot multifeature scatterplot and histogram\n",
    "scatter = alt.Chart(df).mark_circle().encode(\n",
    "    alt.X('sepal length (cm)', scale=alt.Scale(zero=False)),\n",
    "    alt.Y('sepal width (cm)', scale=alt.Scale(zero=False, padding=1)),\n",
    "    size='sepal width (cm)',\n",
    "    color=alt.condition(brush, 'target:N', alt.value('lightgray'))\n",
    ").add_selection(\n",
    "    brush\n",
    ")\n",
    "\n",
    "hbars = alt.Chart(df).mark_bar().encode(\n",
    "    y='target:N',\n",
    "    color='target:N',\n",
    "    x='count(target):Q'\n",
    ").transform_filter(\n",
    "    brush\n",
    ")"
   ]
  },
  {
   "cell_type": "code",
   "execution_count": 17,
   "metadata": {},
   "outputs": [
    {
     "data": {
      "text/html": [
       "\n",
       "<div id=\"altair-viz-aadf86ac9b854bdf99da60b1b726baac\"></div>\n",
       "<script type=\"text/javascript\">\n",
       "  (function(spec, embedOpt){\n",
       "    const outputDiv = document.getElementById(\"altair-viz-aadf86ac9b854bdf99da60b1b726baac\");\n",
       "    const paths = {\n",
       "      \"vega\": \"https://cdn.jsdelivr.net/npm//vega@5?noext\",\n",
       "      \"vega-lib\": \"https://cdn.jsdelivr.net/npm//vega-lib?noext\",\n",
       "      \"vega-lite\": \"https://cdn.jsdelivr.net/npm//vega-lite@4.0.2?noext\",\n",
       "      \"vega-embed\": \"https://cdn.jsdelivr.net/npm//vega-embed@6?noext\",\n",
       "    };\n",
       "\n",
       "    function loadScript(lib) {\n",
       "      return new Promise(function(resolve, reject) {\n",
       "        var s = document.createElement('script');\n",
       "        s.src = paths[lib];\n",
       "        s.async = true;\n",
       "        s.onload = () => resolve(paths[lib]);\n",
       "        s.onerror = () => reject(`Error loading script: ${paths[lib]}`);\n",
       "        document.getElementsByTagName(\"head\")[0].appendChild(s);\n",
       "      });\n",
       "    }\n",
       "\n",
       "    function showError(err) {\n",
       "      outputDiv.innerHTML = `<div class=\"error\" style=\"color:red;\">${err}</div>`;\n",
       "      throw err;\n",
       "    }\n",
       "\n",
       "    function displayChart(vegaEmbed) {\n",
       "      vegaEmbed(outputDiv, spec, embedOpt)\n",
       "        .catch(err => showError(`Javascript Error: ${err.message}<br>This usually means there's a typo in your chart specification. See the javascript console for the full traceback.`));\n",
       "    }\n",
       "\n",
       "    if(typeof define === \"function\" && define.amd) {\n",
       "      requirejs.config({paths});\n",
       "      require([\"vega-embed\"], displayChart, err => showError(`Error loading script: ${err.message}`));\n",
       "    } else if (typeof vegaEmbed === \"function\") {\n",
       "      displayChart(vegaEmbed);\n",
       "    } else {\n",
       "      loadScript(\"vega\")\n",
       "        .then(() => loadScript(\"vega-lite\"))\n",
       "        .then(() => loadScript(\"vega-embed\"))\n",
       "        .catch(showError)\n",
       "        .then(() => displayChart(vegaEmbed));\n",
       "    }\n",
       "  })({\"config\": {\"view\": {\"continuousWidth\": 400, \"continuousHeight\": 300}}, \"vconcat\": [{\"mark\": \"circle\", \"encoding\": {\"color\": {\"condition\": {\"type\": \"nominal\", \"field\": \"target\", \"selection\": \"selector001\"}, \"value\": \"lightgray\"}, \"size\": {\"type\": \"quantitative\", \"field\": \"sepal width (cm)\"}, \"x\": {\"type\": \"quantitative\", \"field\": \"sepal length (cm)\", \"scale\": {\"zero\": false}}, \"y\": {\"type\": \"quantitative\", \"field\": \"sepal width (cm)\", \"scale\": {\"padding\": 1, \"zero\": false}}}, \"selection\": {\"selector001\": {\"type\": \"interval\"}}}, {\"mark\": \"bar\", \"encoding\": {\"color\": {\"type\": \"nominal\", \"field\": \"target\"}, \"x\": {\"type\": \"quantitative\", \"aggregate\": \"count\", \"field\": \"target\"}, \"y\": {\"type\": \"nominal\", \"field\": \"target\"}}, \"transform\": [{\"filter\": {\"selection\": \"selector001\"}}]}], \"data\": {\"name\": \"data-99c9fb2c48f13f52830e6f95ea7cf985\"}, \"$schema\": \"https://vega.github.io/schema/vega-lite/v4.0.2.json\", \"datasets\": {\"data-99c9fb2c48f13f52830e6f95ea7cf985\": [{\"sepal length (cm)\": 5.1, \"sepal width (cm)\": 3.5, \"petal length (cm)\": 1.4, \"petal width (cm)\": 0.2, \"target\": 0.0}, {\"sepal length (cm)\": 4.9, \"sepal width (cm)\": 3.0, \"petal length (cm)\": 1.4, \"petal width (cm)\": 0.2, \"target\": 0.0}, {\"sepal length (cm)\": 4.7, \"sepal width (cm)\": 3.2, \"petal length (cm)\": 1.3, \"petal width (cm)\": 0.2, \"target\": 0.0}, {\"sepal length (cm)\": 4.6, \"sepal width (cm)\": 3.1, \"petal length (cm)\": 1.5, \"petal width (cm)\": 0.2, \"target\": 0.0}, {\"sepal length (cm)\": 5.0, \"sepal width (cm)\": 3.6, \"petal length (cm)\": 1.4, \"petal width (cm)\": 0.2, \"target\": 0.0}, {\"sepal length (cm)\": 5.4, \"sepal width (cm)\": 3.9, \"petal length (cm)\": 1.7, \"petal width (cm)\": 0.4, \"target\": 0.0}, {\"sepal length (cm)\": 4.6, \"sepal width (cm)\": 3.4, \"petal length (cm)\": 1.4, \"petal width (cm)\": 0.3, \"target\": 0.0}, {\"sepal length (cm)\": 5.0, \"sepal width (cm)\": 3.4, \"petal length (cm)\": 1.5, \"petal width (cm)\": 0.2, \"target\": 0.0}, {\"sepal length (cm)\": 4.4, \"sepal width (cm)\": 2.9, \"petal length (cm)\": 1.4, \"petal width (cm)\": 0.2, \"target\": 0.0}, {\"sepal length (cm)\": 4.9, \"sepal width (cm)\": 3.1, \"petal length (cm)\": 1.5, \"petal width (cm)\": 0.1, \"target\": 0.0}, {\"sepal length (cm)\": 5.4, \"sepal width (cm)\": 3.7, \"petal length (cm)\": 1.5, \"petal width (cm)\": 0.2, \"target\": 0.0}, {\"sepal length (cm)\": 4.8, \"sepal width (cm)\": 3.4, \"petal length (cm)\": 1.6, \"petal width (cm)\": 0.2, \"target\": 0.0}, {\"sepal length (cm)\": 4.8, \"sepal width (cm)\": 3.0, \"petal length (cm)\": 1.4, \"petal width (cm)\": 0.1, \"target\": 0.0}, {\"sepal length (cm)\": 4.3, \"sepal width (cm)\": 3.0, \"petal length (cm)\": 1.1, \"petal width (cm)\": 0.1, \"target\": 0.0}, {\"sepal length (cm)\": 5.8, \"sepal width (cm)\": 4.0, \"petal length (cm)\": 1.2, \"petal width (cm)\": 0.2, \"target\": 0.0}, {\"sepal length (cm)\": 5.7, \"sepal width (cm)\": 4.4, \"petal length (cm)\": 1.5, \"petal width (cm)\": 0.4, \"target\": 0.0}, {\"sepal length (cm)\": 5.4, \"sepal width (cm)\": 3.9, \"petal length (cm)\": 1.3, \"petal width (cm)\": 0.4, \"target\": 0.0}, {\"sepal length (cm)\": 5.1, \"sepal width (cm)\": 3.5, \"petal length (cm)\": 1.4, \"petal width (cm)\": 0.3, \"target\": 0.0}, {\"sepal length (cm)\": 5.7, \"sepal width (cm)\": 3.8, \"petal length (cm)\": 1.7, \"petal width (cm)\": 0.3, \"target\": 0.0}, {\"sepal length (cm)\": 5.1, \"sepal width (cm)\": 3.8, \"petal length (cm)\": 1.5, \"petal width (cm)\": 0.3, \"target\": 0.0}, {\"sepal length (cm)\": 5.4, \"sepal width (cm)\": 3.4, \"petal length (cm)\": 1.7, \"petal width (cm)\": 0.2, \"target\": 0.0}, {\"sepal length (cm)\": 5.1, \"sepal width (cm)\": 3.7, \"petal length (cm)\": 1.5, \"petal width (cm)\": 0.4, \"target\": 0.0}, {\"sepal length (cm)\": 4.6, \"sepal width (cm)\": 3.6, \"petal length (cm)\": 1.0, \"petal width (cm)\": 0.2, \"target\": 0.0}, {\"sepal length (cm)\": 5.1, \"sepal width (cm)\": 3.3, \"petal length (cm)\": 1.7, \"petal width (cm)\": 0.5, \"target\": 0.0}, {\"sepal length (cm)\": 4.8, \"sepal width (cm)\": 3.4, \"petal length (cm)\": 1.9, \"petal width (cm)\": 0.2, \"target\": 0.0}, {\"sepal length (cm)\": 5.0, \"sepal width (cm)\": 3.0, \"petal length (cm)\": 1.6, \"petal width (cm)\": 0.2, \"target\": 0.0}, {\"sepal length (cm)\": 5.0, \"sepal width (cm)\": 3.4, \"petal length (cm)\": 1.6, \"petal width (cm)\": 0.4, \"target\": 0.0}, {\"sepal length (cm)\": 5.2, \"sepal width (cm)\": 3.5, \"petal length (cm)\": 1.5, \"petal width (cm)\": 0.2, \"target\": 0.0}, {\"sepal length (cm)\": 5.2, \"sepal width (cm)\": 3.4, \"petal length (cm)\": 1.4, \"petal width (cm)\": 0.2, \"target\": 0.0}, {\"sepal length (cm)\": 4.7, \"sepal width (cm)\": 3.2, \"petal length (cm)\": 1.6, \"petal width (cm)\": 0.2, \"target\": 0.0}, {\"sepal length (cm)\": 4.8, \"sepal width (cm)\": 3.1, \"petal length (cm)\": 1.6, \"petal width (cm)\": 0.2, \"target\": 0.0}, {\"sepal length (cm)\": 5.4, \"sepal width (cm)\": 3.4, \"petal length (cm)\": 1.5, \"petal width (cm)\": 0.4, \"target\": 0.0}, {\"sepal length (cm)\": 5.2, \"sepal width (cm)\": 4.1, \"petal length (cm)\": 1.5, \"petal width (cm)\": 0.1, \"target\": 0.0}, {\"sepal length (cm)\": 5.5, \"sepal width (cm)\": 4.2, \"petal length (cm)\": 1.4, \"petal width (cm)\": 0.2, \"target\": 0.0}, {\"sepal length (cm)\": 4.9, \"sepal width (cm)\": 3.1, \"petal length (cm)\": 1.5, \"petal width (cm)\": 0.2, \"target\": 0.0}, {\"sepal length (cm)\": 5.0, \"sepal width (cm)\": 3.2, \"petal length (cm)\": 1.2, \"petal width (cm)\": 0.2, \"target\": 0.0}, {\"sepal length (cm)\": 5.5, \"sepal width (cm)\": 3.5, \"petal length (cm)\": 1.3, \"petal width (cm)\": 0.2, \"target\": 0.0}, {\"sepal length (cm)\": 4.9, \"sepal width (cm)\": 3.6, \"petal length (cm)\": 1.4, \"petal width (cm)\": 0.1, \"target\": 0.0}, {\"sepal length (cm)\": 4.4, \"sepal width (cm)\": 3.0, \"petal length (cm)\": 1.3, \"petal width (cm)\": 0.2, \"target\": 0.0}, {\"sepal length (cm)\": 5.1, \"sepal width (cm)\": 3.4, \"petal length (cm)\": 1.5, \"petal width (cm)\": 0.2, \"target\": 0.0}, {\"sepal length (cm)\": 5.0, \"sepal width (cm)\": 3.5, \"petal length (cm)\": 1.3, \"petal width (cm)\": 0.3, \"target\": 0.0}, {\"sepal length (cm)\": 4.5, \"sepal width (cm)\": 2.3, \"petal length (cm)\": 1.3, \"petal width (cm)\": 0.3, \"target\": 0.0}, {\"sepal length (cm)\": 4.4, \"sepal width (cm)\": 3.2, \"petal length (cm)\": 1.3, \"petal width (cm)\": 0.2, \"target\": 0.0}, {\"sepal length (cm)\": 5.0, \"sepal width (cm)\": 3.5, \"petal length (cm)\": 1.6, \"petal width (cm)\": 0.6, \"target\": 0.0}, {\"sepal length (cm)\": 5.1, \"sepal width (cm)\": 3.8, \"petal length (cm)\": 1.9, \"petal width (cm)\": 0.4, \"target\": 0.0}, {\"sepal length (cm)\": 4.8, \"sepal width (cm)\": 3.0, \"petal length (cm)\": 1.4, \"petal width (cm)\": 0.3, \"target\": 0.0}, {\"sepal length (cm)\": 5.1, \"sepal width (cm)\": 3.8, \"petal length (cm)\": 1.6, \"petal width (cm)\": 0.2, \"target\": 0.0}, {\"sepal length (cm)\": 4.6, \"sepal width (cm)\": 3.2, \"petal length (cm)\": 1.4, \"petal width (cm)\": 0.2, \"target\": 0.0}, {\"sepal length (cm)\": 5.3, \"sepal width (cm)\": 3.7, \"petal length (cm)\": 1.5, \"petal width (cm)\": 0.2, \"target\": 0.0}, {\"sepal length (cm)\": 5.0, \"sepal width (cm)\": 3.3, \"petal length (cm)\": 1.4, \"petal width (cm)\": 0.2, \"target\": 0.0}, {\"sepal length (cm)\": 7.0, \"sepal width (cm)\": 3.2, \"petal length (cm)\": 4.7, \"petal width (cm)\": 1.4, \"target\": 1.0}, {\"sepal length (cm)\": 6.4, \"sepal width (cm)\": 3.2, \"petal length (cm)\": 4.5, \"petal width (cm)\": 1.5, \"target\": 1.0}, {\"sepal length (cm)\": 6.9, \"sepal width (cm)\": 3.1, \"petal length (cm)\": 4.9, \"petal width (cm)\": 1.5, \"target\": 1.0}, {\"sepal length (cm)\": 5.5, \"sepal width (cm)\": 2.3, \"petal length (cm)\": 4.0, \"petal width (cm)\": 1.3, \"target\": 1.0}, {\"sepal length (cm)\": 6.5, \"sepal width (cm)\": 2.8, \"petal length (cm)\": 4.6, \"petal width (cm)\": 1.5, \"target\": 1.0}, {\"sepal length (cm)\": 5.7, \"sepal width (cm)\": 2.8, \"petal length (cm)\": 4.5, \"petal width (cm)\": 1.3, \"target\": 1.0}, {\"sepal length (cm)\": 6.3, \"sepal width (cm)\": 3.3, \"petal length (cm)\": 4.7, \"petal width (cm)\": 1.6, \"target\": 1.0}, {\"sepal length (cm)\": 4.9, \"sepal width (cm)\": 2.4, \"petal length (cm)\": 3.3, \"petal width (cm)\": 1.0, \"target\": 1.0}, {\"sepal length (cm)\": 6.6, \"sepal width (cm)\": 2.9, \"petal length (cm)\": 4.6, \"petal width (cm)\": 1.3, \"target\": 1.0}, {\"sepal length (cm)\": 5.2, \"sepal width (cm)\": 2.7, \"petal length (cm)\": 3.9, \"petal width (cm)\": 1.4, \"target\": 1.0}, {\"sepal length (cm)\": 5.0, \"sepal width (cm)\": 2.0, \"petal length (cm)\": 3.5, \"petal width (cm)\": 1.0, \"target\": 1.0}, {\"sepal length (cm)\": 5.9, \"sepal width (cm)\": 3.0, \"petal length (cm)\": 4.2, \"petal width (cm)\": 1.5, \"target\": 1.0}, {\"sepal length (cm)\": 6.0, \"sepal width (cm)\": 2.2, \"petal length (cm)\": 4.0, \"petal width (cm)\": 1.0, \"target\": 1.0}, {\"sepal length (cm)\": 6.1, \"sepal width (cm)\": 2.9, \"petal length (cm)\": 4.7, \"petal width (cm)\": 1.4, \"target\": 1.0}, {\"sepal length (cm)\": 5.6, \"sepal width (cm)\": 2.9, \"petal length (cm)\": 3.6, \"petal width (cm)\": 1.3, \"target\": 1.0}, {\"sepal length (cm)\": 6.7, \"sepal width (cm)\": 3.1, \"petal length (cm)\": 4.4, \"petal width (cm)\": 1.4, \"target\": 1.0}, {\"sepal length (cm)\": 5.6, \"sepal width (cm)\": 3.0, \"petal length (cm)\": 4.5, \"petal width (cm)\": 1.5, \"target\": 1.0}, {\"sepal length (cm)\": 5.8, \"sepal width (cm)\": 2.7, \"petal length (cm)\": 4.1, \"petal width (cm)\": 1.0, \"target\": 1.0}, {\"sepal length (cm)\": 6.2, \"sepal width (cm)\": 2.2, \"petal length (cm)\": 4.5, \"petal width (cm)\": 1.5, \"target\": 1.0}, {\"sepal length (cm)\": 5.6, \"sepal width (cm)\": 2.5, \"petal length (cm)\": 3.9, \"petal width (cm)\": 1.1, \"target\": 1.0}, {\"sepal length (cm)\": 5.9, \"sepal width (cm)\": 3.2, \"petal length (cm)\": 4.8, \"petal width (cm)\": 1.8, \"target\": 1.0}, {\"sepal length (cm)\": 6.1, \"sepal width (cm)\": 2.8, \"petal length (cm)\": 4.0, \"petal width (cm)\": 1.3, \"target\": 1.0}, {\"sepal length (cm)\": 6.3, \"sepal width (cm)\": 2.5, \"petal length (cm)\": 4.9, \"petal width (cm)\": 1.5, \"target\": 1.0}, {\"sepal length (cm)\": 6.1, \"sepal width (cm)\": 2.8, \"petal length (cm)\": 4.7, \"petal width (cm)\": 1.2, \"target\": 1.0}, {\"sepal length (cm)\": 6.4, \"sepal width (cm)\": 2.9, \"petal length (cm)\": 4.3, \"petal width (cm)\": 1.3, \"target\": 1.0}, {\"sepal length (cm)\": 6.6, \"sepal width (cm)\": 3.0, \"petal length (cm)\": 4.4, \"petal width (cm)\": 1.4, \"target\": 1.0}, {\"sepal length (cm)\": 6.8, \"sepal width (cm)\": 2.8, \"petal length (cm)\": 4.8, \"petal width (cm)\": 1.4, \"target\": 1.0}, {\"sepal length (cm)\": 6.7, \"sepal width (cm)\": 3.0, \"petal length (cm)\": 5.0, \"petal width (cm)\": 1.7, \"target\": 1.0}, {\"sepal length (cm)\": 6.0, \"sepal width (cm)\": 2.9, \"petal length (cm)\": 4.5, \"petal width (cm)\": 1.5, \"target\": 1.0}, {\"sepal length (cm)\": 5.7, \"sepal width (cm)\": 2.6, \"petal length (cm)\": 3.5, \"petal width (cm)\": 1.0, \"target\": 1.0}, {\"sepal length (cm)\": 5.5, \"sepal width (cm)\": 2.4, \"petal length (cm)\": 3.8, \"petal width (cm)\": 1.1, \"target\": 1.0}, {\"sepal length (cm)\": 5.5, \"sepal width (cm)\": 2.4, \"petal length (cm)\": 3.7, \"petal width (cm)\": 1.0, \"target\": 1.0}, {\"sepal length (cm)\": 5.8, \"sepal width (cm)\": 2.7, \"petal length (cm)\": 3.9, \"petal width (cm)\": 1.2, \"target\": 1.0}, {\"sepal length (cm)\": 6.0, \"sepal width (cm)\": 2.7, \"petal length (cm)\": 5.1, \"petal width (cm)\": 1.6, \"target\": 1.0}, {\"sepal length (cm)\": 5.4, \"sepal width (cm)\": 3.0, \"petal length (cm)\": 4.5, \"petal width (cm)\": 1.5, \"target\": 1.0}, {\"sepal length (cm)\": 6.0, \"sepal width (cm)\": 3.4, \"petal length (cm)\": 4.5, \"petal width (cm)\": 1.6, \"target\": 1.0}, {\"sepal length (cm)\": 6.7, \"sepal width (cm)\": 3.1, \"petal length (cm)\": 4.7, \"petal width (cm)\": 1.5, \"target\": 1.0}, {\"sepal length (cm)\": 6.3, \"sepal width (cm)\": 2.3, \"petal length (cm)\": 4.4, \"petal width (cm)\": 1.3, \"target\": 1.0}, {\"sepal length (cm)\": 5.6, \"sepal width (cm)\": 3.0, \"petal length (cm)\": 4.1, \"petal width (cm)\": 1.3, \"target\": 1.0}, {\"sepal length (cm)\": 5.5, \"sepal width (cm)\": 2.5, \"petal length (cm)\": 4.0, \"petal width (cm)\": 1.3, \"target\": 1.0}, {\"sepal length (cm)\": 5.5, \"sepal width (cm)\": 2.6, \"petal length (cm)\": 4.4, \"petal width (cm)\": 1.2, \"target\": 1.0}, {\"sepal length (cm)\": 6.1, \"sepal width (cm)\": 3.0, \"petal length (cm)\": 4.6, \"petal width (cm)\": 1.4, \"target\": 1.0}, {\"sepal length (cm)\": 5.8, \"sepal width (cm)\": 2.6, \"petal length (cm)\": 4.0, \"petal width (cm)\": 1.2, \"target\": 1.0}, {\"sepal length (cm)\": 5.0, \"sepal width (cm)\": 2.3, \"petal length (cm)\": 3.3, \"petal width (cm)\": 1.0, \"target\": 1.0}, {\"sepal length (cm)\": 5.6, \"sepal width (cm)\": 2.7, \"petal length (cm)\": 4.2, \"petal width (cm)\": 1.3, \"target\": 1.0}, {\"sepal length (cm)\": 5.7, \"sepal width (cm)\": 3.0, \"petal length (cm)\": 4.2, \"petal width (cm)\": 1.2, \"target\": 1.0}, {\"sepal length (cm)\": 5.7, \"sepal width (cm)\": 2.9, \"petal length (cm)\": 4.2, \"petal width (cm)\": 1.3, \"target\": 1.0}, {\"sepal length (cm)\": 6.2, \"sepal width (cm)\": 2.9, \"petal length (cm)\": 4.3, \"petal width (cm)\": 1.3, \"target\": 1.0}, {\"sepal length (cm)\": 5.1, \"sepal width (cm)\": 2.5, \"petal length (cm)\": 3.0, \"petal width (cm)\": 1.1, \"target\": 1.0}, {\"sepal length (cm)\": 5.7, \"sepal width (cm)\": 2.8, \"petal length (cm)\": 4.1, \"petal width (cm)\": 1.3, \"target\": 1.0}, {\"sepal length (cm)\": 6.3, \"sepal width (cm)\": 3.3, \"petal length (cm)\": 6.0, \"petal width (cm)\": 2.5, \"target\": 2.0}, {\"sepal length (cm)\": 5.8, \"sepal width (cm)\": 2.7, \"petal length (cm)\": 5.1, \"petal width (cm)\": 1.9, \"target\": 2.0}, {\"sepal length (cm)\": 7.1, \"sepal width (cm)\": 3.0, \"petal length (cm)\": 5.9, \"petal width (cm)\": 2.1, \"target\": 2.0}, {\"sepal length (cm)\": 6.3, \"sepal width (cm)\": 2.9, \"petal length (cm)\": 5.6, \"petal width (cm)\": 1.8, \"target\": 2.0}, {\"sepal length (cm)\": 6.5, \"sepal width (cm)\": 3.0, \"petal length (cm)\": 5.8, \"petal width (cm)\": 2.2, \"target\": 2.0}, {\"sepal length (cm)\": 7.6, \"sepal width (cm)\": 3.0, \"petal length (cm)\": 6.6, \"petal width (cm)\": 2.1, \"target\": 2.0}, {\"sepal length (cm)\": 4.9, \"sepal width (cm)\": 2.5, \"petal length (cm)\": 4.5, \"petal width (cm)\": 1.7, \"target\": 2.0}, {\"sepal length (cm)\": 7.3, \"sepal width (cm)\": 2.9, \"petal length (cm)\": 6.3, \"petal width (cm)\": 1.8, \"target\": 2.0}, {\"sepal length (cm)\": 6.7, \"sepal width (cm)\": 2.5, \"petal length (cm)\": 5.8, \"petal width (cm)\": 1.8, \"target\": 2.0}, {\"sepal length (cm)\": 7.2, \"sepal width (cm)\": 3.6, \"petal length (cm)\": 6.1, \"petal width (cm)\": 2.5, \"target\": 2.0}, {\"sepal length (cm)\": 6.5, \"sepal width (cm)\": 3.2, \"petal length (cm)\": 5.1, \"petal width (cm)\": 2.0, \"target\": 2.0}, {\"sepal length (cm)\": 6.4, \"sepal width (cm)\": 2.7, \"petal length (cm)\": 5.3, \"petal width (cm)\": 1.9, \"target\": 2.0}, {\"sepal length (cm)\": 6.8, \"sepal width (cm)\": 3.0, \"petal length (cm)\": 5.5, \"petal width (cm)\": 2.1, \"target\": 2.0}, {\"sepal length (cm)\": 5.7, \"sepal width (cm)\": 2.5, \"petal length (cm)\": 5.0, \"petal width (cm)\": 2.0, \"target\": 2.0}, {\"sepal length (cm)\": 5.8, \"sepal width (cm)\": 2.8, \"petal length (cm)\": 5.1, \"petal width (cm)\": 2.4, \"target\": 2.0}, {\"sepal length (cm)\": 6.4, \"sepal width (cm)\": 3.2, \"petal length (cm)\": 5.3, \"petal width (cm)\": 2.3, \"target\": 2.0}, {\"sepal length (cm)\": 6.5, \"sepal width (cm)\": 3.0, \"petal length (cm)\": 5.5, \"petal width (cm)\": 1.8, \"target\": 2.0}, {\"sepal length (cm)\": 7.7, \"sepal width (cm)\": 3.8, \"petal length (cm)\": 6.7, \"petal width (cm)\": 2.2, \"target\": 2.0}, {\"sepal length (cm)\": 7.7, \"sepal width (cm)\": 2.6, \"petal length (cm)\": 6.9, \"petal width (cm)\": 2.3, \"target\": 2.0}, {\"sepal length (cm)\": 6.0, \"sepal width (cm)\": 2.2, \"petal length (cm)\": 5.0, \"petal width (cm)\": 1.5, \"target\": 2.0}, {\"sepal length (cm)\": 6.9, \"sepal width (cm)\": 3.2, \"petal length (cm)\": 5.7, \"petal width (cm)\": 2.3, \"target\": 2.0}, {\"sepal length (cm)\": 5.6, \"sepal width (cm)\": 2.8, \"petal length (cm)\": 4.9, \"petal width (cm)\": 2.0, \"target\": 2.0}, {\"sepal length (cm)\": 7.7, \"sepal width (cm)\": 2.8, \"petal length (cm)\": 6.7, \"petal width (cm)\": 2.0, \"target\": 2.0}, {\"sepal length (cm)\": 6.3, \"sepal width (cm)\": 2.7, \"petal length (cm)\": 4.9, \"petal width (cm)\": 1.8, \"target\": 2.0}, {\"sepal length (cm)\": 6.7, \"sepal width (cm)\": 3.3, \"petal length (cm)\": 5.7, \"petal width (cm)\": 2.1, \"target\": 2.0}, {\"sepal length (cm)\": 7.2, \"sepal width (cm)\": 3.2, \"petal length (cm)\": 6.0, \"petal width (cm)\": 1.8, \"target\": 2.0}, {\"sepal length (cm)\": 6.2, \"sepal width (cm)\": 2.8, \"petal length (cm)\": 4.8, \"petal width (cm)\": 1.8, \"target\": 2.0}, {\"sepal length (cm)\": 6.1, \"sepal width (cm)\": 3.0, \"petal length (cm)\": 4.9, \"petal width (cm)\": 1.8, \"target\": 2.0}, {\"sepal length (cm)\": 6.4, \"sepal width (cm)\": 2.8, \"petal length (cm)\": 5.6, \"petal width (cm)\": 2.1, \"target\": 2.0}, {\"sepal length (cm)\": 7.2, \"sepal width (cm)\": 3.0, \"petal length (cm)\": 5.8, \"petal width (cm)\": 1.6, \"target\": 2.0}, {\"sepal length (cm)\": 7.4, \"sepal width (cm)\": 2.8, \"petal length (cm)\": 6.1, \"petal width (cm)\": 1.9, \"target\": 2.0}, {\"sepal length (cm)\": 7.9, \"sepal width (cm)\": 3.8, \"petal length (cm)\": 6.4, \"petal width (cm)\": 2.0, \"target\": 2.0}, {\"sepal length (cm)\": 6.4, \"sepal width (cm)\": 2.8, \"petal length (cm)\": 5.6, \"petal width (cm)\": 2.2, \"target\": 2.0}, {\"sepal length (cm)\": 6.3, \"sepal width (cm)\": 2.8, \"petal length (cm)\": 5.1, \"petal width (cm)\": 1.5, \"target\": 2.0}, {\"sepal length (cm)\": 6.1, \"sepal width (cm)\": 2.6, \"petal length (cm)\": 5.6, \"petal width (cm)\": 1.4, \"target\": 2.0}, {\"sepal length (cm)\": 7.7, \"sepal width (cm)\": 3.0, \"petal length (cm)\": 6.1, \"petal width (cm)\": 2.3, \"target\": 2.0}, {\"sepal length (cm)\": 6.3, \"sepal width (cm)\": 3.4, \"petal length (cm)\": 5.6, \"petal width (cm)\": 2.4, \"target\": 2.0}, {\"sepal length (cm)\": 6.4, \"sepal width (cm)\": 3.1, \"petal length (cm)\": 5.5, \"petal width (cm)\": 1.8, \"target\": 2.0}, {\"sepal length (cm)\": 6.0, \"sepal width (cm)\": 3.0, \"petal length (cm)\": 4.8, \"petal width (cm)\": 1.8, \"target\": 2.0}, {\"sepal length (cm)\": 6.9, \"sepal width (cm)\": 3.1, \"petal length (cm)\": 5.4, \"petal width (cm)\": 2.1, \"target\": 2.0}, {\"sepal length (cm)\": 6.7, \"sepal width (cm)\": 3.1, \"petal length (cm)\": 5.6, \"petal width (cm)\": 2.4, \"target\": 2.0}, {\"sepal length (cm)\": 6.9, \"sepal width (cm)\": 3.1, \"petal length (cm)\": 5.1, \"petal width (cm)\": 2.3, \"target\": 2.0}, {\"sepal length (cm)\": 5.8, \"sepal width (cm)\": 2.7, \"petal length (cm)\": 5.1, \"petal width (cm)\": 1.9, \"target\": 2.0}, {\"sepal length (cm)\": 6.8, \"sepal width (cm)\": 3.2, \"petal length (cm)\": 5.9, \"petal width (cm)\": 2.3, \"target\": 2.0}, {\"sepal length (cm)\": 6.7, \"sepal width (cm)\": 3.3, \"petal length (cm)\": 5.7, \"petal width (cm)\": 2.5, \"target\": 2.0}, {\"sepal length (cm)\": 6.7, \"sepal width (cm)\": 3.0, \"petal length (cm)\": 5.2, \"petal width (cm)\": 2.3, \"target\": 2.0}, {\"sepal length (cm)\": 6.3, \"sepal width (cm)\": 2.5, \"petal length (cm)\": 5.0, \"petal width (cm)\": 1.9, \"target\": 2.0}, {\"sepal length (cm)\": 6.5, \"sepal width (cm)\": 3.0, \"petal length (cm)\": 5.2, \"petal width (cm)\": 2.0, \"target\": 2.0}, {\"sepal length (cm)\": 6.2, \"sepal width (cm)\": 3.4, \"petal length (cm)\": 5.4, \"petal width (cm)\": 2.3, \"target\": 2.0}, {\"sepal length (cm)\": 5.9, \"sepal width (cm)\": 3.0, \"petal length (cm)\": 5.1, \"petal width (cm)\": 1.8, \"target\": 2.0}]}}, {\"mode\": \"vega-lite\"});\n",
       "</script>"
      ],
      "text/plain": [
       "alt.VConcatChart(...)"
      ]
     },
     "execution_count": 17,
     "metadata": {},
     "output_type": "execute_result"
    }
   ],
   "source": [
    "# display linked scatter and horizontal plot\n",
    "### USER: select section of interest \n",
    "scatter & hbars"
   ]
  },
  {
   "cell_type": "markdown",
   "metadata": {},
   "source": [
    "<br>\n",
    "\n",
    "**Convert numerical classes to one-hot encoding**"
   ]
  },
  {
   "cell_type": "code",
   "execution_count": 18,
   "metadata": {},
   "outputs": [
    {
     "data": {
      "text/plain": [
       "array([[1, 0, 0],\n",
       "       [1, 0, 0],\n",
       "       [1, 0, 0],\n",
       "       [1, 0, 0],\n",
       "       [1, 0, 0]], dtype=uint8)"
      ]
     },
     "execution_count": 18,
     "metadata": {},
     "output_type": "execute_result"
    }
   ],
   "source": [
    "# one hot encode y\n",
    "import pandas as pd\n",
    "\n",
    "y = pd.get_dummies(y).values\n",
    "y[:5,:]"
   ]
  },
  {
   "cell_type": "markdown",
   "metadata": {},
   "source": [
    "___\n",
    "\n",
    "**Note:** [One-hot Encoding](https://en.wikipedia.org/wiki/One-hot) is a widespread approach for dealing with categorial variables containing a few distinct values -- e.g. less than 15. This is because one-hot encoding creates for each unique categorical value within a feature it's very own new binary column. This new column yields all entries of 0s unless it is the unique value.  For more info see `pd.get_dummies( )`, [here](https://pandas.pydata.org/pandas-docs/stable/reference/api/pandas.get_dummies.html). \n",
    "___"
   ]
  },
  {
   "cell_type": "markdown",
   "metadata": {},
   "source": [
    "<br>\n",
    "\n",
    "**Split Training and Testing Data**"
   ]
  },
  {
   "cell_type": "code",
   "execution_count": 19,
   "metadata": {},
   "outputs": [
    {
     "name": "stdout",
     "output_type": "stream",
     "text": [
      "(90, 4)\n",
      "(90, 3)\n",
      "(60, 4)\n"
     ]
    }
   ],
   "source": [
    "# train test split, plus randomize\n",
    "from sklearn.model_selection import train_test_split\n",
    "\n",
    "X_train, X_test, y_train, y_test = train_test_split(x, \n",
    "                                                    y, test_size=0.4,\n",
    "                                                    random_state=1337,\n",
    "                                                   shuffle=True)\n",
    "\n",
    "print(X_train.shape)\n",
    "print(y_train.shape)\n",
    "print(X_test.shape)"
   ]
  },
  {
   "cell_type": "markdown",
   "metadata": {},
   "source": [
    "<br>\n",
    "\n",
    "#### **The Sequential model**\n",
    "\n",
    "___\n",
    "\n",
    "\n",
    "The simplest model in Keras is the [Sequential model](https://keras.io/guides/sequential_model/), which is a linear stack of layers. In Keras, you assemble layers to build models. A model is (usually) a graph of layers. The most common type of model is a stack of layers: that is, the `tf.keras.Sequential` model. \n",
    "\n",
    "<br>\n",
    "\n",
    "**KEY TAKEAWAYS:**\n",
    "\n",
    "1) **Sequential model** - Allows us to build NNs like legos, by adding one layer on top of the other, and swapping layers.<br>\n",
    "2) Core data structure in Keras is a model -- a model is an object in which we organize layers.<br>\n",
    "2) A Sequential model is appropriate for a plain stack of layers where each layer has exactly one input tensor and one output tensor.<br>\n",
    "3) A Sequential model is not appropriate when:<br> \n",
    "> 1. Your model has multiple inputs or multiple outputs.<br>\n",
    "> 2. Any of your layers has multiple inputs or multiple outputs.<br>\n",
    "> 3. Your model requires layer sharing.<br>\n",
    "> 4. You want to model non-linear topology (e.g. a residual connection, a multi-branch model).\n",
    "\n",
    "___"
   ]
  },
  {
   "cell_type": "markdown",
   "metadata": {},
   "source": [
    "<br>\n",
    "\n",
    "**Definition Phase**"
   ]
  },
  {
   "cell_type": "code",
   "execution_count": 20,
   "metadata": {},
   "outputs": [],
   "source": [
    "# model initialization\n",
    "from tensorflow.keras.models import Sequential\n",
    "\n",
    "# instantiate empty Sequential model\n",
    "model = Sequential() "
   ]
  },
  {
   "cell_type": "markdown",
   "metadata": {},
   "source": [
    "___\n",
    "\n",
    "**Specifying the Input Shape**\n",
    "\n",
    "In generaly, we can import layer classes and stack layers (in an NN model for example), by using `.add()`. Model needs to know what input shape it should expect. For this reason, the first layer in a  Sequential model needs to receive information about its input shape.\n",
    "\n",
    "<br>\n",
    "\n",
    "The following snippets are strictly equivalent:\n",
    "> * `model.add(Dense(32, input_shape=(784,)))`\n",
    "> * `model.add(Dense(32, input_dim=784))`\n",
    "\n",
    "___"
   ]
  },
  {
   "cell_type": "markdown",
   "metadata": {},
   "source": [
    "<br>\n",
    "\n",
    "**Construction Phase**"
   ]
  },
  {
   "cell_type": "code",
   "execution_count": 21,
   "metadata": {},
   "outputs": [],
   "source": [
    "# model contruction (architecture build computational graph)\n",
    "from tensorflow.keras.layers import Dense\n",
    "\n",
    "model.add(Dense(units=64, activation='relu', \\\n",
    "                 input_shape=(4,) ))\n",
    "\n",
    "model.add(Dense(units=3, activation='softmax') )"
   ]
  },
  {
   "cell_type": "markdown",
   "metadata": {},
   "source": [
    "___\n",
    "\n",
    "**Specifying the Learning Process**\n",
    "\n",
    "Before training a model, you need to configure the learning process, which is done via the [compile method](https://keras.io/api/models/model_training_apis/) -- `.compile()`. \n",
    "\n",
    "`.compile` receives at least the following three arguments:\n",
    "\n",
    "> 1) A [**loss**](https://keras.io/api/losses/) function - This is the objective that the model will try to minimize. It can be the string identifier of an existing loss function (such as `categorical_crossentropy` or `mse`), or it can be an objective function.<br>\n",
    "> 2) An [**optimizer**](https://keras.io/api/optimizers/) - This could be the string identifier of an existing optimizer (such as `rmsprop`, `gradientdescent`, or `adam`), or an instance of the Optimizer class.<br>\n",
    "> 3) A list of [**metrics**](https://keras.io/api/metrics/) (optional) -  For any classification problem you will want to set this to `metrics=['accuracy']`. A metric could be the string identifier of an existing metric or a custom metric function.\n",
    "\n",
    "\n",
    "<br>\n",
    "\n",
    "**Note:** We can also specify our own optimizer or loss function (even build it ourselves)\n",
    "\n",
    "```python\n",
    "# building our own optimizer with SGD\n",
    "from tensorflow.keras.optimizers import SGD\n",
    "\n",
    "model.compile(loss = 'categorical_crossentropy',\n",
    "             optimizer = SGD(lr=0.001, momentum = 0.9, nesterov=True),\n",
    "             metrics = ['accuracy'])\n",
    "```\n",
    "\n",
    "<br>\n",
    "\n",
    ">**Different Optimizers and Their Trade-Offs**<br>\n",
    ">To read more about gradient descent optimizers, hyperparameters, etc. You can find some recommended reading, [here](http://ruder.io/optimizing-gradient-descent/index.html).\n",
    "\n",
    "___\n"
   ]
  },
  {
   "cell_type": "markdown",
   "metadata": {},
   "source": [
    "<br>\n",
    "\n",
    "**Compilation Phase**"
   ]
  },
  {
   "cell_type": "code",
   "execution_count": 22,
   "metadata": {},
   "outputs": [],
   "source": [
    "model.compile(loss = 'categorical_crossentropy',\n",
    "              optimizer = 'adam',\n",
    "              metrics = ['accuracy'])"
   ]
  },
  {
   "cell_type": "markdown",
   "metadata": {},
   "source": [
    "<br>\n",
    "\n",
    "**TensorBoard Callbacks**"
   ]
  },
  {
   "cell_type": "code",
   "execution_count": 23,
   "metadata": {},
   "outputs": [],
   "source": [
    "## Clear any logs from previous runs ##\n",
    "!rm -rf ./logs/"
   ]
  },
  {
   "cell_type": "code",
   "execution_count": 24,
   "metadata": {},
   "outputs": [],
   "source": [
    "# place logs in a timestamped subdirectory and enable visualization of every epoch\n",
    "log_dir = \"logs/iris/\" + datetime.now().strftime(\"%Y%m%d-%H%M%S\")\n",
    "tensorboard_callback = tf.keras.callbacks.TensorBoard(log_dir=log_dir, histogram_freq=1)\n",
    "\n",
    "# Early stopping: the patience parameter is the amount of epochs to check for improvement\n",
    "early_stop = keras.callbacks.EarlyStopping(monitor='val_loss', patience=10)"
   ]
  },
  {
   "cell_type": "markdown",
   "metadata": {},
   "source": [
    "<br>\n",
    "\n",
    "**Training Phase**"
   ]
  },
  {
   "cell_type": "code",
   "execution_count": 25,
   "metadata": {},
   "outputs": [
    {
     "name": "stdout",
     "output_type": "stream",
     "text": [
      "Epoch 1/50\n",
      "1/3 [=========>....................] - ETA: 0s - loss: 1.3809 - accuracy: 0.4375WARNING:tensorflow:From /home/ehch/anaconda3/lib/python3.6/site-packages/tensorflow/python/ops/summary_ops_v2.py:1277: stop (from tensorflow.python.eager.profiler) is deprecated and will be removed after 2020-07-01.\n",
      "Instructions for updating:\n",
      "use `tf.profiler.experimental.stop` instead.\n",
      "WARNING:tensorflow:Callbacks method `on_train_batch_end` is slow compared to the batch time (batch time: 0.0020s vs `on_train_batch_end` time: 0.0130s). Check your callbacks.\n",
      "3/3 [==============================] - 1s 178ms/step - loss: 1.4510 - accuracy: 0.3778 - val_loss: 1.5584 - val_accuracy: 0.2667\n",
      "Epoch 2/50\n",
      "3/3 [==============================] - 0s 18ms/step - loss: 1.3872 - accuracy: 0.3778 - val_loss: 1.5033 - val_accuracy: 0.2000\n",
      "Epoch 3/50\n",
      "3/3 [==============================] - 0s 18ms/step - loss: 1.3296 - accuracy: 0.1000 - val_loss: 1.4623 - val_accuracy: 0.0500\n",
      "Epoch 4/50\n",
      "3/3 [==============================] - 0s 21ms/step - loss: 1.3045 - accuracy: 0.0778 - val_loss: 1.4232 - val_accuracy: 0.1167\n",
      "Epoch 5/50\n",
      "3/3 [==============================] - 0s 27ms/step - loss: 1.2669 - accuracy: 0.1222 - val_loss: 1.3809 - val_accuracy: 0.1000\n",
      "Epoch 6/50\n",
      "3/3 [==============================] - 0s 29ms/step - loss: 1.2322 - accuracy: 0.1000 - val_loss: 1.3354 - val_accuracy: 0.0333\n",
      "Epoch 7/50\n",
      "3/3 [==============================] - 0s 22ms/step - loss: 1.2001 - accuracy: 0.0556 - val_loss: 1.2933 - val_accuracy: 0.0500\n",
      "Epoch 8/50\n",
      "3/3 [==============================] - 0s 19ms/step - loss: 1.1711 - accuracy: 0.0667 - val_loss: 1.2478 - val_accuracy: 0.0833\n",
      "Epoch 9/50\n",
      "3/3 [==============================] - 0s 28ms/step - loss: 1.1436 - accuracy: 0.1556 - val_loss: 1.2074 - val_accuracy: 0.1667\n",
      "Epoch 10/50\n",
      "3/3 [==============================] - 0s 19ms/step - loss: 1.1176 - accuracy: 0.2111 - val_loss: 1.1700 - val_accuracy: 0.1667\n",
      "Epoch 11/50\n",
      "3/3 [==============================] - 0s 32ms/step - loss: 1.0918 - accuracy: 0.2111 - val_loss: 1.1351 - val_accuracy: 0.0833\n",
      "Epoch 12/50\n",
      "3/3 [==============================] - 0s 24ms/step - loss: 1.0667 - accuracy: 0.1111 - val_loss: 1.1035 - val_accuracy: 0.0833\n",
      "Epoch 13/50\n",
      "3/3 [==============================] - 0s 20ms/step - loss: 1.0446 - accuracy: 0.0778 - val_loss: 1.0730 - val_accuracy: 0.0500\n",
      "Epoch 14/50\n",
      "3/3 [==============================] - 0s 30ms/step - loss: 1.0249 - accuracy: 0.1000 - val_loss: 1.0455 - val_accuracy: 0.1000\n",
      "Epoch 15/50\n",
      "3/3 [==============================] - 0s 21ms/step - loss: 1.0064 - accuracy: 0.1778 - val_loss: 1.0172 - val_accuracy: 0.1333\n",
      "Epoch 16/50\n",
      "3/3 [==============================] - 0s 23ms/step - loss: 0.9845 - accuracy: 0.1556 - val_loss: 0.9898 - val_accuracy: 0.1000\n",
      "Epoch 17/50\n",
      "3/3 [==============================] - 0s 30ms/step - loss: 0.9640 - accuracy: 0.1000 - val_loss: 0.9689 - val_accuracy: 0.1167\n",
      "Epoch 18/50\n",
      "3/3 [==============================] - 0s 21ms/step - loss: 0.9437 - accuracy: 0.1111 - val_loss: 0.9461 - val_accuracy: 0.2667\n",
      "Epoch 19/50\n",
      "3/3 [==============================] - 0s 29ms/step - loss: 0.9262 - accuracy: 0.2778 - val_loss: 0.9223 - val_accuracy: 0.4667\n",
      "Epoch 20/50\n",
      "3/3 [==============================] - 0s 25ms/step - loss: 0.9088 - accuracy: 0.4444 - val_loss: 0.8987 - val_accuracy: 0.5333\n",
      "Epoch 21/50\n",
      "3/3 [==============================] - 0s 29ms/step - loss: 0.8919 - accuracy: 0.4000 - val_loss: 0.8759 - val_accuracy: 0.5333\n",
      "Epoch 22/50\n",
      "3/3 [==============================] - 0s 32ms/step - loss: 0.8741 - accuracy: 0.4111 - val_loss: 0.8555 - val_accuracy: 0.5833\n",
      "Epoch 23/50\n",
      "3/3 [==============================] - 0s 31ms/step - loss: 0.8580 - accuracy: 0.4333 - val_loss: 0.8351 - val_accuracy: 0.6000\n",
      "Epoch 24/50\n",
      "3/3 [==============================] - 0s 24ms/step - loss: 0.8427 - accuracy: 0.4444 - val_loss: 0.8143 - val_accuracy: 0.6333\n",
      "Epoch 25/50\n",
      "3/3 [==============================] - 0s 29ms/step - loss: 0.8263 - accuracy: 0.5000 - val_loss: 0.7967 - val_accuracy: 0.6667\n",
      "Epoch 26/50\n",
      "3/3 [==============================] - 0s 26ms/step - loss: 0.8125 - accuracy: 0.5444 - val_loss: 0.7779 - val_accuracy: 0.7000\n",
      "Epoch 27/50\n",
      "3/3 [==============================] - 0s 35ms/step - loss: 0.7972 - accuracy: 0.6000 - val_loss: 0.7614 - val_accuracy: 0.7000\n",
      "Epoch 28/50\n",
      "3/3 [==============================] - 0s 28ms/step - loss: 0.7836 - accuracy: 0.6556 - val_loss: 0.7442 - val_accuracy: 0.7333\n",
      "Epoch 29/50\n",
      "3/3 [==============================] - 0s 34ms/step - loss: 0.7730 - accuracy: 0.6222 - val_loss: 0.7247 - val_accuracy: 0.7333\n",
      "Epoch 30/50\n",
      "3/3 [==============================] - 0s 27ms/step - loss: 0.7573 - accuracy: 0.6222 - val_loss: 0.7093 - val_accuracy: 0.7500\n",
      "Epoch 31/50\n",
      "3/3 [==============================] - 0s 33ms/step - loss: 0.7438 - accuracy: 0.6444 - val_loss: 0.6956 - val_accuracy: 0.7833\n",
      "Epoch 32/50\n",
      "3/3 [==============================] - 0s 31ms/step - loss: 0.7319 - accuracy: 0.7333 - val_loss: 0.6809 - val_accuracy: 0.8667\n",
      "Epoch 33/50\n",
      "3/3 [==============================] - 0s 41ms/step - loss: 0.7216 - accuracy: 0.8333 - val_loss: 0.6694 - val_accuracy: 0.8667\n",
      "Epoch 34/50\n",
      "3/3 [==============================] - 0s 35ms/step - loss: 0.7089 - accuracy: 0.8778 - val_loss: 0.6555 - val_accuracy: 0.9167\n",
      "Epoch 35/50\n",
      "3/3 [==============================] - 0s 30ms/step - loss: 0.6985 - accuracy: 0.8667 - val_loss: 0.6409 - val_accuracy: 0.8833\n",
      "Epoch 36/50\n",
      "3/3 [==============================] - 0s 31ms/step - loss: 0.6867 - accuracy: 0.8222 - val_loss: 0.6299 - val_accuracy: 0.8833\n",
      "Epoch 37/50\n",
      "3/3 [==============================] - 0s 24ms/step - loss: 0.6766 - accuracy: 0.8000 - val_loss: 0.6172 - val_accuracy: 0.8833\n",
      "Epoch 38/50\n",
      "3/3 [==============================] - 0s 16ms/step - loss: 0.6674 - accuracy: 0.7667 - val_loss: 0.6052 - val_accuracy: 0.8333\n",
      "Epoch 39/50\n",
      "3/3 [==============================] - 0s 24ms/step - loss: 0.6568 - accuracy: 0.7556 - val_loss: 0.5941 - val_accuracy: 0.9000\n",
      "Epoch 40/50\n",
      "3/3 [==============================] - 0s 21ms/step - loss: 0.6484 - accuracy: 0.7889 - val_loss: 0.5824 - val_accuracy: 0.8833\n",
      "Epoch 41/50\n",
      "3/3 [==============================] - 0s 26ms/step - loss: 0.6408 - accuracy: 0.8667 - val_loss: 0.5752 - val_accuracy: 0.9167\n",
      "Epoch 42/50\n",
      "3/3 [==============================] - 0s 20ms/step - loss: 0.6297 - accuracy: 0.9444 - val_loss: 0.5643 - val_accuracy: 0.9167\n",
      "Epoch 43/50\n",
      "3/3 [==============================] - 0s 20ms/step - loss: 0.6212 - accuracy: 0.9333 - val_loss: 0.5544 - val_accuracy: 0.9167\n",
      "Epoch 44/50\n",
      "3/3 [==============================] - 0s 28ms/step - loss: 0.6128 - accuracy: 0.9333 - val_loss: 0.5455 - val_accuracy: 0.9333\n",
      "Epoch 45/50\n",
      "3/3 [==============================] - 0s 17ms/step - loss: 0.6048 - accuracy: 0.9333 - val_loss: 0.5373 - val_accuracy: 0.9333\n",
      "Epoch 46/50\n",
      "3/3 [==============================] - 0s 18ms/step - loss: 0.5988 - accuracy: 0.8778 - val_loss: 0.5269 - val_accuracy: 0.9167\n",
      "Epoch 47/50\n",
      "3/3 [==============================] - 0s 26ms/step - loss: 0.5896 - accuracy: 0.8556 - val_loss: 0.5185 - val_accuracy: 0.9167\n",
      "Epoch 48/50\n",
      "3/3 [==============================] - 0s 21ms/step - loss: 0.5842 - accuracy: 0.9111 - val_loss: 0.5115 - val_accuracy: 0.9333\n",
      "Epoch 49/50\n",
      "3/3 [==============================] - 0s 19ms/step - loss: 0.5751 - accuracy: 0.9111 - val_loss: 0.5034 - val_accuracy: 0.9333\n",
      "Epoch 50/50\n",
      "3/3 [==============================] - 0s 34ms/step - loss: 0.5684 - accuracy: 0.9000 - val_loss: 0.4972 - val_accuracy: 0.9333\n"
     ]
    },
    {
     "data": {
      "text/plain": [
       "<tensorflow.python.keras.callbacks.History at 0x7f4628474b38>"
      ]
     },
     "execution_count": 25,
     "metadata": {},
     "output_type": "execute_result"
    }
   ],
   "source": [
    "# Fit the model by iterating over the training data in batches\n",
    "model.fit(x=X_train, \n",
    "          y=y_train, \n",
    "          epochs=50, \n",
    "          validation_data=(X_test, y_test),\n",
    "          batch_size=32, \n",
    "          # Adding 'callbacks=[tensorboard_callback]' to model.fit( ) ensures that logs are created and stored\n",
    "          callbacks=[early_stop, tensorboard_callback])"
   ]
  },
  {
   "cell_type": "markdown",
   "metadata": {},
   "source": [
    "<br>\n",
    "\n",
    "**Evaluate Model**"
   ]
  },
  {
   "cell_type": "code",
   "execution_count": 26,
   "metadata": {},
   "outputs": [
    {
     "data": {
      "text/plain": [
       "0.9333333373069763"
      ]
     },
     "execution_count": 26,
     "metadata": {},
     "output_type": "execute_result"
    }
   ],
   "source": [
    "# # Evaluate the model Accuracy on test set\n",
    "model.evaluate(X_test, y_test,verbose=False)[1]"
   ]
  },
  {
   "cell_type": "markdown",
   "metadata": {},
   "source": [
    "<br>\n",
    "\n",
    "**Predictions on New Data**"
   ]
  },
  {
   "cell_type": "code",
   "execution_count": 27,
   "metadata": {},
   "outputs": [
    {
     "data": {
      "text/plain": [
       "array([[0.10070977, 0.46682453, 0.43246576],\n",
       "       [0.79197305, 0.14043146, 0.06759545],\n",
       "       [0.02847028, 0.39890584, 0.5726239 ],\n",
       "       [0.70774996, 0.18898259, 0.10326748],\n",
       "       [0.0240634 , 0.39251125, 0.58342534]], dtype=float32)"
      ]
     },
     "execution_count": 27,
     "metadata": {},
     "output_type": "execute_result"
    }
   ],
   "source": [
    "# check for accuracy in testing dataset:\n",
    "class_probabilities = model.predict(X_test)\n",
    "class_probabilities[:5, :]"
   ]
  },
  {
   "cell_type": "markdown",
   "metadata": {},
   "source": [
    "<br>\n",
    "\n",
    "**Visualize Results using TensorBoard (Optional)**"
   ]
  },
  {
   "cell_type": "code",
   "execution_count": 28,
   "metadata": {},
   "outputs": [
    {
     "data": {
      "text/plain": [
       "Reusing TensorBoard on port 6007 (pid 20657), started 14:22:09 ago. (Use '!kill 20657' to kill it.)"
      ]
     },
     "metadata": {},
     "output_type": "display_data"
    },
    {
     "data": {
      "text/html": [
       "\n",
       "      <iframe id=\"tensorboard-frame-f4f55d7e0c722fca\" width=\"100%\" height=\"800\" frameborder=\"0\">\n",
       "      </iframe>\n",
       "      <script>\n",
       "        (function() {\n",
       "          const frame = document.getElementById(\"tensorboard-frame-f4f55d7e0c722fca\");\n",
       "          const url = new URL(\"/\", window.location);\n",
       "          const port = 6007;\n",
       "          if (port) {\n",
       "            url.port = port;\n",
       "          }\n",
       "          frame.src = url;\n",
       "        })();\n",
       "      </script>\n",
       "    "
      ],
      "text/plain": [
       "<IPython.core.display.HTML object>"
      ]
     },
     "metadata": {},
     "output_type": "display_data"
    }
   ],
   "source": [
    "# display logs\n",
    "%tensorboard --logdir logs/iris"
   ]
  },
  {
   "cell_type": "markdown",
   "metadata": {},
   "source": [
    "___\n",
    "\n",
    "<br>\n",
    "\n",
    "## Case 2: Image Classification on MNIST Dataset\n",
    "\n",
    "<br>\n",
    "\n",
    "<div align=\"center\" style=\"font-size:12px; font-family:FreeMono; font-weight: 100; font-stretch:ultra-condensed; line-height: 1.0; color:#2A2C2B\">\n",
    "    <img src=\"nn_illustrations-12.png\" align=\"center\" width=\"50%\" padding=\"10px\"><br>\n",
    "</div>\n",
    "\n",
    "<br>\n",
    "\n",
    "\n",
    "This section discusses the process of training a neural network to classify images of hand-written numbers, with one of the most classic NNs datasets. The [MNIST](https://en.wikipedia.org/wiki/MNIST_database) dataset is split into 60,000 data points of training data (`mnist.train`), 10,000 points of test data (`mnist.test`).\n",
    "\n",
    "Every MNIST data point has two parts: an image of a handwritten digit and a corresponding label. We'll call the images \"x\" and the labels \"y\". Both the training set and test set contain images and their corresponding labels; for example the training images are `mnist.train.images` and the training labels are `mnist.train.labels`.\n",
    "\n",
    "Each image is 28 pixels by 28 pixels. We can interpret this as a big array of numbers\n",
    "\n",
    "<br>\n",
    "\n",
    "<div align=\"center\" style=\"font-size:12px; font-family:FreeMono; font-weight: 100; font-stretch:ultra-condensed; line-height: 1.0; color:#2A2C2B\">\n",
    "    <img src=\"MNIST_0.png\" align=\"center\" width=\"20%\" padding=\"0px\"><br>\n",
    "    <br>\n",
    "</div>\n",
    "\n",
    "\n",
    "We can flatten this array into a vector of 28x28 = 784 numbers. It doesn't matter how we flatten the array, as long as we're consistent between images. From this perspective, the MNIST images are just a bunch of points in a 784-dimensional vector space, with a very rich structure (warning: computationally intensive visualizations).\n",
    "\n",
    "Flattening the data throws away information about the 2D structure of the image. Isn't that bad? Well, the best computer vision methods do exploit this structure, and we will in later tutorials. But the simple method we will be using here, a softmax regression (defined below), won't.\n",
    "\n",
    "The result is that `mnist.train.images` is a tensor (an n-dimensional array) with a shape of `[60000, 784]`. The first dimension is an index into the list of images and the second dimension is the index for each pixel in each image. Each entry in the tensor is a pixel intensity between `0` and `1`, for a particular pixel in a particular image.\n",
    "\n",
    "<br>\n",
    "\n",
    "<div align=\"center\" style=\"font-size:12px; font-family:FreeMono; font-weight: 100; font-stretch:ultra-condensed; line-height: 1.0; color:#2A2C2B\">\n",
    "    <img src=\"MNIST_0_array.png\" align=\"center\" width=\"50%\" padding=\"0px\"><br>\n",
    "    <br>\n",
    "</div>\n",
    "\n",
    "Each image in MNIST has a corresponding label, a number between 0 and 9 representing the digit drawn in the image.\n",
    "\n",
    "___"
   ]
  },
  {
   "cell_type": "markdown",
   "metadata": {},
   "source": [
    "<br>\n",
    "\n",
    "**Load [MNIST](https://en.wikipedia.org/wiki/MNIST_database) data**"
   ]
  },
  {
   "cell_type": "code",
   "execution_count": 33,
   "metadata": {},
   "outputs": [],
   "source": [
    "import tensorflow as tf\n",
    "\n",
    "# return nparrays used for modeling\n",
    "(x_train, y_train), (x_test, y_test) = tf.keras. \\\n",
    "                            datasets.mnist.load_data()"
   ]
  },
  {
   "cell_type": "markdown",
   "metadata": {},
   "source": [
    "<br>\n",
    "\n",
    "**Inspect the dataset**"
   ]
  },
  {
   "cell_type": "code",
   "execution_count": 34,
   "metadata": {},
   "outputs": [
    {
     "name": "stdout",
     "output_type": "stream",
     "text": [
      "Train input shape: (60000, 28, 28)\n",
      "Test input shape: (10000, 28, 28)\n",
      "Input data type: uint8\n"
     ]
    }
   ],
   "source": [
    "# input information\n",
    "print('Train input shape:',x_train.shape)\n",
    "print('Test input shape:',x_test.shape)\n",
    "print('Input data type:',x_train.dtype)"
   ]
  },
  {
   "cell_type": "code",
   "execution_count": 35,
   "metadata": {},
   "outputs": [
    {
     "data": {
      "text/plain": [
       "array([[  0,   0,   0,   0,   0,   0,   0,   0,   0,   0,   0,   0,   0,\n",
       "          0,   0,   0,   0,   0,   0,   0,   0,   0,   0,   0,   0,   0,\n",
       "          0,   0],\n",
       "       [  0,   0,   0,   0,   0,   0,   0,   0,   0,   0,   0,   0,   0,\n",
       "          0,   0,   0,   0,   0,   0,   0,   0,   0,   0,   0,   0,   0,\n",
       "          0,   0],\n",
       "       [  0,   0,   0,   0,   0,   0,   0,   0,   0,   0,   0,   0,   0,\n",
       "          0,   0,   0,   0,   0,   0,   0,   0,   0,   0,   0,   0,   0,\n",
       "          0,   0],\n",
       "       [  0,   0,   0,   0,   0,   0,   0,   0,   0,   0,   0,   0,   0,\n",
       "          0,   0,   0,   0,   0,   0,   0,   0,   0,   0,   0,   0,   0,\n",
       "          0,   0],\n",
       "       [  0,   0,   0,   0,   0,   0,   0,   0,   0,   0,   0,   0,   0,\n",
       "          0,   0,   0,   0,   0,   0,   0,   0,   0,   0,   0,   0,   0,\n",
       "          0,   0],\n",
       "       [  0,   0,   0,   0,   0,   0,   0,   0,   0,   0,   0,   0,   3,\n",
       "         18,  18,  18, 126, 136, 175,  26, 166, 255, 247, 127,   0,   0,\n",
       "          0,   0],\n",
       "       [  0,   0,   0,   0,   0,   0,   0,   0,  30,  36,  94, 154, 170,\n",
       "        253, 253, 253, 253, 253, 225, 172, 253, 242, 195,  64,   0,   0,\n",
       "          0,   0],\n",
       "       [  0,   0,   0,   0,   0,   0,   0,  49, 238, 253, 253, 253, 253,\n",
       "        253, 253, 253, 253, 251,  93,  82,  82,  56,  39,   0,   0,   0,\n",
       "          0,   0],\n",
       "       [  0,   0,   0,   0,   0,   0,   0,  18, 219, 253, 253, 253, 253,\n",
       "        253, 198, 182, 247, 241,   0,   0,   0,   0,   0,   0,   0,   0,\n",
       "          0,   0],\n",
       "       [  0,   0,   0,   0,   0,   0,   0,   0,  80, 156, 107, 253, 253,\n",
       "        205,  11,   0,  43, 154,   0,   0,   0,   0,   0,   0,   0,   0,\n",
       "          0,   0],\n",
       "       [  0,   0,   0,   0,   0,   0,   0,   0,   0,  14,   1, 154, 253,\n",
       "         90,   0,   0,   0,   0,   0,   0,   0,   0,   0,   0,   0,   0,\n",
       "          0,   0],\n",
       "       [  0,   0,   0,   0,   0,   0,   0,   0,   0,   0,   0, 139, 253,\n",
       "        190,   2,   0,   0,   0,   0,   0,   0,   0,   0,   0,   0,   0,\n",
       "          0,   0],\n",
       "       [  0,   0,   0,   0,   0,   0,   0,   0,   0,   0,   0,  11, 190,\n",
       "        253,  70,   0,   0,   0,   0,   0,   0,   0,   0,   0,   0,   0,\n",
       "          0,   0],\n",
       "       [  0,   0,   0,   0,   0,   0,   0,   0,   0,   0,   0,   0,  35,\n",
       "        241, 225, 160, 108,   1,   0,   0,   0,   0,   0,   0,   0,   0,\n",
       "          0,   0],\n",
       "       [  0,   0,   0,   0,   0,   0,   0,   0,   0,   0,   0,   0,   0,\n",
       "         81, 240, 253, 253, 119,  25,   0,   0,   0,   0,   0,   0,   0,\n",
       "          0,   0],\n",
       "       [  0,   0,   0,   0,   0,   0,   0,   0,   0,   0,   0,   0,   0,\n",
       "          0,  45, 186, 253, 253, 150,  27,   0,   0,   0,   0,   0,   0,\n",
       "          0,   0],\n",
       "       [  0,   0,   0,   0,   0,   0,   0,   0,   0,   0,   0,   0,   0,\n",
       "          0,   0,  16,  93, 252, 253, 187,   0,   0,   0,   0,   0,   0,\n",
       "          0,   0],\n",
       "       [  0,   0,   0,   0,   0,   0,   0,   0,   0,   0,   0,   0,   0,\n",
       "          0,   0,   0,   0, 249, 253, 249,  64,   0,   0,   0,   0,   0,\n",
       "          0,   0],\n",
       "       [  0,   0,   0,   0,   0,   0,   0,   0,   0,   0,   0,   0,   0,\n",
       "          0,  46, 130, 183, 253, 253, 207,   2,   0,   0,   0,   0,   0,\n",
       "          0,   0],\n",
       "       [  0,   0,   0,   0,   0,   0,   0,   0,   0,   0,   0,   0,  39,\n",
       "        148, 229, 253, 253, 253, 250, 182,   0,   0,   0,   0,   0,   0,\n",
       "          0,   0],\n",
       "       [  0,   0,   0,   0,   0,   0,   0,   0,   0,   0,  24, 114, 221,\n",
       "        253, 253, 253, 253, 201,  78,   0,   0,   0,   0,   0,   0,   0,\n",
       "          0,   0],\n",
       "       [  0,   0,   0,   0,   0,   0,   0,   0,  23,  66, 213, 253, 253,\n",
       "        253, 253, 198,  81,   2,   0,   0,   0,   0,   0,   0,   0,   0,\n",
       "          0,   0],\n",
       "       [  0,   0,   0,   0,   0,   0,  18, 171, 219, 253, 253, 253, 253,\n",
       "        195,  80,   9,   0,   0,   0,   0,   0,   0,   0,   0,   0,   0,\n",
       "          0,   0],\n",
       "       [  0,   0,   0,   0,  55, 172, 226, 253, 253, 253, 253, 244, 133,\n",
       "         11,   0,   0,   0,   0,   0,   0,   0,   0,   0,   0,   0,   0,\n",
       "          0,   0],\n",
       "       [  0,   0,   0,   0, 136, 253, 253, 253, 212, 135, 132,  16,   0,\n",
       "          0,   0,   0,   0,   0,   0,   0,   0,   0,   0,   0,   0,   0,\n",
       "          0,   0],\n",
       "       [  0,   0,   0,   0,   0,   0,   0,   0,   0,   0,   0,   0,   0,\n",
       "          0,   0,   0,   0,   0,   0,   0,   0,   0,   0,   0,   0,   0,\n",
       "          0,   0],\n",
       "       [  0,   0,   0,   0,   0,   0,   0,   0,   0,   0,   0,   0,   0,\n",
       "          0,   0,   0,   0,   0,   0,   0,   0,   0,   0,   0,   0,   0,\n",
       "          0,   0],\n",
       "       [  0,   0,   0,   0,   0,   0,   0,   0,   0,   0,   0,   0,   0,\n",
       "          0,   0,   0,   0,   0,   0,   0,   0,   0,   0,   0,   0,   0,\n",
       "          0,   0]], dtype=uint8)"
      ]
     },
     "execution_count": 35,
     "metadata": {},
     "output_type": "execute_result"
    }
   ],
   "source": [
    "# first element\n",
    "x_train[0]"
   ]
  },
  {
   "cell_type": "code",
   "execution_count": 36,
   "metadata": {},
   "outputs": [
    {
     "name": "stdout",
     "output_type": "stream",
     "text": [
      "Min-max values: 0 255\n"
     ]
    }
   ],
   "source": [
    "print('Min-max values:',np.min(x_train),np.max(x_train))"
   ]
  },
  {
   "cell_type": "code",
   "execution_count": 37,
   "metadata": {},
   "outputs": [
    {
     "name": "stdout",
     "output_type": "stream",
     "text": [
      "Image: \n"
     ]
    },
    {
     "data": {
      "text/plain": [
       "<matplotlib.image.AxesImage at 0x7f40447c0dd8>"
      ]
     },
     "execution_count": 37,
     "metadata": {},
     "output_type": "execute_result"
    },
    {
     "data": {
      "image/png": "[encoded data removed]",
      "text/plain": [
       "<Figure size 432x288 with 1 Axes>"
      ]
     },
     "metadata": {
      "needs_background": "light"
     },
     "output_type": "display_data"
    }
   ],
   "source": [
    "print('Image: ')\n",
    "plt.imshow(x_train[1], cmap='gray_r')"
   ]
  },
  {
   "cell_type": "code",
   "execution_count": 38,
   "metadata": {},
   "outputs": [
    {
     "name": "stdout",
     "output_type": "stream",
     "text": [
      "Train output shape: (60000,)\n",
      "Test output shape: (10000,)\n",
      "Data type: uint8\n"
     ]
    }
   ],
   "source": [
    "# Output information:\n",
    "print('Train output shape:',y_train.shape)\n",
    "print('Test output shape:',y_test.shape)\n",
    "print('Data type:',y_train.dtype)"
   ]
  },
  {
   "cell_type": "code",
   "execution_count": 39,
   "metadata": {},
   "outputs": [
    {
     "name": "stdout",
     "output_type": "stream",
     "text": [
      "Unique labels: [0 1 2 3 4 5 6 7 8 9]\n",
      "First 10 outputs:\n",
      "[5 0 4 1 9 2 1 3 1 4]\n"
     ]
    }
   ],
   "source": [
    "print('Unique labels:',np.unique(y_train))\n",
    "print('First 10 outputs:')\n",
    "print(y_train[:10])"
   ]
  },
  {
   "cell_type": "markdown",
   "metadata": {},
   "source": [
    "<br>\n",
    "\n",
    "**Preprocess the data**"
   ]
  },
  {
   "cell_type": "code",
   "execution_count": 40,
   "metadata": {},
   "outputs": [],
   "source": [
    "# Normalize the data, flatten inputs, and convert datatype\n",
    "x_train = x_train.reshape(60000, 784). \\\n",
    "                    astype('float32') / 255\n",
    "\n",
    "x_test = x_test.reshape(10000, 784) \\\n",
    "                    .astype('float32') / 255"
   ]
  },
  {
   "cell_type": "markdown",
   "metadata": {},
   "source": [
    "<br>\n",
    "\n",
    "**TensorBoard logging**"
   ]
  },
  {
   "cell_type": "code",
   "execution_count": 41,
   "metadata": {},
   "outputs": [],
   "source": [
    "## Load additional libraries needed ##\n",
    "from datetime import datetime\n",
    "from IPython.display import clear_output, Image, display, HTML\n",
    "import os\n",
    "import pathlib\n",
    "\n",
    "t = datetime.utcnow().strftime(\"%Y%m%d%H%M%S\") \n",
    "log_dir = \"tf_logs\"\n",
    "logd = \"/tmp/{}/r{}/\".format(log_dir, t)"
   ]
  },
  {
   "cell_type": "code",
   "execution_count": 42,
   "metadata": {},
   "outputs": [],
   "source": [
    "## Load TensorBoard notebook extension ##\n",
    "%reload_ext tensorboard\n",
    "\n",
    "## Clear any logs from previous runs ##\n",
    "!rm -rf ./logs/\n",
    "\n",
    "# place logs in a timestamped subdirectory and enable histogram computation with every epoch\n",
    "log_dir = \"logs/mnist/\" + datetime.now().strftime(\"%Y%m%d-%H%M%S\")\n",
    "tensorboard_callback = tf.keras.callbacks.TensorBoard(log_dir=log_dir, histogram_freq=1)\n",
    "\n",
    "# Early stopping the patience parameter is the amount of epochs to check for improvement\n",
    "early_stop = keras.callbacks.EarlyStopping(monitor='val_loss', patience=10)"
   ]
  },
  {
   "cell_type": "markdown",
   "metadata": {},
   "source": [
    "<br>\n",
    "\n",
    "**Load standard NN components**"
   ]
  },
  {
   "cell_type": "code",
   "execution_count": 43,
   "metadata": {},
   "outputs": [],
   "source": [
    "from tensorflow.keras.models import Sequential\n",
    "from tensorflow.keras.layers import Dense"
   ]
  },
  {
   "cell_type": "code",
   "execution_count": 44,
   "metadata": {},
   "outputs": [],
   "source": [
    "# Initialize model constructor\n",
    "model = Sequential()\n",
    "# Add layers sequentially\n",
    "model.add(Dense(300, activation=tf.nn.relu, \\\n",
    "                    input_shape=(784,)))\n",
    "\n",
    "# Second..\n",
    "model.add(Dense(200, activation=tf.nn.relu))\n",
    "\n",
    "# Third..\n",
    "model.add(Dense(100, activation=tf.nn.relu))\n",
    "\n",
    "model.add(Dense(10, activation='softmax'))"
   ]
  },
  {
   "cell_type": "code",
   "execution_count": 46,
   "metadata": {},
   "outputs": [],
   "source": [
    "# compile the model\n",
    "model.compile(loss='sparse_categorical_crossentropy',\n",
    "              optimizer=tf.keras.optimizers.RMSprop(),\n",
    "              metrics=['accuracy']\n",
    "             )"
   ]
  },
  {
   "cell_type": "code",
   "execution_count": 48,
   "metadata": {},
   "outputs": [
    {
     "name": "stdout",
     "output_type": "stream",
     "text": [
      "Epoch 1/5\n",
      "  2/750 [..............................] - ETA: 19s - loss: 2.1905 - accuracy: 0.3125WARNING:tensorflow:Callbacks method `on_train_batch_end` is slow compared to the batch time (batch time: 0.0034s vs `on_train_batch_end` time: 0.0488s). Check your callbacks.\n",
      "750/750 [==============================] - 4s 5ms/step - loss: 0.2476 - accuracy: 0.9251 - val_loss: 0.1204 - val_accuracy: 0.9628\n",
      "Epoch 2/5\n",
      "750/750 [==============================] - 3s 5ms/step - loss: 0.0997 - accuracy: 0.9692 - val_loss: 0.1259 - val_accuracy: 0.9630\n",
      "Epoch 3/5\n",
      "750/750 [==============================] - 4s 5ms/step - loss: 0.0701 - accuracy: 0.9793 - val_loss: 0.1157 - val_accuracy: 0.9686\n",
      "Epoch 4/5\n",
      "750/750 [==============================] - 4s 5ms/step - loss: 0.0519 - accuracy: 0.9844 - val_loss: 0.1070 - val_accuracy: 0.9750\n",
      "Epoch 5/5\n",
      "750/750 [==============================] - 4s 5ms/step - loss: 0.0406 - accuracy: 0.9875 - val_loss: 0.1253 - val_accuracy: 0.9733\n"
     ]
    }
   ],
   "source": [
    "# train the model\n",
    "NO_EPOCHS = 5\n",
    "history = model.fit(x_train, \n",
    "                    y_train,\n",
    "                    batch_size=64,\n",
    "                    epochs=NO_EPOCHS,\n",
    "                    validation_split=0.2,\n",
    "                    callbacks=[early_stop, tensorboard_callback])"
   ]
  },
  {
   "cell_type": "markdown",
   "metadata": {},
   "source": [
    "<br>\n",
    "\n",
    "**Generalization**"
   ]
  },
  {
   "cell_type": "code",
   "execution_count": 49,
   "metadata": {},
   "outputs": [
    {
     "name": "stdout",
     "output_type": "stream",
     "text": [
      "Test accuracy: 0.9735999703407288\n"
     ]
    }
   ],
   "source": [
    "test_scores = model.evaluate(x_test, y_test, verbose=0)\n",
    "#print('Test loss:', test_scores[0])\n",
    "print('Test accuracy:', test_scores[1])"
   ]
  },
  {
   "cell_type": "code",
   "execution_count": 50,
   "metadata": {},
   "outputs": [
    {
     "data": {
      "image/png": "[encoded data removed]",
      "text/plain": [
       "<Figure size 432x288 with 1 Axes>"
      ]
     },
     "metadata": {
      "needs_background": "light"
     },
     "output_type": "display_data"
    }
   ],
   "source": [
    "# plot accuracy\n",
    "plt.plot(range(NO_EPOCHS),history.history['val_accuracy']);"
   ]
  },
  {
   "cell_type": "markdown",
   "metadata": {},
   "source": [
    "<br>\n",
    "\n",
    "**Visualize Model Using TensorFlow (with callbacks)**"
   ]
  },
  {
   "cell_type": "code",
   "execution_count": 52,
   "metadata": {},
   "outputs": [
    {
     "data": {
      "text/plain": [
       "Reusing TensorBoard on port 6008 (pid 24070), started 0:00:04 ago. (Use '!kill 24070' to kill it.)"
      ]
     },
     "metadata": {},
     "output_type": "display_data"
    },
    {
     "data": {
      "text/html": [
       "\n",
       "      <iframe id=\"tensorboard-frame-42d870c9148fbddd\" width=\"100%\" height=\"800\" frameborder=\"0\">\n",
       "      </iframe>\n",
       "      <script>\n",
       "        (function() {\n",
       "          const frame = document.getElementById(\"tensorboard-frame-42d870c9148fbddd\");\n",
       "          const url = new URL(\"/\", window.location);\n",
       "          const port = 6008;\n",
       "          if (port) {\n",
       "            url.port = port;\n",
       "          }\n",
       "          frame.src = url;\n",
       "        })();\n",
       "      </script>\n",
       "    "
      ],
      "text/plain": [
       "<IPython.core.display.HTML object>"
      ]
     },
     "metadata": {},
     "output_type": "display_data"
    }
   ],
   "source": [
    "# visualize logs\n",
    "%tensorboard --logdir logs/mnist"
   ]
  },
  {
   "cell_type": "markdown",
   "metadata": {},
   "source": [
    "___\n",
    "\n",
    "## References and Additional Resources\n",
    "___\n",
    "\n"
   ]
  },
  {
   "cell_type": "markdown",
   "metadata": {},
   "source": [
    "<br>\n",
    "\n",
    "<div align=\"center\" style=\"font-size:12px; font-family:FreeMono; font-weight: 100; font-stretch:ultra-condensed; line-height: 1.0; color:#2A2C2B\">\n",
    "    <img src=\"tf_logo_social.png\" align=\"center\" width=\"30%\" padding=\"0px\"><br>\n",
    "    <br>\n",
    "</div>"
   ]
  },
  {
   "cell_type": "markdown",
   "metadata": {},
   "source": [
    "___\n",
    "\n",
    "<br>\n",
    "\n",
    "#### Install Python Development Environment"
   ]
  },
  {
   "cell_type": "markdown",
   "metadata": {},
   "source": [
    "<br>\n",
    "\n",
    "**Install/Update pip3**\n",
    "\n",
    "https://pip.pypa.io/en/stable/installing/\n",
    "\n",
    "```bash\n",
    "    # TensorFlow requires pip version >= 19.0\n",
    "    $ pip install --upgrade pip \n",
    "```"
   ]
  },
  {
   "cell_type": "markdown",
   "metadata": {},
   "source": [
    "<br>\n",
    "\n",
    "**Install/Update Python 3**\n",
    "\n",
    "https://www.python.org/downloads/\n",
    "\n",
    "```bash\n",
    "    # TensorFlow requires Python 3.5-3.8 \n",
    "    $ sudo apt-get update && sudo apt-get install python3-dev python3-pip python3-venv python-virtualenv\n",
    "```"
   ]
  },
  {
   "cell_type": "markdown",
   "metadata": {},
   "source": [
    "___\n",
    "\n",
    "<br>\n",
    "\n",
    "#### Creating a TensorFlow Virtual Environment (Recommended)"
   ]
  },
  {
   "cell_type": "markdown",
   "metadata": {},
   "source": [
    "<br>\n",
    "\n",
    "**Create virtual environment**\n",
    "\n",
    ">On a terminal, or using magic keys, create a new virtual environment using a Python interpreter and creating a ```venv``` directory to hold it\n",
    "\n",
    "```bash\n",
    "    $ python3 -m venv venv\n",
    "```"
   ]
  },
  {
   "cell_type": "markdown",
   "metadata": {},
   "source": [
    "<br>\n",
    "\n",
    "**Activate the virtual environment**\n",
    "\n",
    "```bash\n",
    "    $ source ./venv/bin/activate      # sh, bash, or zsh\n",
    "\n",
    "    $ . ./venv/bin/activate.fish       # fish\n",
    "\n",
    "    $ source ./venv/bin/activate.csh  # csh or tcsh\n",
    "```"
   ]
  },
  {
   "cell_type": "markdown",
   "metadata": {},
   "source": [
    "<br>\n",
    "\n",
    "**Install packages within virtual environment**\n",
    "\n",
    "When the virtual environment is active, your shell prompt is prefixed by ```(venv)```\n",
    "\n",
    "> Step 1: reapeat 1.1.1 above, within ```(venv)```<br>\n",
    "\n",
    "```bash\n",
    "    # TensorFlow requires pip version >= 19.0\n",
    "    $ pip install --upgrade pip \n",
    "```    "
   ]
  },
  {
   "cell_type": "markdown",
   "metadata": {},
   "source": [
    "> Step 2: Install TensorFlow2\n",
    "\n",
    "```bash\n",
    "    (venv) $ pip install --upgrade tensorflow\n",
    "```\n"
   ]
  },
  {
   "cell_type": "markdown",
   "metadata": {},
   "source": [
    "> Step 3: Verify install\n",
    "\n",
    "```bash\n",
    "    (venv) $ python -c \"import tensorflow as tf;print(tf.reduce_sum(tf.random.normal([1000, 1000])))\"\n",
    "```"
   ]
  },
  {
   "cell_type": "markdown",
   "metadata": {},
   "source": [
    "> Step 4: To exit virtual enviroment later\n",
    "\n",
    "```bash\n",
    "    (venv) $ pip deactivate\n",
    "```"
   ]
  },
  {
   "cell_type": "markdown",
   "metadata": {},
   "source": [
    "___\n",
    "\n",
    "<br>\n",
    "\n",
    "#### Install TensorFlow on Local Machine (Optional Setup)\n",
    "\n",
    "<br>\n",
    "\n",
    "**TensorFlow 2**\n",
    "\n",
    "https://www.tensorflow.org/install/pip\n",
    "\n",
    "```bash\n",
    "    # Install using pip\n",
    "    $ pip install --upgrade tensorflow \n",
    "```"
   ]
  },
  {
   "cell_type": "markdown",
   "metadata": {},
   "source": [
    "<br>\n",
    "\n",
    "**Verify Installation**\n",
    "\n",
    "```bash\n",
    "    $ python -c \"import tensorflow as tf;print(tf.reduce_sum(tf.random.normal([1000, 1000])))\"\n",
    "```"
   ]
  },
  {
   "cell_type": "markdown",
   "metadata": {},
   "source": [
    "___\n",
    "\n",
    "<br>\n",
    "\n",
    "#### Run TensorFlow in a Container (Optional Setup)\n",
    "\n",
    "[Tensorflow Docker images](https://www.tensorflow.org/install/docker) come pre-configured to run TensorFlow, and provide a virtual environment that is generally the easiest way to set up [GPU processing](https://www.tensorflow.org/install/gpu). To learn more about how to use [Docker](https://www.tensorflow.org/install/docker/) to separate your applications from your infrastructure, click [here](https://docs.docker.com/get-docker/).\n",
    "\n",
    "<br>"
   ]
  },
  {
   "cell_type": "markdown",
   "metadata": {},
   "source": [
    "___\n",
    "\n",
    "<br>\n",
    "\n",
    "#### Alternate Ways of Outputing MNIST digits\n",
    "\n",
    "The following shows alternate ways of displaying a digit, as well as how to display more than one digit, and also include the label."
   ]
  },
  {
   "cell_type": "code",
   "execution_count": 53,
   "metadata": {},
   "outputs": [],
   "source": [
    "from sklearn.datasets import load_digits\n",
    "\n",
    "# load data\n",
    "digits = load_digits()"
   ]
  },
  {
   "cell_type": "code",
   "execution_count": 54,
   "metadata": {},
   "outputs": [],
   "source": [
    "# creates list, each element is a list of indexed pairs\n",
    "# [image[i], target[i]]\n",
    "images_and_labels = list(zip(digits.images, digits.target))"
   ]
  },
  {
   "cell_type": "code",
   "execution_count": 55,
   "metadata": {},
   "outputs": [
    {
     "data": {
      "image/png": "[encoded data removed]",
      "text/plain": [
       "<Figure size 432x288 with 10 Axes>"
      ]
     },
     "metadata": {
      "needs_background": "light"
     },
     "output_type": "display_data"
    }
   ],
   "source": [
    "# preview of first 10 images\n",
    "for index, (image, label) in enumerate (images_and_labels[:10]):\n",
    "    plt.subplot(2, 5, index+1)\n",
    "    plt.axis('off')\n",
    "    plt.imshow(image, cmap=plt.cm.gray_r, interpolation='nearest')\n",
    "    plt.title('Training: %i' % label)"
   ]
  },
  {
   "cell_type": "code",
   "execution_count": 56,
   "metadata": {},
   "outputs": [
    {
     "data": {
      "text/plain": [
       "<matplotlib.image.AxesImage at 0x7f405c1509e8>"
      ]
     },
     "execution_count": 56,
     "metadata": {},
     "output_type": "execute_result"
    },
    {
     "data": {
      "image/png": "[encoded data removed]",
      "text/plain": [
       "<Figure size 432x288 with 1 Axes>"
      ]
     },
     "metadata": {
      "needs_background": "light"
     },
     "output_type": "display_data"
    }
   ],
   "source": [
    "# close up of one particular digit\n",
    "plt.imshow(np.reshape(digits.images[10], (8,8)), cmap=plt.cm.gray_r, interpolation='nearest')"
   ]
  },
  {
   "cell_type": "markdown",
   "metadata": {},
   "source": [
    "___\n",
    "\n",
    "<br>\n",
    "\n",
    "#### Case 3 (Optional): Linear Regression on AutoMPG Dataset\n",
    "\n",
    "<br>\n",
    "\n",
    "<div align=\"center\" style=\"font-size:12px; font-family:FreeMono; font-weight: 100; font-stretch:ultra-condensed; line-height: 1.0; color:#2A2C2B\">\n",
    "    <img src=\"LR_TF+Keras.png\" align=\"center\" width=\"30%\" padding=\"10px\"><br>\n",
    "    Predicting Fuel Efficiency\n",
    "</div>\n",
    "\n",
    "<br>\n",
    "\n",
    "In a [regression](https://en.wikipedia.org/wiki/Regression_analysis) problem, we aim to predict the output of a continuous variable -- e.g. $y$ -- subject to some input variable(s) -- e.g. $x_i, ~ i = 1, 2, \\dots$ \n",
    "\n",
    "The following example uses the [Auto MPG](https://archive.ics.uci.edu/ml/datasets/auto+mpg) dataset to build a predictive model of the fuel efficiency of late 1970s and early 1980s automomibles.\n"
   ]
  },
  {
   "cell_type": "markdown",
   "metadata": {},
   "source": [
    "<br>\n",
    "\n",
    "**Install helpful packages**"
   ]
  },
  {
   "cell_type": "code",
   "execution_count": 57,
   "metadata": {},
   "outputs": [],
   "source": [
    "# Uncomment and run if not yet installed\n",
    "#!python -m pip install -U pip\n",
    "#!python -m pip install -U matplotlib\n",
    "#!pip install -q seaborn\n",
    "\n",
    "# Gather some useful functions from tensorflow_docs\n",
    "#!pip install -q git+https://github.com/tensorflow/docs"
   ]
  },
  {
   "cell_type": "markdown",
   "metadata": {},
   "source": [
    "<br>\n",
    "\n",
    "**General setup**"
   ]
  },
  {
   "cell_type": "code",
   "execution_count": 58,
   "metadata": {},
   "outputs": [
    {
     "name": "stdout",
     "output_type": "stream",
     "text": [
      "2.3.0\n"
     ]
    }
   ],
   "source": [
    "## import required libraries ##\n",
    "# for declaring paths\n",
    "import pathlib\n",
    "\n",
    "# for plotting and data manipulation\n",
    "import altair as alt\n",
    "import matplotlib.pyplot as plt\n",
    "import numpy as np\n",
    "import pandas as pd\n",
    "import seaborn as sns\n",
    "\n",
    "# for deep learning\n",
    "import tensorflow as tf\n",
    "from tensorflow import keras\n",
    "from tensorflow.keras import layers\n",
    "print(tf.__version__)\n",
    "\n",
    "# for modeling and visualizing NN\n",
    "import tensorflow_docs as tfdocs\n",
    "import tensorflow_docs.plots\n",
    "import tensorflow_docs.modeling"
   ]
  },
  {
   "cell_type": "markdown",
   "metadata": {},
   "source": [
    "<br>\n",
    "\n",
    "**Gather and clean data**"
   ]
  },
  {
   "cell_type": "code",
   "execution_count": 59,
   "metadata": {},
   "outputs": [
    {
     "data": {
      "text/plain": [
       "'/home/ehch/.keras/datasets/auto-mpg.data'"
      ]
     },
     "execution_count": 59,
     "metadata": {},
     "output_type": "execute_result"
    }
   ],
   "source": [
    "# download dataset\n",
    "dataset_path = keras.utils.get_file(\"auto-mpg.data\", \"http://archive.ics.uci.edu/ml/machine-learning-databases/auto-mpg/auto-mpg.data\")\n",
    "dataset_path"
   ]
  },
  {
   "cell_type": "code",
   "execution_count": 60,
   "metadata": {},
   "outputs": [
    {
     "data": {
      "text/html": [
       "<div>\n",
       "<style scoped>\n",
       "    .dataframe tbody tr th:only-of-type {\n",
       "        vertical-align: middle;\n",
       "    }\n",
       "\n",
       "    .dataframe tbody tr th {\n",
       "        vertical-align: top;\n",
       "    }\n",
       "\n",
       "    .dataframe thead th {\n",
       "        text-align: right;\n",
       "    }\n",
       "</style>\n",
       "<table border=\"1\" class=\"dataframe\">\n",
       "  <thead>\n",
       "    <tr style=\"text-align: right;\">\n",
       "      <th></th>\n",
       "      <th>MPG</th>\n",
       "      <th>Cylinders</th>\n",
       "      <th>Displacement</th>\n",
       "      <th>Horsepower</th>\n",
       "      <th>Weight</th>\n",
       "      <th>Acceleration</th>\n",
       "      <th>Model Year</th>\n",
       "      <th>Origin</th>\n",
       "    </tr>\n",
       "  </thead>\n",
       "  <tbody>\n",
       "    <tr>\n",
       "      <th>0</th>\n",
       "      <td>18.0</td>\n",
       "      <td>8</td>\n",
       "      <td>307.0</td>\n",
       "      <td>130.0</td>\n",
       "      <td>3504.0</td>\n",
       "      <td>12.0</td>\n",
       "      <td>70</td>\n",
       "      <td>1</td>\n",
       "    </tr>\n",
       "    <tr>\n",
       "      <th>1</th>\n",
       "      <td>15.0</td>\n",
       "      <td>8</td>\n",
       "      <td>350.0</td>\n",
       "      <td>165.0</td>\n",
       "      <td>3693.0</td>\n",
       "      <td>11.5</td>\n",
       "      <td>70</td>\n",
       "      <td>1</td>\n",
       "    </tr>\n",
       "    <tr>\n",
       "      <th>2</th>\n",
       "      <td>18.0</td>\n",
       "      <td>8</td>\n",
       "      <td>318.0</td>\n",
       "      <td>150.0</td>\n",
       "      <td>3436.0</td>\n",
       "      <td>11.0</td>\n",
       "      <td>70</td>\n",
       "      <td>1</td>\n",
       "    </tr>\n",
       "    <tr>\n",
       "      <th>3</th>\n",
       "      <td>16.0</td>\n",
       "      <td>8</td>\n",
       "      <td>304.0</td>\n",
       "      <td>150.0</td>\n",
       "      <td>3433.0</td>\n",
       "      <td>12.0</td>\n",
       "      <td>70</td>\n",
       "      <td>1</td>\n",
       "    </tr>\n",
       "    <tr>\n",
       "      <th>4</th>\n",
       "      <td>17.0</td>\n",
       "      <td>8</td>\n",
       "      <td>302.0</td>\n",
       "      <td>140.0</td>\n",
       "      <td>3449.0</td>\n",
       "      <td>10.5</td>\n",
       "      <td>70</td>\n",
       "      <td>1</td>\n",
       "    </tr>\n",
       "  </tbody>\n",
       "</table>\n",
       "</div>"
      ],
      "text/plain": [
       "    MPG  Cylinders  Displacement  Horsepower  Weight  Acceleration  \\\n",
       "0  18.0          8         307.0       130.0  3504.0          12.0   \n",
       "1  15.0          8         350.0       165.0  3693.0          11.5   \n",
       "2  18.0          8         318.0       150.0  3436.0          11.0   \n",
       "3  16.0          8         304.0       150.0  3433.0          12.0   \n",
       "4  17.0          8         302.0       140.0  3449.0          10.5   \n",
       "\n",
       "   Model Year  Origin  \n",
       "0          70       1  \n",
       "1          70       1  \n",
       "2          70       1  \n",
       "3          70       1  \n",
       "4          70       1  "
      ]
     },
     "execution_count": 60,
     "metadata": {},
     "output_type": "execute_result"
    }
   ],
   "source": [
    "# import data using pandas\n",
    "column_names = ['MPG','Cylinders','Displacement','Horsepower','Weight',\n",
    "                'Acceleration', 'Model Year', 'Origin']\n",
    "\n",
    "dataset = pd.read_csv(dataset_path, names=column_names,\n",
    "                      na_values = \"?\", comment='\\t',\n",
    "                      sep=\" \", skipinitialspace=True)\n",
    "\n",
    "dataset.head()"
   ]
  },
  {
   "cell_type": "markdown",
   "metadata": {},
   "source": [
    "<br>\n",
    "\n",
    "**Clean the data**"
   ]
  },
  {
   "cell_type": "code",
   "execution_count": 61,
   "metadata": {},
   "outputs": [
    {
     "data": {
      "text/plain": [
       "MPG             0\n",
       "Cylinders       0\n",
       "Displacement    0\n",
       "Horsepower      0\n",
       "Weight          0\n",
       "Acceleration    0\n",
       "Model Year      0\n",
       "Origin          0\n",
       "dtype: int64"
      ]
     },
     "execution_count": 61,
     "metadata": {},
     "output_type": "execute_result"
    }
   ],
   "source": [
    "# drop rows with missing values\n",
    "dataset = dataset.dropna()\n",
    "\n",
    "# Sanity check\n",
    "dataset.isna().sum()"
   ]
  },
  {
   "cell_type": "code",
   "execution_count": 62,
   "metadata": {},
   "outputs": [
    {
     "data": {
      "text/plain": [
       "array([1, 3, 2])"
      ]
     },
     "execution_count": 62,
     "metadata": {},
     "output_type": "execute_result"
    }
   ],
   "source": [
    "# note that 'Origin' column is categorial and not numeric. \n",
    "dataset.Origin.unique()"
   ]
  },
  {
   "cell_type": "code",
   "execution_count": 63,
   "metadata": {},
   "outputs": [
    {
     "data": {
      "text/html": [
       "<div>\n",
       "<style scoped>\n",
       "    .dataframe tbody tr th:only-of-type {\n",
       "        vertical-align: middle;\n",
       "    }\n",
       "\n",
       "    .dataframe tbody tr th {\n",
       "        vertical-align: top;\n",
       "    }\n",
       "\n",
       "    .dataframe thead th {\n",
       "        text-align: right;\n",
       "    }\n",
       "</style>\n",
       "<table border=\"1\" class=\"dataframe\">\n",
       "  <thead>\n",
       "    <tr style=\"text-align: right;\">\n",
       "      <th></th>\n",
       "      <th>MPG</th>\n",
       "      <th>Cylinders</th>\n",
       "      <th>Displacement</th>\n",
       "      <th>Horsepower</th>\n",
       "      <th>Weight</th>\n",
       "      <th>Acceleration</th>\n",
       "      <th>Model Year</th>\n",
       "      <th>Origin</th>\n",
       "    </tr>\n",
       "  </thead>\n",
       "  <tbody>\n",
       "    <tr>\n",
       "      <th>0</th>\n",
       "      <td>18.0</td>\n",
       "      <td>8</td>\n",
       "      <td>307.0</td>\n",
       "      <td>130.0</td>\n",
       "      <td>3504.0</td>\n",
       "      <td>12.0</td>\n",
       "      <td>70</td>\n",
       "      <td>USA</td>\n",
       "    </tr>\n",
       "    <tr>\n",
       "      <th>1</th>\n",
       "      <td>15.0</td>\n",
       "      <td>8</td>\n",
       "      <td>350.0</td>\n",
       "      <td>165.0</td>\n",
       "      <td>3693.0</td>\n",
       "      <td>11.5</td>\n",
       "      <td>70</td>\n",
       "      <td>USA</td>\n",
       "    </tr>\n",
       "    <tr>\n",
       "      <th>2</th>\n",
       "      <td>18.0</td>\n",
       "      <td>8</td>\n",
       "      <td>318.0</td>\n",
       "      <td>150.0</td>\n",
       "      <td>3436.0</td>\n",
       "      <td>11.0</td>\n",
       "      <td>70</td>\n",
       "      <td>USA</td>\n",
       "    </tr>\n",
       "    <tr>\n",
       "      <th>3</th>\n",
       "      <td>16.0</td>\n",
       "      <td>8</td>\n",
       "      <td>304.0</td>\n",
       "      <td>150.0</td>\n",
       "      <td>3433.0</td>\n",
       "      <td>12.0</td>\n",
       "      <td>70</td>\n",
       "      <td>USA</td>\n",
       "    </tr>\n",
       "    <tr>\n",
       "      <th>4</th>\n",
       "      <td>17.0</td>\n",
       "      <td>8</td>\n",
       "      <td>302.0</td>\n",
       "      <td>140.0</td>\n",
       "      <td>3449.0</td>\n",
       "      <td>10.5</td>\n",
       "      <td>70</td>\n",
       "      <td>USA</td>\n",
       "    </tr>\n",
       "  </tbody>\n",
       "</table>\n",
       "</div>"
      ],
      "text/plain": [
       "    MPG  Cylinders  Displacement  Horsepower  Weight  Acceleration  \\\n",
       "0  18.0          8         307.0       130.0  3504.0          12.0   \n",
       "1  15.0          8         350.0       165.0  3693.0          11.5   \n",
       "2  18.0          8         318.0       150.0  3436.0          11.0   \n",
       "3  16.0          8         304.0       150.0  3433.0          12.0   \n",
       "4  17.0          8         302.0       140.0  3449.0          10.5   \n",
       "\n",
       "   Model Year Origin  \n",
       "0          70    USA  \n",
       "1          70    USA  \n",
       "2          70    USA  \n",
       "3          70    USA  \n",
       "4          70    USA  "
      ]
     },
     "execution_count": 63,
     "metadata": {},
     "output_type": "execute_result"
    }
   ],
   "source": [
    "# convert quantitatie to nominal (discrete unordered categorical)\n",
    "dataset['Origin'] = dataset['Origin'].map({1: 'USA', 2: 'Europe', 3: 'Japan'})\n",
    "dataset.head()"
   ]
  },
  {
   "cell_type": "markdown",
   "metadata": {},
   "source": [
    "<br>\n",
    "\n",
    "**Data visualization: Multi-panel scatter plot with linked brushing using [Altair](https://altair-viz.github.io/index.html)**"
   ]
  },
  {
   "cell_type": "code",
   "execution_count": 64,
   "metadata": {},
   "outputs": [],
   "source": [
    "# create selection brush (Interactive visualization selection event)\n",
    "brush = alt.selection(type='interval', resolve='global')"
   ]
  },
  {
   "cell_type": "code",
   "execution_count": 65,
   "metadata": {},
   "outputs": [],
   "source": [
    "# build scatter plot with brushing \n",
    "baseScatter = alt.Chart(dataset).mark_point().encode(\n",
    "    y='MPG',\n",
    "    color=alt.condition(brush, 'Origin', alt.ColorValue('gray')),\n",
    ").add_selection(\n",
    "    brush\n",
    ").properties(\n",
    "    width=250,\n",
    "    height=250\n",
    ")"
   ]
  },
  {
   "cell_type": "code",
   "execution_count": 66,
   "metadata": {},
   "outputs": [
    {
     "data": {
      "text/html": [
       "\n",
       "<div id=\"altair-viz-c8a5d7fe9a4a49f6b91230f503d0c97c\"></div>\n",
       "<script type=\"text/javascript\">\n",
       "  (function(spec, embedOpt){\n",
       "    const outputDiv = document.getElementById(\"altair-viz-c8a5d7fe9a4a49f6b91230f503d0c97c\");\n",
       "    const paths = {\n",
       "      \"vega\": \"https://cdn.jsdelivr.net/npm//vega@5?noext\",\n",
       "      \"vega-lib\": \"https://cdn.jsdelivr.net/npm//vega-lib?noext\",\n",
       "      \"vega-lite\": \"https://cdn.jsdelivr.net/npm//vega-lite@4.0.2?noext\",\n",
       "      \"vega-embed\": \"https://cdn.jsdelivr.net/npm//vega-embed@6?noext\",\n",
       "    };\n",
       "\n",
       "    function loadScript(lib) {\n",
       "      return new Promise(function(resolve, reject) {\n",
       "        var s = document.createElement('script');\n",
       "        s.src = paths[lib];\n",
       "        s.async = true;\n",
       "        s.onload = () => resolve(paths[lib]);\n",
       "        s.onerror = () => reject(`Error loading script: ${paths[lib]}`);\n",
       "        document.getElementsByTagName(\"head\")[0].appendChild(s);\n",
       "      });\n",
       "    }\n",
       "\n",
       "    function showError(err) {\n",
       "      outputDiv.innerHTML = `<div class=\"error\" style=\"color:red;\">${err}</div>`;\n",
       "      throw err;\n",
       "    }\n",
       "\n",
       "    function displayChart(vegaEmbed) {\n",
       "      vegaEmbed(outputDiv, spec, embedOpt)\n",
       "        .catch(err => showError(`Javascript Error: ${err.message}<br>This usually means there's a typo in your chart specification. See the javascript console for the full traceback.`));\n",
       "    }\n",
       "\n",
       "    if(typeof define === \"function\" && define.amd) {\n",
       "      requirejs.config({paths});\n",
       "      require([\"vega-embed\"], displayChart, err => showError(`Error loading script: ${err.message}`));\n",
       "    } else if (typeof vegaEmbed === \"function\") {\n",
       "      displayChart(vegaEmbed);\n",
       "    } else {\n",
       "      loadScript(\"vega\")\n",
       "        .then(() => loadScript(\"vega-lite\"))\n",
       "        .then(() => loadScript(\"vega-embed\"))\n",
       "        .catch(showError)\n",
       "        .then(() => displayChart(vegaEmbed));\n",
       "    }\n",
       "  })({\"config\": {\"view\": {\"continuousWidth\": 400, \"continuousHeight\": 300}}, \"hconcat\": [{\"mark\": \"point\", \"encoding\": {\"color\": {\"condition\": {\"type\": \"nominal\", \"field\": \"Origin\", \"selection\": \"selector002\"}, \"value\": \"gray\"}, \"x\": {\"type\": \"quantitative\", \"field\": \"Cylinders\"}, \"y\": {\"type\": \"quantitative\", \"field\": \"MPG\"}}, \"height\": 250, \"selection\": {\"selector002\": {\"type\": \"interval\", \"resolve\": \"global\"}}, \"width\": 250}, {\"mark\": \"point\", \"encoding\": {\"color\": {\"condition\": {\"type\": \"nominal\", \"field\": \"Origin\", \"selection\": \"selector002\"}, \"value\": \"gray\"}, \"x\": {\"type\": \"quantitative\", \"field\": \"Displacement\"}, \"y\": {\"type\": \"quantitative\", \"field\": \"MPG\"}}, \"height\": 250, \"selection\": {\"selector002\": {\"type\": \"interval\", \"resolve\": \"global\"}}, \"width\": 250}, {\"mark\": \"point\", \"encoding\": {\"color\": {\"condition\": {\"type\": \"nominal\", \"field\": \"Origin\", \"selection\": \"selector002\"}, \"value\": \"gray\"}, \"x\": {\"type\": \"quantitative\", \"field\": \"Horsepower\"}, \"y\": {\"type\": \"quantitative\", \"field\": \"MPG\"}}, \"height\": 250, \"selection\": {\"selector002\": {\"type\": \"interval\", \"resolve\": \"global\"}}, \"width\": 250}, {\"mark\": \"point\", \"encoding\": {\"color\": {\"condition\": {\"type\": \"nominal\", \"field\": \"Origin\", \"selection\": \"selector002\"}, \"value\": \"gray\"}, \"x\": {\"type\": \"quantitative\", \"field\": \"Acceleration\"}, \"y\": {\"type\": \"quantitative\", \"field\": \"MPG\"}}, \"height\": 250, \"selection\": {\"selector002\": {\"type\": \"interval\", \"resolve\": \"global\"}}, \"width\": 250}], \"data\": {\"name\": \"data-daa415ccd758f64006308758850bfea9\"}, \"$schema\": \"https://vega.github.io/schema/vega-lite/v4.0.2.json\", \"datasets\": {\"data-daa415ccd758f64006308758850bfea9\": [{\"MPG\": 18.0, \"Cylinders\": 8, \"Displacement\": 307.0, \"Horsepower\": 130.0, \"Weight\": 3504.0, \"Acceleration\": 12.0, \"Model Year\": 70, \"Origin\": \"USA\"}, {\"MPG\": 15.0, \"Cylinders\": 8, \"Displacement\": 350.0, \"Horsepower\": 165.0, \"Weight\": 3693.0, \"Acceleration\": 11.5, \"Model Year\": 70, \"Origin\": \"USA\"}, {\"MPG\": 18.0, \"Cylinders\": 8, \"Displacement\": 318.0, \"Horsepower\": 150.0, \"Weight\": 3436.0, \"Acceleration\": 11.0, \"Model Year\": 70, \"Origin\": \"USA\"}, {\"MPG\": 16.0, \"Cylinders\": 8, \"Displacement\": 304.0, \"Horsepower\": 150.0, \"Weight\": 3433.0, \"Acceleration\": 12.0, \"Model Year\": 70, \"Origin\": \"USA\"}, {\"MPG\": 17.0, \"Cylinders\": 8, \"Displacement\": 302.0, \"Horsepower\": 140.0, \"Weight\": 3449.0, \"Acceleration\": 10.5, \"Model Year\": 70, \"Origin\": \"USA\"}, {\"MPG\": 15.0, \"Cylinders\": 8, \"Displacement\": 429.0, \"Horsepower\": 198.0, \"Weight\": 4341.0, \"Acceleration\": 10.0, \"Model Year\": 70, \"Origin\": \"USA\"}, {\"MPG\": 14.0, \"Cylinders\": 8, \"Displacement\": 454.0, \"Horsepower\": 220.0, \"Weight\": 4354.0, \"Acceleration\": 9.0, \"Model Year\": 70, \"Origin\": \"USA\"}, {\"MPG\": 14.0, \"Cylinders\": 8, \"Displacement\": 440.0, \"Horsepower\": 215.0, \"Weight\": 4312.0, \"Acceleration\": 8.5, \"Model Year\": 70, \"Origin\": \"USA\"}, {\"MPG\": 14.0, \"Cylinders\": 8, \"Displacement\": 455.0, \"Horsepower\": 225.0, \"Weight\": 4425.0, \"Acceleration\": 10.0, \"Model Year\": 70, \"Origin\": \"USA\"}, {\"MPG\": 15.0, \"Cylinders\": 8, \"Displacement\": 390.0, \"Horsepower\": 190.0, \"Weight\": 3850.0, \"Acceleration\": 8.5, \"Model Year\": 70, \"Origin\": \"USA\"}, {\"MPG\": 15.0, \"Cylinders\": 8, \"Displacement\": 383.0, \"Horsepower\": 170.0, \"Weight\": 3563.0, \"Acceleration\": 10.0, \"Model Year\": 70, \"Origin\": \"USA\"}, {\"MPG\": 14.0, \"Cylinders\": 8, \"Displacement\": 340.0, \"Horsepower\": 160.0, \"Weight\": 3609.0, \"Acceleration\": 8.0, \"Model Year\": 70, \"Origin\": \"USA\"}, {\"MPG\": 15.0, \"Cylinders\": 8, \"Displacement\": 400.0, \"Horsepower\": 150.0, \"Weight\": 3761.0, \"Acceleration\": 9.5, \"Model Year\": 70, \"Origin\": \"USA\"}, {\"MPG\": 14.0, \"Cylinders\": 8, \"Displacement\": 455.0, \"Horsepower\": 225.0, \"Weight\": 3086.0, \"Acceleration\": 10.0, \"Model Year\": 70, \"Origin\": \"USA\"}, {\"MPG\": 24.0, \"Cylinders\": 4, \"Displacement\": 113.0, \"Horsepower\": 95.0, \"Weight\": 2372.0, \"Acceleration\": 15.0, \"Model Year\": 70, \"Origin\": \"Japan\"}, {\"MPG\": 22.0, \"Cylinders\": 6, \"Displacement\": 198.0, \"Horsepower\": 95.0, \"Weight\": 2833.0, \"Acceleration\": 15.5, \"Model Year\": 70, \"Origin\": \"USA\"}, {\"MPG\": 18.0, \"Cylinders\": 6, \"Displacement\": 199.0, \"Horsepower\": 97.0, \"Weight\": 2774.0, \"Acceleration\": 15.5, \"Model Year\": 70, \"Origin\": \"USA\"}, {\"MPG\": 21.0, \"Cylinders\": 6, \"Displacement\": 200.0, \"Horsepower\": 85.0, \"Weight\": 2587.0, \"Acceleration\": 16.0, \"Model Year\": 70, \"Origin\": \"USA\"}, {\"MPG\": 27.0, \"Cylinders\": 4, \"Displacement\": 97.0, \"Horsepower\": 88.0, \"Weight\": 2130.0, \"Acceleration\": 14.5, \"Model Year\": 70, \"Origin\": \"Japan\"}, {\"MPG\": 26.0, \"Cylinders\": 4, \"Displacement\": 97.0, \"Horsepower\": 46.0, \"Weight\": 1835.0, \"Acceleration\": 20.5, \"Model Year\": 70, \"Origin\": \"Europe\"}, {\"MPG\": 25.0, \"Cylinders\": 4, \"Displacement\": 110.0, \"Horsepower\": 87.0, \"Weight\": 2672.0, \"Acceleration\": 17.5, \"Model Year\": 70, \"Origin\": \"Europe\"}, {\"MPG\": 24.0, \"Cylinders\": 4, \"Displacement\": 107.0, \"Horsepower\": 90.0, \"Weight\": 2430.0, \"Acceleration\": 14.5, \"Model Year\": 70, \"Origin\": \"Europe\"}, {\"MPG\": 25.0, \"Cylinders\": 4, \"Displacement\": 104.0, \"Horsepower\": 95.0, \"Weight\": 2375.0, \"Acceleration\": 17.5, \"Model Year\": 70, \"Origin\": \"Europe\"}, {\"MPG\": 26.0, \"Cylinders\": 4, \"Displacement\": 121.0, \"Horsepower\": 113.0, \"Weight\": 2234.0, \"Acceleration\": 12.5, \"Model Year\": 70, \"Origin\": \"Europe\"}, {\"MPG\": 21.0, \"Cylinders\": 6, \"Displacement\": 199.0, \"Horsepower\": 90.0, \"Weight\": 2648.0, \"Acceleration\": 15.0, \"Model Year\": 70, \"Origin\": \"USA\"}, {\"MPG\": 10.0, \"Cylinders\": 8, \"Displacement\": 360.0, \"Horsepower\": 215.0, \"Weight\": 4615.0, \"Acceleration\": 14.0, \"Model Year\": 70, \"Origin\": \"USA\"}, {\"MPG\": 10.0, \"Cylinders\": 8, \"Displacement\": 307.0, \"Horsepower\": 200.0, \"Weight\": 4376.0, \"Acceleration\": 15.0, \"Model Year\": 70, \"Origin\": \"USA\"}, {\"MPG\": 11.0, \"Cylinders\": 8, \"Displacement\": 318.0, \"Horsepower\": 210.0, \"Weight\": 4382.0, \"Acceleration\": 13.5, \"Model Year\": 70, \"Origin\": \"USA\"}, {\"MPG\": 9.0, \"Cylinders\": 8, \"Displacement\": 304.0, \"Horsepower\": 193.0, \"Weight\": 4732.0, \"Acceleration\": 18.5, \"Model Year\": 70, \"Origin\": \"USA\"}, {\"MPG\": 27.0, \"Cylinders\": 4, \"Displacement\": 97.0, \"Horsepower\": 88.0, \"Weight\": 2130.0, \"Acceleration\": 14.5, \"Model Year\": 71, \"Origin\": \"Japan\"}, {\"MPG\": 28.0, \"Cylinders\": 4, \"Displacement\": 140.0, \"Horsepower\": 90.0, \"Weight\": 2264.0, \"Acceleration\": 15.5, \"Model Year\": 71, \"Origin\": \"USA\"}, {\"MPG\": 25.0, \"Cylinders\": 4, \"Displacement\": 113.0, \"Horsepower\": 95.0, \"Weight\": 2228.0, \"Acceleration\": 14.0, \"Model Year\": 71, \"Origin\": \"Japan\"}, {\"MPG\": 19.0, \"Cylinders\": 6, \"Displacement\": 232.0, \"Horsepower\": 100.0, \"Weight\": 2634.0, \"Acceleration\": 13.0, \"Model Year\": 71, \"Origin\": \"USA\"}, {\"MPG\": 16.0, \"Cylinders\": 6, \"Displacement\": 225.0, \"Horsepower\": 105.0, \"Weight\": 3439.0, \"Acceleration\": 15.5, \"Model Year\": 71, \"Origin\": \"USA\"}, {\"MPG\": 17.0, \"Cylinders\": 6, \"Displacement\": 250.0, \"Horsepower\": 100.0, \"Weight\": 3329.0, \"Acceleration\": 15.5, \"Model Year\": 71, \"Origin\": \"USA\"}, {\"MPG\": 19.0, \"Cylinders\": 6, \"Displacement\": 250.0, \"Horsepower\": 88.0, \"Weight\": 3302.0, \"Acceleration\": 15.5, \"Model Year\": 71, \"Origin\": \"USA\"}, {\"MPG\": 18.0, \"Cylinders\": 6, \"Displacement\": 232.0, \"Horsepower\": 100.0, \"Weight\": 3288.0, \"Acceleration\": 15.5, \"Model Year\": 71, \"Origin\": \"USA\"}, {\"MPG\": 14.0, \"Cylinders\": 8, \"Displacement\": 350.0, \"Horsepower\": 165.0, \"Weight\": 4209.0, \"Acceleration\": 12.0, \"Model Year\": 71, \"Origin\": \"USA\"}, {\"MPG\": 14.0, \"Cylinders\": 8, \"Displacement\": 400.0, \"Horsepower\": 175.0, \"Weight\": 4464.0, \"Acceleration\": 11.5, \"Model Year\": 71, \"Origin\": \"USA\"}, {\"MPG\": 14.0, \"Cylinders\": 8, \"Displacement\": 351.0, \"Horsepower\": 153.0, \"Weight\": 4154.0, \"Acceleration\": 13.5, \"Model Year\": 71, \"Origin\": \"USA\"}, {\"MPG\": 14.0, \"Cylinders\": 8, \"Displacement\": 318.0, \"Horsepower\": 150.0, \"Weight\": 4096.0, \"Acceleration\": 13.0, \"Model Year\": 71, \"Origin\": \"USA\"}, {\"MPG\": 12.0, \"Cylinders\": 8, \"Displacement\": 383.0, \"Horsepower\": 180.0, \"Weight\": 4955.0, \"Acceleration\": 11.5, \"Model Year\": 71, \"Origin\": \"USA\"}, {\"MPG\": 13.0, \"Cylinders\": 8, \"Displacement\": 400.0, \"Horsepower\": 170.0, \"Weight\": 4746.0, \"Acceleration\": 12.0, \"Model Year\": 71, \"Origin\": \"USA\"}, {\"MPG\": 13.0, \"Cylinders\": 8, \"Displacement\": 400.0, \"Horsepower\": 175.0, \"Weight\": 5140.0, \"Acceleration\": 12.0, \"Model Year\": 71, \"Origin\": \"USA\"}, {\"MPG\": 18.0, \"Cylinders\": 6, \"Displacement\": 258.0, \"Horsepower\": 110.0, \"Weight\": 2962.0, \"Acceleration\": 13.5, \"Model Year\": 71, \"Origin\": \"USA\"}, {\"MPG\": 22.0, \"Cylinders\": 4, \"Displacement\": 140.0, \"Horsepower\": 72.0, \"Weight\": 2408.0, \"Acceleration\": 19.0, \"Model Year\": 71, \"Origin\": \"USA\"}, {\"MPG\": 19.0, \"Cylinders\": 6, \"Displacement\": 250.0, \"Horsepower\": 100.0, \"Weight\": 3282.0, \"Acceleration\": 15.0, \"Model Year\": 71, \"Origin\": \"USA\"}, {\"MPG\": 18.0, \"Cylinders\": 6, \"Displacement\": 250.0, \"Horsepower\": 88.0, \"Weight\": 3139.0, \"Acceleration\": 14.5, \"Model Year\": 71, \"Origin\": \"USA\"}, {\"MPG\": 23.0, \"Cylinders\": 4, \"Displacement\": 122.0, \"Horsepower\": 86.0, \"Weight\": 2220.0, \"Acceleration\": 14.0, \"Model Year\": 71, \"Origin\": \"USA\"}, {\"MPG\": 28.0, \"Cylinders\": 4, \"Displacement\": 116.0, \"Horsepower\": 90.0, \"Weight\": 2123.0, \"Acceleration\": 14.0, \"Model Year\": 71, \"Origin\": \"Europe\"}, {\"MPG\": 30.0, \"Cylinders\": 4, \"Displacement\": 79.0, \"Horsepower\": 70.0, \"Weight\": 2074.0, \"Acceleration\": 19.5, \"Model Year\": 71, \"Origin\": \"Europe\"}, {\"MPG\": 30.0, \"Cylinders\": 4, \"Displacement\": 88.0, \"Horsepower\": 76.0, \"Weight\": 2065.0, \"Acceleration\": 14.5, \"Model Year\": 71, \"Origin\": \"Europe\"}, {\"MPG\": 31.0, \"Cylinders\": 4, \"Displacement\": 71.0, \"Horsepower\": 65.0, \"Weight\": 1773.0, \"Acceleration\": 19.0, \"Model Year\": 71, \"Origin\": \"Japan\"}, {\"MPG\": 35.0, \"Cylinders\": 4, \"Displacement\": 72.0, \"Horsepower\": 69.0, \"Weight\": 1613.0, \"Acceleration\": 18.0, \"Model Year\": 71, \"Origin\": \"Japan\"}, {\"MPG\": 27.0, \"Cylinders\": 4, \"Displacement\": 97.0, \"Horsepower\": 60.0, \"Weight\": 1834.0, \"Acceleration\": 19.0, \"Model Year\": 71, \"Origin\": \"Europe\"}, {\"MPG\": 26.0, \"Cylinders\": 4, \"Displacement\": 91.0, \"Horsepower\": 70.0, \"Weight\": 1955.0, \"Acceleration\": 20.5, \"Model Year\": 71, \"Origin\": \"USA\"}, {\"MPG\": 24.0, \"Cylinders\": 4, \"Displacement\": 113.0, \"Horsepower\": 95.0, \"Weight\": 2278.0, \"Acceleration\": 15.5, \"Model Year\": 72, \"Origin\": \"Japan\"}, {\"MPG\": 25.0, \"Cylinders\": 4, \"Displacement\": 97.5, \"Horsepower\": 80.0, \"Weight\": 2126.0, \"Acceleration\": 17.0, \"Model Year\": 72, \"Origin\": \"USA\"}, {\"MPG\": 23.0, \"Cylinders\": 4, \"Displacement\": 97.0, \"Horsepower\": 54.0, \"Weight\": 2254.0, \"Acceleration\": 23.5, \"Model Year\": 72, \"Origin\": \"Europe\"}, {\"MPG\": 20.0, \"Cylinders\": 4, \"Displacement\": 140.0, \"Horsepower\": 90.0, \"Weight\": 2408.0, \"Acceleration\": 19.5, \"Model Year\": 72, \"Origin\": \"USA\"}, {\"MPG\": 21.0, \"Cylinders\": 4, \"Displacement\": 122.0, \"Horsepower\": 86.0, \"Weight\": 2226.0, \"Acceleration\": 16.5, \"Model Year\": 72, \"Origin\": \"USA\"}, {\"MPG\": 13.0, \"Cylinders\": 8, \"Displacement\": 350.0, \"Horsepower\": 165.0, \"Weight\": 4274.0, \"Acceleration\": 12.0, \"Model Year\": 72, \"Origin\": \"USA\"}, {\"MPG\": 14.0, \"Cylinders\": 8, \"Displacement\": 400.0, \"Horsepower\": 175.0, \"Weight\": 4385.0, \"Acceleration\": 12.0, \"Model Year\": 72, \"Origin\": \"USA\"}, {\"MPG\": 15.0, \"Cylinders\": 8, \"Displacement\": 318.0, \"Horsepower\": 150.0, \"Weight\": 4135.0, \"Acceleration\": 13.5, \"Model Year\": 72, \"Origin\": \"USA\"}, {\"MPG\": 14.0, \"Cylinders\": 8, \"Displacement\": 351.0, \"Horsepower\": 153.0, \"Weight\": 4129.0, \"Acceleration\": 13.0, \"Model Year\": 72, \"Origin\": \"USA\"}, {\"MPG\": 17.0, \"Cylinders\": 8, \"Displacement\": 304.0, \"Horsepower\": 150.0, \"Weight\": 3672.0, \"Acceleration\": 11.5, \"Model Year\": 72, \"Origin\": \"USA\"}, {\"MPG\": 11.0, \"Cylinders\": 8, \"Displacement\": 429.0, \"Horsepower\": 208.0, \"Weight\": 4633.0, \"Acceleration\": 11.0, \"Model Year\": 72, \"Origin\": \"USA\"}, {\"MPG\": 13.0, \"Cylinders\": 8, \"Displacement\": 350.0, \"Horsepower\": 155.0, \"Weight\": 4502.0, \"Acceleration\": 13.5, \"Model Year\": 72, \"Origin\": \"USA\"}, {\"MPG\": 12.0, \"Cylinders\": 8, \"Displacement\": 350.0, \"Horsepower\": 160.0, \"Weight\": 4456.0, \"Acceleration\": 13.5, \"Model Year\": 72, \"Origin\": \"USA\"}, {\"MPG\": 13.0, \"Cylinders\": 8, \"Displacement\": 400.0, \"Horsepower\": 190.0, \"Weight\": 4422.0, \"Acceleration\": 12.5, \"Model Year\": 72, \"Origin\": \"USA\"}, {\"MPG\": 19.0, \"Cylinders\": 3, \"Displacement\": 70.0, \"Horsepower\": 97.0, \"Weight\": 2330.0, \"Acceleration\": 13.5, \"Model Year\": 72, \"Origin\": \"Japan\"}, {\"MPG\": 15.0, \"Cylinders\": 8, \"Displacement\": 304.0, \"Horsepower\": 150.0, \"Weight\": 3892.0, \"Acceleration\": 12.5, \"Model Year\": 72, \"Origin\": \"USA\"}, {\"MPG\": 13.0, \"Cylinders\": 8, \"Displacement\": 307.0, \"Horsepower\": 130.0, \"Weight\": 4098.0, \"Acceleration\": 14.0, \"Model Year\": 72, \"Origin\": \"USA\"}, {\"MPG\": 13.0, \"Cylinders\": 8, \"Displacement\": 302.0, \"Horsepower\": 140.0, \"Weight\": 4294.0, \"Acceleration\": 16.0, \"Model Year\": 72, \"Origin\": \"USA\"}, {\"MPG\": 14.0, \"Cylinders\": 8, \"Displacement\": 318.0, \"Horsepower\": 150.0, \"Weight\": 4077.0, \"Acceleration\": 14.0, \"Model Year\": 72, \"Origin\": \"USA\"}, {\"MPG\": 18.0, \"Cylinders\": 4, \"Displacement\": 121.0, \"Horsepower\": 112.0, \"Weight\": 2933.0, \"Acceleration\": 14.5, \"Model Year\": 72, \"Origin\": \"Europe\"}, {\"MPG\": 22.0, \"Cylinders\": 4, \"Displacement\": 121.0, \"Horsepower\": 76.0, \"Weight\": 2511.0, \"Acceleration\": 18.0, \"Model Year\": 72, \"Origin\": \"Europe\"}, {\"MPG\": 21.0, \"Cylinders\": 4, \"Displacement\": 120.0, \"Horsepower\": 87.0, \"Weight\": 2979.0, \"Acceleration\": 19.5, \"Model Year\": 72, \"Origin\": \"Europe\"}, {\"MPG\": 26.0, \"Cylinders\": 4, \"Displacement\": 96.0, \"Horsepower\": 69.0, \"Weight\": 2189.0, \"Acceleration\": 18.0, \"Model Year\": 72, \"Origin\": \"Europe\"}, {\"MPG\": 22.0, \"Cylinders\": 4, \"Displacement\": 122.0, \"Horsepower\": 86.0, \"Weight\": 2395.0, \"Acceleration\": 16.0, \"Model Year\": 72, \"Origin\": \"USA\"}, {\"MPG\": 28.0, \"Cylinders\": 4, \"Displacement\": 97.0, \"Horsepower\": 92.0, \"Weight\": 2288.0, \"Acceleration\": 17.0, \"Model Year\": 72, \"Origin\": \"Japan\"}, {\"MPG\": 23.0, \"Cylinders\": 4, \"Displacement\": 120.0, \"Horsepower\": 97.0, \"Weight\": 2506.0, \"Acceleration\": 14.5, \"Model Year\": 72, \"Origin\": \"Japan\"}, {\"MPG\": 28.0, \"Cylinders\": 4, \"Displacement\": 98.0, \"Horsepower\": 80.0, \"Weight\": 2164.0, \"Acceleration\": 15.0, \"Model Year\": 72, \"Origin\": \"USA\"}, {\"MPG\": 27.0, \"Cylinders\": 4, \"Displacement\": 97.0, \"Horsepower\": 88.0, \"Weight\": 2100.0, \"Acceleration\": 16.5, \"Model Year\": 72, \"Origin\": \"Japan\"}, {\"MPG\": 13.0, \"Cylinders\": 8, \"Displacement\": 350.0, \"Horsepower\": 175.0, \"Weight\": 4100.0, \"Acceleration\": 13.0, \"Model Year\": 73, \"Origin\": \"USA\"}, {\"MPG\": 14.0, \"Cylinders\": 8, \"Displacement\": 304.0, \"Horsepower\": 150.0, \"Weight\": 3672.0, \"Acceleration\": 11.5, \"Model Year\": 73, \"Origin\": \"USA\"}, {\"MPG\": 13.0, \"Cylinders\": 8, \"Displacement\": 350.0, \"Horsepower\": 145.0, \"Weight\": 3988.0, \"Acceleration\": 13.0, \"Model Year\": 73, \"Origin\": \"USA\"}, {\"MPG\": 14.0, \"Cylinders\": 8, \"Displacement\": 302.0, \"Horsepower\": 137.0, \"Weight\": 4042.0, \"Acceleration\": 14.5, \"Model Year\": 73, \"Origin\": \"USA\"}, {\"MPG\": 15.0, \"Cylinders\": 8, \"Displacement\": 318.0, \"Horsepower\": 150.0, \"Weight\": 3777.0, \"Acceleration\": 12.5, \"Model Year\": 73, \"Origin\": \"USA\"}, {\"MPG\": 12.0, \"Cylinders\": 8, \"Displacement\": 429.0, \"Horsepower\": 198.0, \"Weight\": 4952.0, \"Acceleration\": 11.5, \"Model Year\": 73, \"Origin\": \"USA\"}, {\"MPG\": 13.0, \"Cylinders\": 8, \"Displacement\": 400.0, \"Horsepower\": 150.0, \"Weight\": 4464.0, \"Acceleration\": 12.0, \"Model Year\": 73, \"Origin\": \"USA\"}, {\"MPG\": 13.0, \"Cylinders\": 8, \"Displacement\": 351.0, \"Horsepower\": 158.0, \"Weight\": 4363.0, \"Acceleration\": 13.0, \"Model Year\": 73, \"Origin\": \"USA\"}, {\"MPG\": 14.0, \"Cylinders\": 8, \"Displacement\": 318.0, \"Horsepower\": 150.0, \"Weight\": 4237.0, \"Acceleration\": 14.5, \"Model Year\": 73, \"Origin\": \"USA\"}, {\"MPG\": 13.0, \"Cylinders\": 8, \"Displacement\": 440.0, \"Horsepower\": 215.0, \"Weight\": 4735.0, \"Acceleration\": 11.0, \"Model Year\": 73, \"Origin\": \"USA\"}, {\"MPG\": 12.0, \"Cylinders\": 8, \"Displacement\": 455.0, \"Horsepower\": 225.0, \"Weight\": 4951.0, \"Acceleration\": 11.0, \"Model Year\": 73, \"Origin\": \"USA\"}, {\"MPG\": 13.0, \"Cylinders\": 8, \"Displacement\": 360.0, \"Horsepower\": 175.0, \"Weight\": 3821.0, \"Acceleration\": 11.0, \"Model Year\": 73, \"Origin\": \"USA\"}, {\"MPG\": 18.0, \"Cylinders\": 6, \"Displacement\": 225.0, \"Horsepower\": 105.0, \"Weight\": 3121.0, \"Acceleration\": 16.5, \"Model Year\": 73, \"Origin\": \"USA\"}, {\"MPG\": 16.0, \"Cylinders\": 6, \"Displacement\": 250.0, \"Horsepower\": 100.0, \"Weight\": 3278.0, \"Acceleration\": 18.0, \"Model Year\": 73, \"Origin\": \"USA\"}, {\"MPG\": 18.0, \"Cylinders\": 6, \"Displacement\": 232.0, \"Horsepower\": 100.0, \"Weight\": 2945.0, \"Acceleration\": 16.0, \"Model Year\": 73, \"Origin\": \"USA\"}, {\"MPG\": 18.0, \"Cylinders\": 6, \"Displacement\": 250.0, \"Horsepower\": 88.0, \"Weight\": 3021.0, \"Acceleration\": 16.5, \"Model Year\": 73, \"Origin\": \"USA\"}, {\"MPG\": 23.0, \"Cylinders\": 6, \"Displacement\": 198.0, \"Horsepower\": 95.0, \"Weight\": 2904.0, \"Acceleration\": 16.0, \"Model Year\": 73, \"Origin\": \"USA\"}, {\"MPG\": 26.0, \"Cylinders\": 4, \"Displacement\": 97.0, \"Horsepower\": 46.0, \"Weight\": 1950.0, \"Acceleration\": 21.0, \"Model Year\": 73, \"Origin\": \"Europe\"}, {\"MPG\": 11.0, \"Cylinders\": 8, \"Displacement\": 400.0, \"Horsepower\": 150.0, \"Weight\": 4997.0, \"Acceleration\": 14.0, \"Model Year\": 73, \"Origin\": \"USA\"}, {\"MPG\": 12.0, \"Cylinders\": 8, \"Displacement\": 400.0, \"Horsepower\": 167.0, \"Weight\": 4906.0, \"Acceleration\": 12.5, \"Model Year\": 73, \"Origin\": \"USA\"}, {\"MPG\": 13.0, \"Cylinders\": 8, \"Displacement\": 360.0, \"Horsepower\": 170.0, \"Weight\": 4654.0, \"Acceleration\": 13.0, \"Model Year\": 73, \"Origin\": \"USA\"}, {\"MPG\": 12.0, \"Cylinders\": 8, \"Displacement\": 350.0, \"Horsepower\": 180.0, \"Weight\": 4499.0, \"Acceleration\": 12.5, \"Model Year\": 73, \"Origin\": \"USA\"}, {\"MPG\": 18.0, \"Cylinders\": 6, \"Displacement\": 232.0, \"Horsepower\": 100.0, \"Weight\": 2789.0, \"Acceleration\": 15.0, \"Model Year\": 73, \"Origin\": \"USA\"}, {\"MPG\": 20.0, \"Cylinders\": 4, \"Displacement\": 97.0, \"Horsepower\": 88.0, \"Weight\": 2279.0, \"Acceleration\": 19.0, \"Model Year\": 73, \"Origin\": \"Japan\"}, {\"MPG\": 21.0, \"Cylinders\": 4, \"Displacement\": 140.0, \"Horsepower\": 72.0, \"Weight\": 2401.0, \"Acceleration\": 19.5, \"Model Year\": 73, \"Origin\": \"USA\"}, {\"MPG\": 22.0, \"Cylinders\": 4, \"Displacement\": 108.0, \"Horsepower\": 94.0, \"Weight\": 2379.0, \"Acceleration\": 16.5, \"Model Year\": 73, \"Origin\": \"Japan\"}, {\"MPG\": 18.0, \"Cylinders\": 3, \"Displacement\": 70.0, \"Horsepower\": 90.0, \"Weight\": 2124.0, \"Acceleration\": 13.5, \"Model Year\": 73, \"Origin\": \"Japan\"}, {\"MPG\": 19.0, \"Cylinders\": 4, \"Displacement\": 122.0, \"Horsepower\": 85.0, \"Weight\": 2310.0, \"Acceleration\": 18.5, \"Model Year\": 73, \"Origin\": \"USA\"}, {\"MPG\": 21.0, \"Cylinders\": 6, \"Displacement\": 155.0, \"Horsepower\": 107.0, \"Weight\": 2472.0, \"Acceleration\": 14.0, \"Model Year\": 73, \"Origin\": \"USA\"}, {\"MPG\": 26.0, \"Cylinders\": 4, \"Displacement\": 98.0, \"Horsepower\": 90.0, \"Weight\": 2265.0, \"Acceleration\": 15.5, \"Model Year\": 73, \"Origin\": \"Europe\"}, {\"MPG\": 15.0, \"Cylinders\": 8, \"Displacement\": 350.0, \"Horsepower\": 145.0, \"Weight\": 4082.0, \"Acceleration\": 13.0, \"Model Year\": 73, \"Origin\": \"USA\"}, {\"MPG\": 16.0, \"Cylinders\": 8, \"Displacement\": 400.0, \"Horsepower\": 230.0, \"Weight\": 4278.0, \"Acceleration\": 9.5, \"Model Year\": 73, \"Origin\": \"USA\"}, {\"MPG\": 29.0, \"Cylinders\": 4, \"Displacement\": 68.0, \"Horsepower\": 49.0, \"Weight\": 1867.0, \"Acceleration\": 19.5, \"Model Year\": 73, \"Origin\": \"Europe\"}, {\"MPG\": 24.0, \"Cylinders\": 4, \"Displacement\": 116.0, \"Horsepower\": 75.0, \"Weight\": 2158.0, \"Acceleration\": 15.5, \"Model Year\": 73, \"Origin\": \"Europe\"}, {\"MPG\": 20.0, \"Cylinders\": 4, \"Displacement\": 114.0, \"Horsepower\": 91.0, \"Weight\": 2582.0, \"Acceleration\": 14.0, \"Model Year\": 73, \"Origin\": \"Europe\"}, {\"MPG\": 19.0, \"Cylinders\": 4, \"Displacement\": 121.0, \"Horsepower\": 112.0, \"Weight\": 2868.0, \"Acceleration\": 15.5, \"Model Year\": 73, \"Origin\": \"Europe\"}, {\"MPG\": 15.0, \"Cylinders\": 8, \"Displacement\": 318.0, \"Horsepower\": 150.0, \"Weight\": 3399.0, \"Acceleration\": 11.0, \"Model Year\": 73, \"Origin\": \"USA\"}, {\"MPG\": 24.0, \"Cylinders\": 4, \"Displacement\": 121.0, \"Horsepower\": 110.0, \"Weight\": 2660.0, \"Acceleration\": 14.0, \"Model Year\": 73, \"Origin\": \"Europe\"}, {\"MPG\": 20.0, \"Cylinders\": 6, \"Displacement\": 156.0, \"Horsepower\": 122.0, \"Weight\": 2807.0, \"Acceleration\": 13.5, \"Model Year\": 73, \"Origin\": \"Japan\"}, {\"MPG\": 11.0, \"Cylinders\": 8, \"Displacement\": 350.0, \"Horsepower\": 180.0, \"Weight\": 3664.0, \"Acceleration\": 11.0, \"Model Year\": 73, \"Origin\": \"USA\"}, {\"MPG\": 20.0, \"Cylinders\": 6, \"Displacement\": 198.0, \"Horsepower\": 95.0, \"Weight\": 3102.0, \"Acceleration\": 16.5, \"Model Year\": 74, \"Origin\": \"USA\"}, {\"MPG\": 19.0, \"Cylinders\": 6, \"Displacement\": 232.0, \"Horsepower\": 100.0, \"Weight\": 2901.0, \"Acceleration\": 16.0, \"Model Year\": 74, \"Origin\": \"USA\"}, {\"MPG\": 15.0, \"Cylinders\": 6, \"Displacement\": 250.0, \"Horsepower\": 100.0, \"Weight\": 3336.0, \"Acceleration\": 17.0, \"Model Year\": 74, \"Origin\": \"USA\"}, {\"MPG\": 31.0, \"Cylinders\": 4, \"Displacement\": 79.0, \"Horsepower\": 67.0, \"Weight\": 1950.0, \"Acceleration\": 19.0, \"Model Year\": 74, \"Origin\": \"Japan\"}, {\"MPG\": 26.0, \"Cylinders\": 4, \"Displacement\": 122.0, \"Horsepower\": 80.0, \"Weight\": 2451.0, \"Acceleration\": 16.5, \"Model Year\": 74, \"Origin\": \"USA\"}, {\"MPG\": 32.0, \"Cylinders\": 4, \"Displacement\": 71.0, \"Horsepower\": 65.0, \"Weight\": 1836.0, \"Acceleration\": 21.0, \"Model Year\": 74, \"Origin\": \"Japan\"}, {\"MPG\": 25.0, \"Cylinders\": 4, \"Displacement\": 140.0, \"Horsepower\": 75.0, \"Weight\": 2542.0, \"Acceleration\": 17.0, \"Model Year\": 74, \"Origin\": \"USA\"}, {\"MPG\": 16.0, \"Cylinders\": 6, \"Displacement\": 250.0, \"Horsepower\": 100.0, \"Weight\": 3781.0, \"Acceleration\": 17.0, \"Model Year\": 74, \"Origin\": \"USA\"}, {\"MPG\": 16.0, \"Cylinders\": 6, \"Displacement\": 258.0, \"Horsepower\": 110.0, \"Weight\": 3632.0, \"Acceleration\": 18.0, \"Model Year\": 74, \"Origin\": \"USA\"}, {\"MPG\": 18.0, \"Cylinders\": 6, \"Displacement\": 225.0, \"Horsepower\": 105.0, \"Weight\": 3613.0, \"Acceleration\": 16.5, \"Model Year\": 74, \"Origin\": \"USA\"}, {\"MPG\": 16.0, \"Cylinders\": 8, \"Displacement\": 302.0, \"Horsepower\": 140.0, \"Weight\": 4141.0, \"Acceleration\": 14.0, \"Model Year\": 74, \"Origin\": \"USA\"}, {\"MPG\": 13.0, \"Cylinders\": 8, \"Displacement\": 350.0, \"Horsepower\": 150.0, \"Weight\": 4699.0, \"Acceleration\": 14.5, \"Model Year\": 74, \"Origin\": \"USA\"}, {\"MPG\": 14.0, \"Cylinders\": 8, \"Displacement\": 318.0, \"Horsepower\": 150.0, \"Weight\": 4457.0, \"Acceleration\": 13.5, \"Model Year\": 74, \"Origin\": \"USA\"}, {\"MPG\": 14.0, \"Cylinders\": 8, \"Displacement\": 302.0, \"Horsepower\": 140.0, \"Weight\": 4638.0, \"Acceleration\": 16.0, \"Model Year\": 74, \"Origin\": \"USA\"}, {\"MPG\": 14.0, \"Cylinders\": 8, \"Displacement\": 304.0, \"Horsepower\": 150.0, \"Weight\": 4257.0, \"Acceleration\": 15.5, \"Model Year\": 74, \"Origin\": \"USA\"}, {\"MPG\": 29.0, \"Cylinders\": 4, \"Displacement\": 98.0, \"Horsepower\": 83.0, \"Weight\": 2219.0, \"Acceleration\": 16.5, \"Model Year\": 74, \"Origin\": \"Europe\"}, {\"MPG\": 26.0, \"Cylinders\": 4, \"Displacement\": 79.0, \"Horsepower\": 67.0, \"Weight\": 1963.0, \"Acceleration\": 15.5, \"Model Year\": 74, \"Origin\": \"Europe\"}, {\"MPG\": 26.0, \"Cylinders\": 4, \"Displacement\": 97.0, \"Horsepower\": 78.0, \"Weight\": 2300.0, \"Acceleration\": 14.5, \"Model Year\": 74, \"Origin\": \"Europe\"}, {\"MPG\": 31.0, \"Cylinders\": 4, \"Displacement\": 76.0, \"Horsepower\": 52.0, \"Weight\": 1649.0, \"Acceleration\": 16.5, \"Model Year\": 74, \"Origin\": \"Japan\"}, {\"MPG\": 32.0, \"Cylinders\": 4, \"Displacement\": 83.0, \"Horsepower\": 61.0, \"Weight\": 2003.0, \"Acceleration\": 19.0, \"Model Year\": 74, \"Origin\": \"Japan\"}, {\"MPG\": 28.0, \"Cylinders\": 4, \"Displacement\": 90.0, \"Horsepower\": 75.0, \"Weight\": 2125.0, \"Acceleration\": 14.5, \"Model Year\": 74, \"Origin\": \"USA\"}, {\"MPG\": 24.0, \"Cylinders\": 4, \"Displacement\": 90.0, \"Horsepower\": 75.0, \"Weight\": 2108.0, \"Acceleration\": 15.5, \"Model Year\": 74, \"Origin\": \"Europe\"}, {\"MPG\": 26.0, \"Cylinders\": 4, \"Displacement\": 116.0, \"Horsepower\": 75.0, \"Weight\": 2246.0, \"Acceleration\": 14.0, \"Model Year\": 74, \"Origin\": \"Europe\"}, {\"MPG\": 24.0, \"Cylinders\": 4, \"Displacement\": 120.0, \"Horsepower\": 97.0, \"Weight\": 2489.0, \"Acceleration\": 15.0, \"Model Year\": 74, \"Origin\": \"Japan\"}, {\"MPG\": 26.0, \"Cylinders\": 4, \"Displacement\": 108.0, \"Horsepower\": 93.0, \"Weight\": 2391.0, \"Acceleration\": 15.5, \"Model Year\": 74, \"Origin\": \"Japan\"}, {\"MPG\": 31.0, \"Cylinders\": 4, \"Displacement\": 79.0, \"Horsepower\": 67.0, \"Weight\": 2000.0, \"Acceleration\": 16.0, \"Model Year\": 74, \"Origin\": \"Europe\"}, {\"MPG\": 19.0, \"Cylinders\": 6, \"Displacement\": 225.0, \"Horsepower\": 95.0, \"Weight\": 3264.0, \"Acceleration\": 16.0, \"Model Year\": 75, \"Origin\": \"USA\"}, {\"MPG\": 18.0, \"Cylinders\": 6, \"Displacement\": 250.0, \"Horsepower\": 105.0, \"Weight\": 3459.0, \"Acceleration\": 16.0, \"Model Year\": 75, \"Origin\": \"USA\"}, {\"MPG\": 15.0, \"Cylinders\": 6, \"Displacement\": 250.0, \"Horsepower\": 72.0, \"Weight\": 3432.0, \"Acceleration\": 21.0, \"Model Year\": 75, \"Origin\": \"USA\"}, {\"MPG\": 15.0, \"Cylinders\": 6, \"Displacement\": 250.0, \"Horsepower\": 72.0, \"Weight\": 3158.0, \"Acceleration\": 19.5, \"Model Year\": 75, \"Origin\": \"USA\"}, {\"MPG\": 16.0, \"Cylinders\": 8, \"Displacement\": 400.0, \"Horsepower\": 170.0, \"Weight\": 4668.0, \"Acceleration\": 11.5, \"Model Year\": 75, \"Origin\": \"USA\"}, {\"MPG\": 15.0, \"Cylinders\": 8, \"Displacement\": 350.0, \"Horsepower\": 145.0, \"Weight\": 4440.0, \"Acceleration\": 14.0, \"Model Year\": 75, \"Origin\": \"USA\"}, {\"MPG\": 16.0, \"Cylinders\": 8, \"Displacement\": 318.0, \"Horsepower\": 150.0, \"Weight\": 4498.0, \"Acceleration\": 14.5, \"Model Year\": 75, \"Origin\": \"USA\"}, {\"MPG\": 14.0, \"Cylinders\": 8, \"Displacement\": 351.0, \"Horsepower\": 148.0, \"Weight\": 4657.0, \"Acceleration\": 13.5, \"Model Year\": 75, \"Origin\": \"USA\"}, {\"MPG\": 17.0, \"Cylinders\": 6, \"Displacement\": 231.0, \"Horsepower\": 110.0, \"Weight\": 3907.0, \"Acceleration\": 21.0, \"Model Year\": 75, \"Origin\": \"USA\"}, {\"MPG\": 16.0, \"Cylinders\": 6, \"Displacement\": 250.0, \"Horsepower\": 105.0, \"Weight\": 3897.0, \"Acceleration\": 18.5, \"Model Year\": 75, \"Origin\": \"USA\"}, {\"MPG\": 15.0, \"Cylinders\": 6, \"Displacement\": 258.0, \"Horsepower\": 110.0, \"Weight\": 3730.0, \"Acceleration\": 19.0, \"Model Year\": 75, \"Origin\": \"USA\"}, {\"MPG\": 18.0, \"Cylinders\": 6, \"Displacement\": 225.0, \"Horsepower\": 95.0, \"Weight\": 3785.0, \"Acceleration\": 19.0, \"Model Year\": 75, \"Origin\": \"USA\"}, {\"MPG\": 21.0, \"Cylinders\": 6, \"Displacement\": 231.0, \"Horsepower\": 110.0, \"Weight\": 3039.0, \"Acceleration\": 15.0, \"Model Year\": 75, \"Origin\": \"USA\"}, {\"MPG\": 20.0, \"Cylinders\": 8, \"Displacement\": 262.0, \"Horsepower\": 110.0, \"Weight\": 3221.0, \"Acceleration\": 13.5, \"Model Year\": 75, \"Origin\": \"USA\"}, {\"MPG\": 13.0, \"Cylinders\": 8, \"Displacement\": 302.0, \"Horsepower\": 129.0, \"Weight\": 3169.0, \"Acceleration\": 12.0, \"Model Year\": 75, \"Origin\": \"USA\"}, {\"MPG\": 29.0, \"Cylinders\": 4, \"Displacement\": 97.0, \"Horsepower\": 75.0, \"Weight\": 2171.0, \"Acceleration\": 16.0, \"Model Year\": 75, \"Origin\": \"Japan\"}, {\"MPG\": 23.0, \"Cylinders\": 4, \"Displacement\": 140.0, \"Horsepower\": 83.0, \"Weight\": 2639.0, \"Acceleration\": 17.0, \"Model Year\": 75, \"Origin\": \"USA\"}, {\"MPG\": 20.0, \"Cylinders\": 6, \"Displacement\": 232.0, \"Horsepower\": 100.0, \"Weight\": 2914.0, \"Acceleration\": 16.0, \"Model Year\": 75, \"Origin\": \"USA\"}, {\"MPG\": 23.0, \"Cylinders\": 4, \"Displacement\": 140.0, \"Horsepower\": 78.0, \"Weight\": 2592.0, \"Acceleration\": 18.5, \"Model Year\": 75, \"Origin\": \"USA\"}, {\"MPG\": 24.0, \"Cylinders\": 4, \"Displacement\": 134.0, \"Horsepower\": 96.0, \"Weight\": 2702.0, \"Acceleration\": 13.5, \"Model Year\": 75, \"Origin\": \"Japan\"}, {\"MPG\": 25.0, \"Cylinders\": 4, \"Displacement\": 90.0, \"Horsepower\": 71.0, \"Weight\": 2223.0, \"Acceleration\": 16.5, \"Model Year\": 75, \"Origin\": \"Europe\"}, {\"MPG\": 24.0, \"Cylinders\": 4, \"Displacement\": 119.0, \"Horsepower\": 97.0, \"Weight\": 2545.0, \"Acceleration\": 17.0, \"Model Year\": 75, \"Origin\": \"Japan\"}, {\"MPG\": 18.0, \"Cylinders\": 6, \"Displacement\": 171.0, \"Horsepower\": 97.0, \"Weight\": 2984.0, \"Acceleration\": 14.5, \"Model Year\": 75, \"Origin\": \"USA\"}, {\"MPG\": 29.0, \"Cylinders\": 4, \"Displacement\": 90.0, \"Horsepower\": 70.0, \"Weight\": 1937.0, \"Acceleration\": 14.0, \"Model Year\": 75, \"Origin\": \"Europe\"}, {\"MPG\": 19.0, \"Cylinders\": 6, \"Displacement\": 232.0, \"Horsepower\": 90.0, \"Weight\": 3211.0, \"Acceleration\": 17.0, \"Model Year\": 75, \"Origin\": \"USA\"}, {\"MPG\": 23.0, \"Cylinders\": 4, \"Displacement\": 115.0, \"Horsepower\": 95.0, \"Weight\": 2694.0, \"Acceleration\": 15.0, \"Model Year\": 75, \"Origin\": \"Europe\"}, {\"MPG\": 23.0, \"Cylinders\": 4, \"Displacement\": 120.0, \"Horsepower\": 88.0, \"Weight\": 2957.0, \"Acceleration\": 17.0, \"Model Year\": 75, \"Origin\": \"Europe\"}, {\"MPG\": 22.0, \"Cylinders\": 4, \"Displacement\": 121.0, \"Horsepower\": 98.0, \"Weight\": 2945.0, \"Acceleration\": 14.5, \"Model Year\": 75, \"Origin\": \"Europe\"}, {\"MPG\": 25.0, \"Cylinders\": 4, \"Displacement\": 121.0, \"Horsepower\": 115.0, \"Weight\": 2671.0, \"Acceleration\": 13.5, \"Model Year\": 75, \"Origin\": \"Europe\"}, {\"MPG\": 33.0, \"Cylinders\": 4, \"Displacement\": 91.0, \"Horsepower\": 53.0, \"Weight\": 1795.0, \"Acceleration\": 17.5, \"Model Year\": 75, \"Origin\": \"Japan\"}, {\"MPG\": 28.0, \"Cylinders\": 4, \"Displacement\": 107.0, \"Horsepower\": 86.0, \"Weight\": 2464.0, \"Acceleration\": 15.5, \"Model Year\": 76, \"Origin\": \"Europe\"}, {\"MPG\": 25.0, \"Cylinders\": 4, \"Displacement\": 116.0, \"Horsepower\": 81.0, \"Weight\": 2220.0, \"Acceleration\": 16.9, \"Model Year\": 76, \"Origin\": \"Europe\"}, {\"MPG\": 25.0, \"Cylinders\": 4, \"Displacement\": 140.0, \"Horsepower\": 92.0, \"Weight\": 2572.0, \"Acceleration\": 14.9, \"Model Year\": 76, \"Origin\": \"USA\"}, {\"MPG\": 26.0, \"Cylinders\": 4, \"Displacement\": 98.0, \"Horsepower\": 79.0, \"Weight\": 2255.0, \"Acceleration\": 17.7, \"Model Year\": 76, \"Origin\": \"USA\"}, {\"MPG\": 27.0, \"Cylinders\": 4, \"Displacement\": 101.0, \"Horsepower\": 83.0, \"Weight\": 2202.0, \"Acceleration\": 15.3, \"Model Year\": 76, \"Origin\": \"Europe\"}, {\"MPG\": 17.5, \"Cylinders\": 8, \"Displacement\": 305.0, \"Horsepower\": 140.0, \"Weight\": 4215.0, \"Acceleration\": 13.0, \"Model Year\": 76, \"Origin\": \"USA\"}, {\"MPG\": 16.0, \"Cylinders\": 8, \"Displacement\": 318.0, \"Horsepower\": 150.0, \"Weight\": 4190.0, \"Acceleration\": 13.0, \"Model Year\": 76, \"Origin\": \"USA\"}, {\"MPG\": 15.5, \"Cylinders\": 8, \"Displacement\": 304.0, \"Horsepower\": 120.0, \"Weight\": 3962.0, \"Acceleration\": 13.9, \"Model Year\": 76, \"Origin\": \"USA\"}, {\"MPG\": 14.5, \"Cylinders\": 8, \"Displacement\": 351.0, \"Horsepower\": 152.0, \"Weight\": 4215.0, \"Acceleration\": 12.8, \"Model Year\": 76, \"Origin\": \"USA\"}, {\"MPG\": 22.0, \"Cylinders\": 6, \"Displacement\": 225.0, \"Horsepower\": 100.0, \"Weight\": 3233.0, \"Acceleration\": 15.4, \"Model Year\": 76, \"Origin\": \"USA\"}, {\"MPG\": 22.0, \"Cylinders\": 6, \"Displacement\": 250.0, \"Horsepower\": 105.0, \"Weight\": 3353.0, \"Acceleration\": 14.5, \"Model Year\": 76, \"Origin\": \"USA\"}, {\"MPG\": 24.0, \"Cylinders\": 6, \"Displacement\": 200.0, \"Horsepower\": 81.0, \"Weight\": 3012.0, \"Acceleration\": 17.6, \"Model Year\": 76, \"Origin\": \"USA\"}, {\"MPG\": 22.5, \"Cylinders\": 6, \"Displacement\": 232.0, \"Horsepower\": 90.0, \"Weight\": 3085.0, \"Acceleration\": 17.6, \"Model Year\": 76, \"Origin\": \"USA\"}, {\"MPG\": 29.0, \"Cylinders\": 4, \"Displacement\": 85.0, \"Horsepower\": 52.0, \"Weight\": 2035.0, \"Acceleration\": 22.2, \"Model Year\": 76, \"Origin\": \"USA\"}, {\"MPG\": 24.5, \"Cylinders\": 4, \"Displacement\": 98.0, \"Horsepower\": 60.0, \"Weight\": 2164.0, \"Acceleration\": 22.1, \"Model Year\": 76, \"Origin\": \"USA\"}, {\"MPG\": 29.0, \"Cylinders\": 4, \"Displacement\": 90.0, \"Horsepower\": 70.0, \"Weight\": 1937.0, \"Acceleration\": 14.2, \"Model Year\": 76, \"Origin\": \"Europe\"}, {\"MPG\": 33.0, \"Cylinders\": 4, \"Displacement\": 91.0, \"Horsepower\": 53.0, \"Weight\": 1795.0, \"Acceleration\": 17.4, \"Model Year\": 76, \"Origin\": \"Japan\"}, {\"MPG\": 20.0, \"Cylinders\": 6, \"Displacement\": 225.0, \"Horsepower\": 100.0, \"Weight\": 3651.0, \"Acceleration\": 17.7, \"Model Year\": 76, \"Origin\": \"USA\"}, {\"MPG\": 18.0, \"Cylinders\": 6, \"Displacement\": 250.0, \"Horsepower\": 78.0, \"Weight\": 3574.0, \"Acceleration\": 21.0, \"Model Year\": 76, \"Origin\": \"USA\"}, {\"MPG\": 18.5, \"Cylinders\": 6, \"Displacement\": 250.0, \"Horsepower\": 110.0, \"Weight\": 3645.0, \"Acceleration\": 16.2, \"Model Year\": 76, \"Origin\": \"USA\"}, {\"MPG\": 17.5, \"Cylinders\": 6, \"Displacement\": 258.0, \"Horsepower\": 95.0, \"Weight\": 3193.0, \"Acceleration\": 17.8, \"Model Year\": 76, \"Origin\": \"USA\"}, {\"MPG\": 29.5, \"Cylinders\": 4, \"Displacement\": 97.0, \"Horsepower\": 71.0, \"Weight\": 1825.0, \"Acceleration\": 12.2, \"Model Year\": 76, \"Origin\": \"Europe\"}, {\"MPG\": 32.0, \"Cylinders\": 4, \"Displacement\": 85.0, \"Horsepower\": 70.0, \"Weight\": 1990.0, \"Acceleration\": 17.0, \"Model Year\": 76, \"Origin\": \"Japan\"}, {\"MPG\": 28.0, \"Cylinders\": 4, \"Displacement\": 97.0, \"Horsepower\": 75.0, \"Weight\": 2155.0, \"Acceleration\": 16.4, \"Model Year\": 76, \"Origin\": \"Japan\"}, {\"MPG\": 26.5, \"Cylinders\": 4, \"Displacement\": 140.0, \"Horsepower\": 72.0, \"Weight\": 2565.0, \"Acceleration\": 13.6, \"Model Year\": 76, \"Origin\": \"USA\"}, {\"MPG\": 20.0, \"Cylinders\": 4, \"Displacement\": 130.0, \"Horsepower\": 102.0, \"Weight\": 3150.0, \"Acceleration\": 15.7, \"Model Year\": 76, \"Origin\": \"Europe\"}, {\"MPG\": 13.0, \"Cylinders\": 8, \"Displacement\": 318.0, \"Horsepower\": 150.0, \"Weight\": 3940.0, \"Acceleration\": 13.2, \"Model Year\": 76, \"Origin\": \"USA\"}, {\"MPG\": 19.0, \"Cylinders\": 4, \"Displacement\": 120.0, \"Horsepower\": 88.0, \"Weight\": 3270.0, \"Acceleration\": 21.9, \"Model Year\": 76, \"Origin\": \"Europe\"}, {\"MPG\": 19.0, \"Cylinders\": 6, \"Displacement\": 156.0, \"Horsepower\": 108.0, \"Weight\": 2930.0, \"Acceleration\": 15.5, \"Model Year\": 76, \"Origin\": \"Japan\"}, {\"MPG\": 16.5, \"Cylinders\": 6, \"Displacement\": 168.0, \"Horsepower\": 120.0, \"Weight\": 3820.0, \"Acceleration\": 16.7, \"Model Year\": 76, \"Origin\": \"Europe\"}, {\"MPG\": 16.5, \"Cylinders\": 8, \"Displacement\": 350.0, \"Horsepower\": 180.0, \"Weight\": 4380.0, \"Acceleration\": 12.1, \"Model Year\": 76, \"Origin\": \"USA\"}, {\"MPG\": 13.0, \"Cylinders\": 8, \"Displacement\": 350.0, \"Horsepower\": 145.0, \"Weight\": 4055.0, \"Acceleration\": 12.0, \"Model Year\": 76, \"Origin\": \"USA\"}, {\"MPG\": 13.0, \"Cylinders\": 8, \"Displacement\": 302.0, \"Horsepower\": 130.0, \"Weight\": 3870.0, \"Acceleration\": 15.0, \"Model Year\": 76, \"Origin\": \"USA\"}, {\"MPG\": 13.0, \"Cylinders\": 8, \"Displacement\": 318.0, \"Horsepower\": 150.0, \"Weight\": 3755.0, \"Acceleration\": 14.0, \"Model Year\": 76, \"Origin\": \"USA\"}, {\"MPG\": 31.5, \"Cylinders\": 4, \"Displacement\": 98.0, \"Horsepower\": 68.0, \"Weight\": 2045.0, \"Acceleration\": 18.5, \"Model Year\": 77, \"Origin\": \"Japan\"}, {\"MPG\": 30.0, \"Cylinders\": 4, \"Displacement\": 111.0, \"Horsepower\": 80.0, \"Weight\": 2155.0, \"Acceleration\": 14.8, \"Model Year\": 77, \"Origin\": \"USA\"}, {\"MPG\": 36.0, \"Cylinders\": 4, \"Displacement\": 79.0, \"Horsepower\": 58.0, \"Weight\": 1825.0, \"Acceleration\": 18.6, \"Model Year\": 77, \"Origin\": \"Europe\"}, {\"MPG\": 25.5, \"Cylinders\": 4, \"Displacement\": 122.0, \"Horsepower\": 96.0, \"Weight\": 2300.0, \"Acceleration\": 15.5, \"Model Year\": 77, \"Origin\": \"USA\"}, {\"MPG\": 33.5, \"Cylinders\": 4, \"Displacement\": 85.0, \"Horsepower\": 70.0, \"Weight\": 1945.0, \"Acceleration\": 16.8, \"Model Year\": 77, \"Origin\": \"Japan\"}, {\"MPG\": 17.5, \"Cylinders\": 8, \"Displacement\": 305.0, \"Horsepower\": 145.0, \"Weight\": 3880.0, \"Acceleration\": 12.5, \"Model Year\": 77, \"Origin\": \"USA\"}, {\"MPG\": 17.0, \"Cylinders\": 8, \"Displacement\": 260.0, \"Horsepower\": 110.0, \"Weight\": 4060.0, \"Acceleration\": 19.0, \"Model Year\": 77, \"Origin\": \"USA\"}, {\"MPG\": 15.5, \"Cylinders\": 8, \"Displacement\": 318.0, \"Horsepower\": 145.0, \"Weight\": 4140.0, \"Acceleration\": 13.7, \"Model Year\": 77, \"Origin\": \"USA\"}, {\"MPG\": 15.0, \"Cylinders\": 8, \"Displacement\": 302.0, \"Horsepower\": 130.0, \"Weight\": 4295.0, \"Acceleration\": 14.9, \"Model Year\": 77, \"Origin\": \"USA\"}, {\"MPG\": 17.5, \"Cylinders\": 6, \"Displacement\": 250.0, \"Horsepower\": 110.0, \"Weight\": 3520.0, \"Acceleration\": 16.4, \"Model Year\": 77, \"Origin\": \"USA\"}, {\"MPG\": 20.5, \"Cylinders\": 6, \"Displacement\": 231.0, \"Horsepower\": 105.0, \"Weight\": 3425.0, \"Acceleration\": 16.9, \"Model Year\": 77, \"Origin\": \"USA\"}, {\"MPG\": 19.0, \"Cylinders\": 6, \"Displacement\": 225.0, \"Horsepower\": 100.0, \"Weight\": 3630.0, \"Acceleration\": 17.7, \"Model Year\": 77, \"Origin\": \"USA\"}, {\"MPG\": 18.5, \"Cylinders\": 6, \"Displacement\": 250.0, \"Horsepower\": 98.0, \"Weight\": 3525.0, \"Acceleration\": 19.0, \"Model Year\": 77, \"Origin\": \"USA\"}, {\"MPG\": 16.0, \"Cylinders\": 8, \"Displacement\": 400.0, \"Horsepower\": 180.0, \"Weight\": 4220.0, \"Acceleration\": 11.1, \"Model Year\": 77, \"Origin\": \"USA\"}, {\"MPG\": 15.5, \"Cylinders\": 8, \"Displacement\": 350.0, \"Horsepower\": 170.0, \"Weight\": 4165.0, \"Acceleration\": 11.4, \"Model Year\": 77, \"Origin\": \"USA\"}, {\"MPG\": 15.5, \"Cylinders\": 8, \"Displacement\": 400.0, \"Horsepower\": 190.0, \"Weight\": 4325.0, \"Acceleration\": 12.2, \"Model Year\": 77, \"Origin\": \"USA\"}, {\"MPG\": 16.0, \"Cylinders\": 8, \"Displacement\": 351.0, \"Horsepower\": 149.0, \"Weight\": 4335.0, \"Acceleration\": 14.5, \"Model Year\": 77, \"Origin\": \"USA\"}, {\"MPG\": 29.0, \"Cylinders\": 4, \"Displacement\": 97.0, \"Horsepower\": 78.0, \"Weight\": 1940.0, \"Acceleration\": 14.5, \"Model Year\": 77, \"Origin\": \"Europe\"}, {\"MPG\": 24.5, \"Cylinders\": 4, \"Displacement\": 151.0, \"Horsepower\": 88.0, \"Weight\": 2740.0, \"Acceleration\": 16.0, \"Model Year\": 77, \"Origin\": \"USA\"}, {\"MPG\": 26.0, \"Cylinders\": 4, \"Displacement\": 97.0, \"Horsepower\": 75.0, \"Weight\": 2265.0, \"Acceleration\": 18.2, \"Model Year\": 77, \"Origin\": \"Japan\"}, {\"MPG\": 25.5, \"Cylinders\": 4, \"Displacement\": 140.0, \"Horsepower\": 89.0, \"Weight\": 2755.0, \"Acceleration\": 15.8, \"Model Year\": 77, \"Origin\": \"USA\"}, {\"MPG\": 30.5, \"Cylinders\": 4, \"Displacement\": 98.0, \"Horsepower\": 63.0, \"Weight\": 2051.0, \"Acceleration\": 17.0, \"Model Year\": 77, \"Origin\": \"USA\"}, {\"MPG\": 33.5, \"Cylinders\": 4, \"Displacement\": 98.0, \"Horsepower\": 83.0, \"Weight\": 2075.0, \"Acceleration\": 15.9, \"Model Year\": 77, \"Origin\": \"USA\"}, {\"MPG\": 30.0, \"Cylinders\": 4, \"Displacement\": 97.0, \"Horsepower\": 67.0, \"Weight\": 1985.0, \"Acceleration\": 16.4, \"Model Year\": 77, \"Origin\": \"Japan\"}, {\"MPG\": 30.5, \"Cylinders\": 4, \"Displacement\": 97.0, \"Horsepower\": 78.0, \"Weight\": 2190.0, \"Acceleration\": 14.1, \"Model Year\": 77, \"Origin\": \"Europe\"}, {\"MPG\": 22.0, \"Cylinders\": 6, \"Displacement\": 146.0, \"Horsepower\": 97.0, \"Weight\": 2815.0, \"Acceleration\": 14.5, \"Model Year\": 77, \"Origin\": \"Japan\"}, {\"MPG\": 21.5, \"Cylinders\": 4, \"Displacement\": 121.0, \"Horsepower\": 110.0, \"Weight\": 2600.0, \"Acceleration\": 12.8, \"Model Year\": 77, \"Origin\": \"Europe\"}, {\"MPG\": 21.5, \"Cylinders\": 3, \"Displacement\": 80.0, \"Horsepower\": 110.0, \"Weight\": 2720.0, \"Acceleration\": 13.5, \"Model Year\": 77, \"Origin\": \"Japan\"}, {\"MPG\": 43.1, \"Cylinders\": 4, \"Displacement\": 90.0, \"Horsepower\": 48.0, \"Weight\": 1985.0, \"Acceleration\": 21.5, \"Model Year\": 78, \"Origin\": \"Europe\"}, {\"MPG\": 36.1, \"Cylinders\": 4, \"Displacement\": 98.0, \"Horsepower\": 66.0, \"Weight\": 1800.0, \"Acceleration\": 14.4, \"Model Year\": 78, \"Origin\": \"USA\"}, {\"MPG\": 32.8, \"Cylinders\": 4, \"Displacement\": 78.0, \"Horsepower\": 52.0, \"Weight\": 1985.0, \"Acceleration\": 19.4, \"Model Year\": 78, \"Origin\": \"Japan\"}, {\"MPG\": 39.4, \"Cylinders\": 4, \"Displacement\": 85.0, \"Horsepower\": 70.0, \"Weight\": 2070.0, \"Acceleration\": 18.6, \"Model Year\": 78, \"Origin\": \"Japan\"}, {\"MPG\": 36.1, \"Cylinders\": 4, \"Displacement\": 91.0, \"Horsepower\": 60.0, \"Weight\": 1800.0, \"Acceleration\": 16.4, \"Model Year\": 78, \"Origin\": \"Japan\"}, {\"MPG\": 19.9, \"Cylinders\": 8, \"Displacement\": 260.0, \"Horsepower\": 110.0, \"Weight\": 3365.0, \"Acceleration\": 15.5, \"Model Year\": 78, \"Origin\": \"USA\"}, {\"MPG\": 19.4, \"Cylinders\": 8, \"Displacement\": 318.0, \"Horsepower\": 140.0, \"Weight\": 3735.0, \"Acceleration\": 13.2, \"Model Year\": 78, \"Origin\": \"USA\"}, {\"MPG\": 20.2, \"Cylinders\": 8, \"Displacement\": 302.0, \"Horsepower\": 139.0, \"Weight\": 3570.0, \"Acceleration\": 12.8, \"Model Year\": 78, \"Origin\": \"USA\"}, {\"MPG\": 19.2, \"Cylinders\": 6, \"Displacement\": 231.0, \"Horsepower\": 105.0, \"Weight\": 3535.0, \"Acceleration\": 19.2, \"Model Year\": 78, \"Origin\": \"USA\"}, {\"MPG\": 20.5, \"Cylinders\": 6, \"Displacement\": 200.0, \"Horsepower\": 95.0, \"Weight\": 3155.0, \"Acceleration\": 18.2, \"Model Year\": 78, \"Origin\": \"USA\"}, {\"MPG\": 20.2, \"Cylinders\": 6, \"Displacement\": 200.0, \"Horsepower\": 85.0, \"Weight\": 2965.0, \"Acceleration\": 15.8, \"Model Year\": 78, \"Origin\": \"USA\"}, {\"MPG\": 25.1, \"Cylinders\": 4, \"Displacement\": 140.0, \"Horsepower\": 88.0, \"Weight\": 2720.0, \"Acceleration\": 15.4, \"Model Year\": 78, \"Origin\": \"USA\"}, {\"MPG\": 20.5, \"Cylinders\": 6, \"Displacement\": 225.0, \"Horsepower\": 100.0, \"Weight\": 3430.0, \"Acceleration\": 17.2, \"Model Year\": 78, \"Origin\": \"USA\"}, {\"MPG\": 19.4, \"Cylinders\": 6, \"Displacement\": 232.0, \"Horsepower\": 90.0, \"Weight\": 3210.0, \"Acceleration\": 17.2, \"Model Year\": 78, \"Origin\": \"USA\"}, {\"MPG\": 20.6, \"Cylinders\": 6, \"Displacement\": 231.0, \"Horsepower\": 105.0, \"Weight\": 3380.0, \"Acceleration\": 15.8, \"Model Year\": 78, \"Origin\": \"USA\"}, {\"MPG\": 20.8, \"Cylinders\": 6, \"Displacement\": 200.0, \"Horsepower\": 85.0, \"Weight\": 3070.0, \"Acceleration\": 16.7, \"Model Year\": 78, \"Origin\": \"USA\"}, {\"MPG\": 18.6, \"Cylinders\": 6, \"Displacement\": 225.0, \"Horsepower\": 110.0, \"Weight\": 3620.0, \"Acceleration\": 18.7, \"Model Year\": 78, \"Origin\": \"USA\"}, {\"MPG\": 18.1, \"Cylinders\": 6, \"Displacement\": 258.0, \"Horsepower\": 120.0, \"Weight\": 3410.0, \"Acceleration\": 15.1, \"Model Year\": 78, \"Origin\": \"USA\"}, {\"MPG\": 19.2, \"Cylinders\": 8, \"Displacement\": 305.0, \"Horsepower\": 145.0, \"Weight\": 3425.0, \"Acceleration\": 13.2, \"Model Year\": 78, \"Origin\": \"USA\"}, {\"MPG\": 17.7, \"Cylinders\": 6, \"Displacement\": 231.0, \"Horsepower\": 165.0, \"Weight\": 3445.0, \"Acceleration\": 13.4, \"Model Year\": 78, \"Origin\": \"USA\"}, {\"MPG\": 18.1, \"Cylinders\": 8, \"Displacement\": 302.0, \"Horsepower\": 139.0, \"Weight\": 3205.0, \"Acceleration\": 11.2, \"Model Year\": 78, \"Origin\": \"USA\"}, {\"MPG\": 17.5, \"Cylinders\": 8, \"Displacement\": 318.0, \"Horsepower\": 140.0, \"Weight\": 4080.0, \"Acceleration\": 13.7, \"Model Year\": 78, \"Origin\": \"USA\"}, {\"MPG\": 30.0, \"Cylinders\": 4, \"Displacement\": 98.0, \"Horsepower\": 68.0, \"Weight\": 2155.0, \"Acceleration\": 16.5, \"Model Year\": 78, \"Origin\": \"USA\"}, {\"MPG\": 27.5, \"Cylinders\": 4, \"Displacement\": 134.0, \"Horsepower\": 95.0, \"Weight\": 2560.0, \"Acceleration\": 14.2, \"Model Year\": 78, \"Origin\": \"Japan\"}, {\"MPG\": 27.2, \"Cylinders\": 4, \"Displacement\": 119.0, \"Horsepower\": 97.0, \"Weight\": 2300.0, \"Acceleration\": 14.7, \"Model Year\": 78, \"Origin\": \"Japan\"}, {\"MPG\": 30.9, \"Cylinders\": 4, \"Displacement\": 105.0, \"Horsepower\": 75.0, \"Weight\": 2230.0, \"Acceleration\": 14.5, \"Model Year\": 78, \"Origin\": \"USA\"}, {\"MPG\": 21.1, \"Cylinders\": 4, \"Displacement\": 134.0, \"Horsepower\": 95.0, \"Weight\": 2515.0, \"Acceleration\": 14.8, \"Model Year\": 78, \"Origin\": \"Japan\"}, {\"MPG\": 23.2, \"Cylinders\": 4, \"Displacement\": 156.0, \"Horsepower\": 105.0, \"Weight\": 2745.0, \"Acceleration\": 16.7, \"Model Year\": 78, \"Origin\": \"USA\"}, {\"MPG\": 23.8, \"Cylinders\": 4, \"Displacement\": 151.0, \"Horsepower\": 85.0, \"Weight\": 2855.0, \"Acceleration\": 17.6, \"Model Year\": 78, \"Origin\": \"USA\"}, {\"MPG\": 23.9, \"Cylinders\": 4, \"Displacement\": 119.0, \"Horsepower\": 97.0, \"Weight\": 2405.0, \"Acceleration\": 14.9, \"Model Year\": 78, \"Origin\": \"Japan\"}, {\"MPG\": 20.3, \"Cylinders\": 5, \"Displacement\": 131.0, \"Horsepower\": 103.0, \"Weight\": 2830.0, \"Acceleration\": 15.9, \"Model Year\": 78, \"Origin\": \"Europe\"}, {\"MPG\": 17.0, \"Cylinders\": 6, \"Displacement\": 163.0, \"Horsepower\": 125.0, \"Weight\": 3140.0, \"Acceleration\": 13.6, \"Model Year\": 78, \"Origin\": \"Europe\"}, {\"MPG\": 21.6, \"Cylinders\": 4, \"Displacement\": 121.0, \"Horsepower\": 115.0, \"Weight\": 2795.0, \"Acceleration\": 15.7, \"Model Year\": 78, \"Origin\": \"Europe\"}, {\"MPG\": 16.2, \"Cylinders\": 6, \"Displacement\": 163.0, \"Horsepower\": 133.0, \"Weight\": 3410.0, \"Acceleration\": 15.8, \"Model Year\": 78, \"Origin\": \"Europe\"}, {\"MPG\": 31.5, \"Cylinders\": 4, \"Displacement\": 89.0, \"Horsepower\": 71.0, \"Weight\": 1990.0, \"Acceleration\": 14.9, \"Model Year\": 78, \"Origin\": \"Europe\"}, {\"MPG\": 29.5, \"Cylinders\": 4, \"Displacement\": 98.0, \"Horsepower\": 68.0, \"Weight\": 2135.0, \"Acceleration\": 16.6, \"Model Year\": 78, \"Origin\": \"Japan\"}, {\"MPG\": 21.5, \"Cylinders\": 6, \"Displacement\": 231.0, \"Horsepower\": 115.0, \"Weight\": 3245.0, \"Acceleration\": 15.4, \"Model Year\": 79, \"Origin\": \"USA\"}, {\"MPG\": 19.8, \"Cylinders\": 6, \"Displacement\": 200.0, \"Horsepower\": 85.0, \"Weight\": 2990.0, \"Acceleration\": 18.2, \"Model Year\": 79, \"Origin\": \"USA\"}, {\"MPG\": 22.3, \"Cylinders\": 4, \"Displacement\": 140.0, \"Horsepower\": 88.0, \"Weight\": 2890.0, \"Acceleration\": 17.3, \"Model Year\": 79, \"Origin\": \"USA\"}, {\"MPG\": 20.2, \"Cylinders\": 6, \"Displacement\": 232.0, \"Horsepower\": 90.0, \"Weight\": 3265.0, \"Acceleration\": 18.2, \"Model Year\": 79, \"Origin\": \"USA\"}, {\"MPG\": 20.6, \"Cylinders\": 6, \"Displacement\": 225.0, \"Horsepower\": 110.0, \"Weight\": 3360.0, \"Acceleration\": 16.6, \"Model Year\": 79, \"Origin\": \"USA\"}, {\"MPG\": 17.0, \"Cylinders\": 8, \"Displacement\": 305.0, \"Horsepower\": 130.0, \"Weight\": 3840.0, \"Acceleration\": 15.4, \"Model Year\": 79, \"Origin\": \"USA\"}, {\"MPG\": 17.6, \"Cylinders\": 8, \"Displacement\": 302.0, \"Horsepower\": 129.0, \"Weight\": 3725.0, \"Acceleration\": 13.4, \"Model Year\": 79, \"Origin\": \"USA\"}, {\"MPG\": 16.5, \"Cylinders\": 8, \"Displacement\": 351.0, \"Horsepower\": 138.0, \"Weight\": 3955.0, \"Acceleration\": 13.2, \"Model Year\": 79, \"Origin\": \"USA\"}, {\"MPG\": 18.2, \"Cylinders\": 8, \"Displacement\": 318.0, \"Horsepower\": 135.0, \"Weight\": 3830.0, \"Acceleration\": 15.2, \"Model Year\": 79, \"Origin\": \"USA\"}, {\"MPG\": 16.9, \"Cylinders\": 8, \"Displacement\": 350.0, \"Horsepower\": 155.0, \"Weight\": 4360.0, \"Acceleration\": 14.9, \"Model Year\": 79, \"Origin\": \"USA\"}, {\"MPG\": 15.5, \"Cylinders\": 8, \"Displacement\": 351.0, \"Horsepower\": 142.0, \"Weight\": 4054.0, \"Acceleration\": 14.3, \"Model Year\": 79, \"Origin\": \"USA\"}, {\"MPG\": 19.2, \"Cylinders\": 8, \"Displacement\": 267.0, \"Horsepower\": 125.0, \"Weight\": 3605.0, \"Acceleration\": 15.0, \"Model Year\": 79, \"Origin\": \"USA\"}, {\"MPG\": 18.5, \"Cylinders\": 8, \"Displacement\": 360.0, \"Horsepower\": 150.0, \"Weight\": 3940.0, \"Acceleration\": 13.0, \"Model Year\": 79, \"Origin\": \"USA\"}, {\"MPG\": 31.9, \"Cylinders\": 4, \"Displacement\": 89.0, \"Horsepower\": 71.0, \"Weight\": 1925.0, \"Acceleration\": 14.0, \"Model Year\": 79, \"Origin\": \"Europe\"}, {\"MPG\": 34.1, \"Cylinders\": 4, \"Displacement\": 86.0, \"Horsepower\": 65.0, \"Weight\": 1975.0, \"Acceleration\": 15.2, \"Model Year\": 79, \"Origin\": \"Japan\"}, {\"MPG\": 35.7, \"Cylinders\": 4, \"Displacement\": 98.0, \"Horsepower\": 80.0, \"Weight\": 1915.0, \"Acceleration\": 14.4, \"Model Year\": 79, \"Origin\": \"USA\"}, {\"MPG\": 27.4, \"Cylinders\": 4, \"Displacement\": 121.0, \"Horsepower\": 80.0, \"Weight\": 2670.0, \"Acceleration\": 15.0, \"Model Year\": 79, \"Origin\": \"USA\"}, {\"MPG\": 25.4, \"Cylinders\": 5, \"Displacement\": 183.0, \"Horsepower\": 77.0, \"Weight\": 3530.0, \"Acceleration\": 20.1, \"Model Year\": 79, \"Origin\": \"Europe\"}, {\"MPG\": 23.0, \"Cylinders\": 8, \"Displacement\": 350.0, \"Horsepower\": 125.0, \"Weight\": 3900.0, \"Acceleration\": 17.4, \"Model Year\": 79, \"Origin\": \"USA\"}, {\"MPG\": 27.2, \"Cylinders\": 4, \"Displacement\": 141.0, \"Horsepower\": 71.0, \"Weight\": 3190.0, \"Acceleration\": 24.8, \"Model Year\": 79, \"Origin\": \"Europe\"}, {\"MPG\": 23.9, \"Cylinders\": 8, \"Displacement\": 260.0, \"Horsepower\": 90.0, \"Weight\": 3420.0, \"Acceleration\": 22.2, \"Model Year\": 79, \"Origin\": \"USA\"}, {\"MPG\": 34.2, \"Cylinders\": 4, \"Displacement\": 105.0, \"Horsepower\": 70.0, \"Weight\": 2200.0, \"Acceleration\": 13.2, \"Model Year\": 79, \"Origin\": \"USA\"}, {\"MPG\": 34.5, \"Cylinders\": 4, \"Displacement\": 105.0, \"Horsepower\": 70.0, \"Weight\": 2150.0, \"Acceleration\": 14.9, \"Model Year\": 79, \"Origin\": \"USA\"}, {\"MPG\": 31.8, \"Cylinders\": 4, \"Displacement\": 85.0, \"Horsepower\": 65.0, \"Weight\": 2020.0, \"Acceleration\": 19.2, \"Model Year\": 79, \"Origin\": \"Japan\"}, {\"MPG\": 37.3, \"Cylinders\": 4, \"Displacement\": 91.0, \"Horsepower\": 69.0, \"Weight\": 2130.0, \"Acceleration\": 14.7, \"Model Year\": 79, \"Origin\": \"Europe\"}, {\"MPG\": 28.4, \"Cylinders\": 4, \"Displacement\": 151.0, \"Horsepower\": 90.0, \"Weight\": 2670.0, \"Acceleration\": 16.0, \"Model Year\": 79, \"Origin\": \"USA\"}, {\"MPG\": 28.8, \"Cylinders\": 6, \"Displacement\": 173.0, \"Horsepower\": 115.0, \"Weight\": 2595.0, \"Acceleration\": 11.3, \"Model Year\": 79, \"Origin\": \"USA\"}, {\"MPG\": 26.8, \"Cylinders\": 6, \"Displacement\": 173.0, \"Horsepower\": 115.0, \"Weight\": 2700.0, \"Acceleration\": 12.9, \"Model Year\": 79, \"Origin\": \"USA\"}, {\"MPG\": 33.5, \"Cylinders\": 4, \"Displacement\": 151.0, \"Horsepower\": 90.0, \"Weight\": 2556.0, \"Acceleration\": 13.2, \"Model Year\": 79, \"Origin\": \"USA\"}, {\"MPG\": 41.5, \"Cylinders\": 4, \"Displacement\": 98.0, \"Horsepower\": 76.0, \"Weight\": 2144.0, \"Acceleration\": 14.7, \"Model Year\": 80, \"Origin\": \"Europe\"}, {\"MPG\": 38.1, \"Cylinders\": 4, \"Displacement\": 89.0, \"Horsepower\": 60.0, \"Weight\": 1968.0, \"Acceleration\": 18.8, \"Model Year\": 80, \"Origin\": \"Japan\"}, {\"MPG\": 32.1, \"Cylinders\": 4, \"Displacement\": 98.0, \"Horsepower\": 70.0, \"Weight\": 2120.0, \"Acceleration\": 15.5, \"Model Year\": 80, \"Origin\": \"USA\"}, {\"MPG\": 37.2, \"Cylinders\": 4, \"Displacement\": 86.0, \"Horsepower\": 65.0, \"Weight\": 2019.0, \"Acceleration\": 16.4, \"Model Year\": 80, \"Origin\": \"Japan\"}, {\"MPG\": 28.0, \"Cylinders\": 4, \"Displacement\": 151.0, \"Horsepower\": 90.0, \"Weight\": 2678.0, \"Acceleration\": 16.5, \"Model Year\": 80, \"Origin\": \"USA\"}, {\"MPG\": 26.4, \"Cylinders\": 4, \"Displacement\": 140.0, \"Horsepower\": 88.0, \"Weight\": 2870.0, \"Acceleration\": 18.1, \"Model Year\": 80, \"Origin\": \"USA\"}, {\"MPG\": 24.3, \"Cylinders\": 4, \"Displacement\": 151.0, \"Horsepower\": 90.0, \"Weight\": 3003.0, \"Acceleration\": 20.1, \"Model Year\": 80, \"Origin\": \"USA\"}, {\"MPG\": 19.1, \"Cylinders\": 6, \"Displacement\": 225.0, \"Horsepower\": 90.0, \"Weight\": 3381.0, \"Acceleration\": 18.7, \"Model Year\": 80, \"Origin\": \"USA\"}, {\"MPG\": 34.3, \"Cylinders\": 4, \"Displacement\": 97.0, \"Horsepower\": 78.0, \"Weight\": 2188.0, \"Acceleration\": 15.8, \"Model Year\": 80, \"Origin\": \"Europe\"}, {\"MPG\": 29.8, \"Cylinders\": 4, \"Displacement\": 134.0, \"Horsepower\": 90.0, \"Weight\": 2711.0, \"Acceleration\": 15.5, \"Model Year\": 80, \"Origin\": \"Japan\"}, {\"MPG\": 31.3, \"Cylinders\": 4, \"Displacement\": 120.0, \"Horsepower\": 75.0, \"Weight\": 2542.0, \"Acceleration\": 17.5, \"Model Year\": 80, \"Origin\": \"Japan\"}, {\"MPG\": 37.0, \"Cylinders\": 4, \"Displacement\": 119.0, \"Horsepower\": 92.0, \"Weight\": 2434.0, \"Acceleration\": 15.0, \"Model Year\": 80, \"Origin\": \"Japan\"}, {\"MPG\": 32.2, \"Cylinders\": 4, \"Displacement\": 108.0, \"Horsepower\": 75.0, \"Weight\": 2265.0, \"Acceleration\": 15.2, \"Model Year\": 80, \"Origin\": \"Japan\"}, {\"MPG\": 46.6, \"Cylinders\": 4, \"Displacement\": 86.0, \"Horsepower\": 65.0, \"Weight\": 2110.0, \"Acceleration\": 17.9, \"Model Year\": 80, \"Origin\": \"Japan\"}, {\"MPG\": 27.9, \"Cylinders\": 4, \"Displacement\": 156.0, \"Horsepower\": 105.0, \"Weight\": 2800.0, \"Acceleration\": 14.4, \"Model Year\": 80, \"Origin\": \"USA\"}, {\"MPG\": 40.8, \"Cylinders\": 4, \"Displacement\": 85.0, \"Horsepower\": 65.0, \"Weight\": 2110.0, \"Acceleration\": 19.2, \"Model Year\": 80, \"Origin\": \"Japan\"}, {\"MPG\": 44.3, \"Cylinders\": 4, \"Displacement\": 90.0, \"Horsepower\": 48.0, \"Weight\": 2085.0, \"Acceleration\": 21.7, \"Model Year\": 80, \"Origin\": \"Europe\"}, {\"MPG\": 43.4, \"Cylinders\": 4, \"Displacement\": 90.0, \"Horsepower\": 48.0, \"Weight\": 2335.0, \"Acceleration\": 23.7, \"Model Year\": 80, \"Origin\": \"Europe\"}, {\"MPG\": 36.4, \"Cylinders\": 5, \"Displacement\": 121.0, \"Horsepower\": 67.0, \"Weight\": 2950.0, \"Acceleration\": 19.9, \"Model Year\": 80, \"Origin\": \"Europe\"}, {\"MPG\": 30.0, \"Cylinders\": 4, \"Displacement\": 146.0, \"Horsepower\": 67.0, \"Weight\": 3250.0, \"Acceleration\": 21.8, \"Model Year\": 80, \"Origin\": \"Europe\"}, {\"MPG\": 44.6, \"Cylinders\": 4, \"Displacement\": 91.0, \"Horsepower\": 67.0, \"Weight\": 1850.0, \"Acceleration\": 13.8, \"Model Year\": 80, \"Origin\": \"Japan\"}, {\"MPG\": 33.8, \"Cylinders\": 4, \"Displacement\": 97.0, \"Horsepower\": 67.0, \"Weight\": 2145.0, \"Acceleration\": 18.0, \"Model Year\": 80, \"Origin\": \"Japan\"}, {\"MPG\": 29.8, \"Cylinders\": 4, \"Displacement\": 89.0, \"Horsepower\": 62.0, \"Weight\": 1845.0, \"Acceleration\": 15.3, \"Model Year\": 80, \"Origin\": \"Europe\"}, {\"MPG\": 32.7, \"Cylinders\": 6, \"Displacement\": 168.0, \"Horsepower\": 132.0, \"Weight\": 2910.0, \"Acceleration\": 11.4, \"Model Year\": 80, \"Origin\": \"Japan\"}, {\"MPG\": 23.7, \"Cylinders\": 3, \"Displacement\": 70.0, \"Horsepower\": 100.0, \"Weight\": 2420.0, \"Acceleration\": 12.5, \"Model Year\": 80, \"Origin\": \"Japan\"}, {\"MPG\": 35.0, \"Cylinders\": 4, \"Displacement\": 122.0, \"Horsepower\": 88.0, \"Weight\": 2500.0, \"Acceleration\": 15.1, \"Model Year\": 80, \"Origin\": \"Europe\"}, {\"MPG\": 32.4, \"Cylinders\": 4, \"Displacement\": 107.0, \"Horsepower\": 72.0, \"Weight\": 2290.0, \"Acceleration\": 17.0, \"Model Year\": 80, \"Origin\": \"Japan\"}, {\"MPG\": 27.2, \"Cylinders\": 4, \"Displacement\": 135.0, \"Horsepower\": 84.0, \"Weight\": 2490.0, \"Acceleration\": 15.7, \"Model Year\": 81, \"Origin\": \"USA\"}, {\"MPG\": 26.6, \"Cylinders\": 4, \"Displacement\": 151.0, \"Horsepower\": 84.0, \"Weight\": 2635.0, \"Acceleration\": 16.4, \"Model Year\": 81, \"Origin\": \"USA\"}, {\"MPG\": 25.8, \"Cylinders\": 4, \"Displacement\": 156.0, \"Horsepower\": 92.0, \"Weight\": 2620.0, \"Acceleration\": 14.4, \"Model Year\": 81, \"Origin\": \"USA\"}, {\"MPG\": 23.5, \"Cylinders\": 6, \"Displacement\": 173.0, \"Horsepower\": 110.0, \"Weight\": 2725.0, \"Acceleration\": 12.6, \"Model Year\": 81, \"Origin\": \"USA\"}, {\"MPG\": 30.0, \"Cylinders\": 4, \"Displacement\": 135.0, \"Horsepower\": 84.0, \"Weight\": 2385.0, \"Acceleration\": 12.9, \"Model Year\": 81, \"Origin\": \"USA\"}, {\"MPG\": 39.1, \"Cylinders\": 4, \"Displacement\": 79.0, \"Horsepower\": 58.0, \"Weight\": 1755.0, \"Acceleration\": 16.9, \"Model Year\": 81, \"Origin\": \"Japan\"}, {\"MPG\": 39.0, \"Cylinders\": 4, \"Displacement\": 86.0, \"Horsepower\": 64.0, \"Weight\": 1875.0, \"Acceleration\": 16.4, \"Model Year\": 81, \"Origin\": \"USA\"}, {\"MPG\": 35.1, \"Cylinders\": 4, \"Displacement\": 81.0, \"Horsepower\": 60.0, \"Weight\": 1760.0, \"Acceleration\": 16.1, \"Model Year\": 81, \"Origin\": \"Japan\"}, {\"MPG\": 32.3, \"Cylinders\": 4, \"Displacement\": 97.0, \"Horsepower\": 67.0, \"Weight\": 2065.0, \"Acceleration\": 17.8, \"Model Year\": 81, \"Origin\": \"Japan\"}, {\"MPG\": 37.0, \"Cylinders\": 4, \"Displacement\": 85.0, \"Horsepower\": 65.0, \"Weight\": 1975.0, \"Acceleration\": 19.4, \"Model Year\": 81, \"Origin\": \"Japan\"}, {\"MPG\": 37.7, \"Cylinders\": 4, \"Displacement\": 89.0, \"Horsepower\": 62.0, \"Weight\": 2050.0, \"Acceleration\": 17.3, \"Model Year\": 81, \"Origin\": \"Japan\"}, {\"MPG\": 34.1, \"Cylinders\": 4, \"Displacement\": 91.0, \"Horsepower\": 68.0, \"Weight\": 1985.0, \"Acceleration\": 16.0, \"Model Year\": 81, \"Origin\": \"Japan\"}, {\"MPG\": 34.7, \"Cylinders\": 4, \"Displacement\": 105.0, \"Horsepower\": 63.0, \"Weight\": 2215.0, \"Acceleration\": 14.9, \"Model Year\": 81, \"Origin\": \"USA\"}, {\"MPG\": 34.4, \"Cylinders\": 4, \"Displacement\": 98.0, \"Horsepower\": 65.0, \"Weight\": 2045.0, \"Acceleration\": 16.2, \"Model Year\": 81, \"Origin\": \"USA\"}, {\"MPG\": 29.9, \"Cylinders\": 4, \"Displacement\": 98.0, \"Horsepower\": 65.0, \"Weight\": 2380.0, \"Acceleration\": 20.7, \"Model Year\": 81, \"Origin\": \"USA\"}, {\"MPG\": 33.0, \"Cylinders\": 4, \"Displacement\": 105.0, \"Horsepower\": 74.0, \"Weight\": 2190.0, \"Acceleration\": 14.2, \"Model Year\": 81, \"Origin\": \"Europe\"}, {\"MPG\": 33.7, \"Cylinders\": 4, \"Displacement\": 107.0, \"Horsepower\": 75.0, \"Weight\": 2210.0, \"Acceleration\": 14.4, \"Model Year\": 81, \"Origin\": \"Japan\"}, {\"MPG\": 32.4, \"Cylinders\": 4, \"Displacement\": 108.0, \"Horsepower\": 75.0, \"Weight\": 2350.0, \"Acceleration\": 16.8, \"Model Year\": 81, \"Origin\": \"Japan\"}, {\"MPG\": 32.9, \"Cylinders\": 4, \"Displacement\": 119.0, \"Horsepower\": 100.0, \"Weight\": 2615.0, \"Acceleration\": 14.8, \"Model Year\": 81, \"Origin\": \"Japan\"}, {\"MPG\": 31.6, \"Cylinders\": 4, \"Displacement\": 120.0, \"Horsepower\": 74.0, \"Weight\": 2635.0, \"Acceleration\": 18.3, \"Model Year\": 81, \"Origin\": \"Japan\"}, {\"MPG\": 28.1, \"Cylinders\": 4, \"Displacement\": 141.0, \"Horsepower\": 80.0, \"Weight\": 3230.0, \"Acceleration\": 20.4, \"Model Year\": 81, \"Origin\": \"Europe\"}, {\"MPG\": 30.7, \"Cylinders\": 6, \"Displacement\": 145.0, \"Horsepower\": 76.0, \"Weight\": 3160.0, \"Acceleration\": 19.6, \"Model Year\": 81, \"Origin\": \"Europe\"}, {\"MPG\": 25.4, \"Cylinders\": 6, \"Displacement\": 168.0, \"Horsepower\": 116.0, \"Weight\": 2900.0, \"Acceleration\": 12.6, \"Model Year\": 81, \"Origin\": \"Japan\"}, {\"MPG\": 24.2, \"Cylinders\": 6, \"Displacement\": 146.0, \"Horsepower\": 120.0, \"Weight\": 2930.0, \"Acceleration\": 13.8, \"Model Year\": 81, \"Origin\": \"Japan\"}, {\"MPG\": 22.4, \"Cylinders\": 6, \"Displacement\": 231.0, \"Horsepower\": 110.0, \"Weight\": 3415.0, \"Acceleration\": 15.8, \"Model Year\": 81, \"Origin\": \"USA\"}, {\"MPG\": 26.6, \"Cylinders\": 8, \"Displacement\": 350.0, \"Horsepower\": 105.0, \"Weight\": 3725.0, \"Acceleration\": 19.0, \"Model Year\": 81, \"Origin\": \"USA\"}, {\"MPG\": 20.2, \"Cylinders\": 6, \"Displacement\": 200.0, \"Horsepower\": 88.0, \"Weight\": 3060.0, \"Acceleration\": 17.1, \"Model Year\": 81, \"Origin\": \"USA\"}, {\"MPG\": 17.6, \"Cylinders\": 6, \"Displacement\": 225.0, \"Horsepower\": 85.0, \"Weight\": 3465.0, \"Acceleration\": 16.6, \"Model Year\": 81, \"Origin\": \"USA\"}, {\"MPG\": 28.0, \"Cylinders\": 4, \"Displacement\": 112.0, \"Horsepower\": 88.0, \"Weight\": 2605.0, \"Acceleration\": 19.6, \"Model Year\": 82, \"Origin\": \"USA\"}, {\"MPG\": 27.0, \"Cylinders\": 4, \"Displacement\": 112.0, \"Horsepower\": 88.0, \"Weight\": 2640.0, \"Acceleration\": 18.6, \"Model Year\": 82, \"Origin\": \"USA\"}, {\"MPG\": 34.0, \"Cylinders\": 4, \"Displacement\": 112.0, \"Horsepower\": 88.0, \"Weight\": 2395.0, \"Acceleration\": 18.0, \"Model Year\": 82, \"Origin\": \"USA\"}, {\"MPG\": 31.0, \"Cylinders\": 4, \"Displacement\": 112.0, \"Horsepower\": 85.0, \"Weight\": 2575.0, \"Acceleration\": 16.2, \"Model Year\": 82, \"Origin\": \"USA\"}, {\"MPG\": 29.0, \"Cylinders\": 4, \"Displacement\": 135.0, \"Horsepower\": 84.0, \"Weight\": 2525.0, \"Acceleration\": 16.0, \"Model Year\": 82, \"Origin\": \"USA\"}, {\"MPG\": 27.0, \"Cylinders\": 4, \"Displacement\": 151.0, \"Horsepower\": 90.0, \"Weight\": 2735.0, \"Acceleration\": 18.0, \"Model Year\": 82, \"Origin\": \"USA\"}, {\"MPG\": 24.0, \"Cylinders\": 4, \"Displacement\": 140.0, \"Horsepower\": 92.0, \"Weight\": 2865.0, \"Acceleration\": 16.4, \"Model Year\": 82, \"Origin\": \"USA\"}, {\"MPG\": 36.0, \"Cylinders\": 4, \"Displacement\": 105.0, \"Horsepower\": 74.0, \"Weight\": 1980.0, \"Acceleration\": 15.3, \"Model Year\": 82, \"Origin\": \"Europe\"}, {\"MPG\": 37.0, \"Cylinders\": 4, \"Displacement\": 91.0, \"Horsepower\": 68.0, \"Weight\": 2025.0, \"Acceleration\": 18.2, \"Model Year\": 82, \"Origin\": \"Japan\"}, {\"MPG\": 31.0, \"Cylinders\": 4, \"Displacement\": 91.0, \"Horsepower\": 68.0, \"Weight\": 1970.0, \"Acceleration\": 17.6, \"Model Year\": 82, \"Origin\": \"Japan\"}, {\"MPG\": 38.0, \"Cylinders\": 4, \"Displacement\": 105.0, \"Horsepower\": 63.0, \"Weight\": 2125.0, \"Acceleration\": 14.7, \"Model Year\": 82, \"Origin\": \"USA\"}, {\"MPG\": 36.0, \"Cylinders\": 4, \"Displacement\": 98.0, \"Horsepower\": 70.0, \"Weight\": 2125.0, \"Acceleration\": 17.3, \"Model Year\": 82, \"Origin\": \"USA\"}, {\"MPG\": 36.0, \"Cylinders\": 4, \"Displacement\": 120.0, \"Horsepower\": 88.0, \"Weight\": 2160.0, \"Acceleration\": 14.5, \"Model Year\": 82, \"Origin\": \"Japan\"}, {\"MPG\": 36.0, \"Cylinders\": 4, \"Displacement\": 107.0, \"Horsepower\": 75.0, \"Weight\": 2205.0, \"Acceleration\": 14.5, \"Model Year\": 82, \"Origin\": \"Japan\"}, {\"MPG\": 34.0, \"Cylinders\": 4, \"Displacement\": 108.0, \"Horsepower\": 70.0, \"Weight\": 2245.0, \"Acceleration\": 16.9, \"Model Year\": 82, \"Origin\": \"Japan\"}, {\"MPG\": 38.0, \"Cylinders\": 4, \"Displacement\": 91.0, \"Horsepower\": 67.0, \"Weight\": 1965.0, \"Acceleration\": 15.0, \"Model Year\": 82, \"Origin\": \"Japan\"}, {\"MPG\": 32.0, \"Cylinders\": 4, \"Displacement\": 91.0, \"Horsepower\": 67.0, \"Weight\": 1965.0, \"Acceleration\": 15.7, \"Model Year\": 82, \"Origin\": \"Japan\"}, {\"MPG\": 38.0, \"Cylinders\": 4, \"Displacement\": 91.0, \"Horsepower\": 67.0, \"Weight\": 1995.0, \"Acceleration\": 16.2, \"Model Year\": 82, \"Origin\": \"Japan\"}, {\"MPG\": 25.0, \"Cylinders\": 6, \"Displacement\": 181.0, \"Horsepower\": 110.0, \"Weight\": 2945.0, \"Acceleration\": 16.4, \"Model Year\": 82, \"Origin\": \"USA\"}, {\"MPG\": 38.0, \"Cylinders\": 6, \"Displacement\": 262.0, \"Horsepower\": 85.0, \"Weight\": 3015.0, \"Acceleration\": 17.0, \"Model Year\": 82, \"Origin\": \"USA\"}, {\"MPG\": 26.0, \"Cylinders\": 4, \"Displacement\": 156.0, \"Horsepower\": 92.0, \"Weight\": 2585.0, \"Acceleration\": 14.5, \"Model Year\": 82, \"Origin\": \"USA\"}, {\"MPG\": 22.0, \"Cylinders\": 6, \"Displacement\": 232.0, \"Horsepower\": 112.0, \"Weight\": 2835.0, \"Acceleration\": 14.7, \"Model Year\": 82, \"Origin\": \"USA\"}, {\"MPG\": 32.0, \"Cylinders\": 4, \"Displacement\": 144.0, \"Horsepower\": 96.0, \"Weight\": 2665.0, \"Acceleration\": 13.9, \"Model Year\": 82, \"Origin\": \"Japan\"}, {\"MPG\": 36.0, \"Cylinders\": 4, \"Displacement\": 135.0, \"Horsepower\": 84.0, \"Weight\": 2370.0, \"Acceleration\": 13.0, \"Model Year\": 82, \"Origin\": \"USA\"}, {\"MPG\": 27.0, \"Cylinders\": 4, \"Displacement\": 151.0, \"Horsepower\": 90.0, \"Weight\": 2950.0, \"Acceleration\": 17.3, \"Model Year\": 82, \"Origin\": \"USA\"}, {\"MPG\": 27.0, \"Cylinders\": 4, \"Displacement\": 140.0, \"Horsepower\": 86.0, \"Weight\": 2790.0, \"Acceleration\": 15.6, \"Model Year\": 82, \"Origin\": \"USA\"}, {\"MPG\": 44.0, \"Cylinders\": 4, \"Displacement\": 97.0, \"Horsepower\": 52.0, \"Weight\": 2130.0, \"Acceleration\": 24.6, \"Model Year\": 82, \"Origin\": \"Europe\"}, {\"MPG\": 32.0, \"Cylinders\": 4, \"Displacement\": 135.0, \"Horsepower\": 84.0, \"Weight\": 2295.0, \"Acceleration\": 11.6, \"Model Year\": 82, \"Origin\": \"USA\"}, {\"MPG\": 28.0, \"Cylinders\": 4, \"Displacement\": 120.0, \"Horsepower\": 79.0, \"Weight\": 2625.0, \"Acceleration\": 18.6, \"Model Year\": 82, \"Origin\": \"USA\"}, {\"MPG\": 31.0, \"Cylinders\": 4, \"Displacement\": 119.0, \"Horsepower\": 82.0, \"Weight\": 2720.0, \"Acceleration\": 19.4, \"Model Year\": 82, \"Origin\": \"USA\"}]}}, {\"mode\": \"vega-lite\"});\n",
       "</script>"
      ],
      "text/plain": [
       "alt.HConcatChart(...)"
      ]
     },
     "execution_count": 66,
     "metadata": {},
     "output_type": "execute_result"
    }
   ],
   "source": [
    "# display linked scatter plots\n",
    "baseScatter.encode(x='Cylinders') | baseScatter.encode(x='Displacement') | baseScatter.encode(x='Horsepower') | baseScatter.encode(x='Acceleration') "
   ]
  },
  {
   "cell_type": "markdown",
   "metadata": {},
   "source": [
    "<br>\n",
    "\n",
    "**Convert categorical features values to one-hot encoding**"
   ]
  },
  {
   "cell_type": "code",
   "execution_count": 72,
   "metadata": {},
   "outputs": [
    {
     "data": {
      "text/html": [
       "<div>\n",
       "<style scoped>\n",
       "    .dataframe tbody tr th:only-of-type {\n",
       "        vertical-align: middle;\n",
       "    }\n",
       "\n",
       "    .dataframe tbody tr th {\n",
       "        vertical-align: top;\n",
       "    }\n",
       "\n",
       "    .dataframe thead th {\n",
       "        text-align: right;\n",
       "    }\n",
       "</style>\n",
       "<table border=\"1\" class=\"dataframe\">\n",
       "  <thead>\n",
       "    <tr style=\"text-align: right;\">\n",
       "      <th></th>\n",
       "      <th>MPG</th>\n",
       "      <th>Cylinders</th>\n",
       "      <th>Displacement</th>\n",
       "      <th>Horsepower</th>\n",
       "      <th>Weight</th>\n",
       "      <th>Acceleration</th>\n",
       "      <th>Model Year</th>\n",
       "      <th>Europe</th>\n",
       "      <th>Japan</th>\n",
       "      <th>USA</th>\n",
       "    </tr>\n",
       "  </thead>\n",
       "  <tbody>\n",
       "    <tr>\n",
       "      <th>0</th>\n",
       "      <td>18.0</td>\n",
       "      <td>8</td>\n",
       "      <td>307.0</td>\n",
       "      <td>130.0</td>\n",
       "      <td>3504.0</td>\n",
       "      <td>12.0</td>\n",
       "      <td>70</td>\n",
       "      <td>0</td>\n",
       "      <td>0</td>\n",
       "      <td>1</td>\n",
       "    </tr>\n",
       "    <tr>\n",
       "      <th>1</th>\n",
       "      <td>15.0</td>\n",
       "      <td>8</td>\n",
       "      <td>350.0</td>\n",
       "      <td>165.0</td>\n",
       "      <td>3693.0</td>\n",
       "      <td>11.5</td>\n",
       "      <td>70</td>\n",
       "      <td>0</td>\n",
       "      <td>0</td>\n",
       "      <td>1</td>\n",
       "    </tr>\n",
       "    <tr>\n",
       "      <th>2</th>\n",
       "      <td>18.0</td>\n",
       "      <td>8</td>\n",
       "      <td>318.0</td>\n",
       "      <td>150.0</td>\n",
       "      <td>3436.0</td>\n",
       "      <td>11.0</td>\n",
       "      <td>70</td>\n",
       "      <td>0</td>\n",
       "      <td>0</td>\n",
       "      <td>1</td>\n",
       "    </tr>\n",
       "    <tr>\n",
       "      <th>3</th>\n",
       "      <td>16.0</td>\n",
       "      <td>8</td>\n",
       "      <td>304.0</td>\n",
       "      <td>150.0</td>\n",
       "      <td>3433.0</td>\n",
       "      <td>12.0</td>\n",
       "      <td>70</td>\n",
       "      <td>0</td>\n",
       "      <td>0</td>\n",
       "      <td>1</td>\n",
       "    </tr>\n",
       "    <tr>\n",
       "      <th>4</th>\n",
       "      <td>17.0</td>\n",
       "      <td>8</td>\n",
       "      <td>302.0</td>\n",
       "      <td>140.0</td>\n",
       "      <td>3449.0</td>\n",
       "      <td>10.5</td>\n",
       "      <td>70</td>\n",
       "      <td>0</td>\n",
       "      <td>0</td>\n",
       "      <td>1</td>\n",
       "    </tr>\n",
       "  </tbody>\n",
       "</table>\n",
       "</div>"
      ],
      "text/plain": [
       "    MPG  Cylinders  Displacement  Horsepower  Weight  Acceleration  \\\n",
       "0  18.0          8         307.0       130.0  3504.0          12.0   \n",
       "1  15.0          8         350.0       165.0  3693.0          11.5   \n",
       "2  18.0          8         318.0       150.0  3436.0          11.0   \n",
       "3  16.0          8         304.0       150.0  3433.0          12.0   \n",
       "4  17.0          8         302.0       140.0  3449.0          10.5   \n",
       "\n",
       "   Model Year  Europe  Japan  USA  \n",
       "0          70       0      0    1  \n",
       "1          70       0      0    1  \n",
       "2          70       0      0    1  \n",
       "3          70       0      0    1  \n",
       "4          70       0      0    1  "
      ]
     },
     "execution_count": 72,
     "metadata": {},
     "output_type": "execute_result"
    }
   ],
   "source": [
    "# we now want to convert categorical variables into indicators\n",
    "dataset = pd.get_dummies(dataset, prefix='', prefix_sep='')\n",
    "dataset.head()"
   ]
  },
  {
   "cell_type": "markdown",
   "metadata": {},
   "source": [
    "<br>\n",
    "\n",
    "**Split data into training and testing sets, and inspect data**"
   ]
  },
  {
   "cell_type": "code",
   "execution_count": 73,
   "metadata": {},
   "outputs": [],
   "source": [
    "# split data\n",
    "train = dataset.sample(frac=0.8,random_state=0)\n",
    "test = dataset.drop(train.index)"
   ]
  },
  {
   "cell_type": "code",
   "execution_count": 74,
   "metadata": {},
   "outputs": [
    {
     "data": {
      "text/html": [
       "<div>\n",
       "<style scoped>\n",
       "    .dataframe tbody tr th:only-of-type {\n",
       "        vertical-align: middle;\n",
       "    }\n",
       "\n",
       "    .dataframe tbody tr th {\n",
       "        vertical-align: top;\n",
       "    }\n",
       "\n",
       "    .dataframe thead th {\n",
       "        text-align: right;\n",
       "    }\n",
       "</style>\n",
       "<table border=\"1\" class=\"dataframe\">\n",
       "  <thead>\n",
       "    <tr style=\"text-align: right;\">\n",
       "      <th></th>\n",
       "      <th>MPG</th>\n",
       "      <th>Cylinders</th>\n",
       "      <th>Displacement</th>\n",
       "      <th>Horsepower</th>\n",
       "      <th>Weight</th>\n",
       "      <th>Acceleration</th>\n",
       "      <th>Model Year</th>\n",
       "      <th>Europe</th>\n",
       "      <th>Japan</th>\n",
       "      <th>USA</th>\n",
       "    </tr>\n",
       "  </thead>\n",
       "  <tbody>\n",
       "    <tr>\n",
       "      <th>count</th>\n",
       "      <td>314.000000</td>\n",
       "      <td>314.000000</td>\n",
       "      <td>314.000000</td>\n",
       "      <td>314.000000</td>\n",
       "      <td>314.000000</td>\n",
       "      <td>314.000000</td>\n",
       "      <td>314.000000</td>\n",
       "      <td>314.000000</td>\n",
       "      <td>314.000000</td>\n",
       "      <td>314.000000</td>\n",
       "    </tr>\n",
       "    <tr>\n",
       "      <th>mean</th>\n",
       "      <td>23.310510</td>\n",
       "      <td>5.477707</td>\n",
       "      <td>195.318471</td>\n",
       "      <td>104.869427</td>\n",
       "      <td>2990.251592</td>\n",
       "      <td>15.559236</td>\n",
       "      <td>75.898089</td>\n",
       "      <td>0.178344</td>\n",
       "      <td>0.197452</td>\n",
       "      <td>0.624204</td>\n",
       "    </tr>\n",
       "    <tr>\n",
       "      <th>std</th>\n",
       "      <td>7.728652</td>\n",
       "      <td>1.699788</td>\n",
       "      <td>104.331589</td>\n",
       "      <td>38.096214</td>\n",
       "      <td>843.898596</td>\n",
       "      <td>2.789230</td>\n",
       "      <td>3.675642</td>\n",
       "      <td>0.383413</td>\n",
       "      <td>0.398712</td>\n",
       "      <td>0.485101</td>\n",
       "    </tr>\n",
       "    <tr>\n",
       "      <th>min</th>\n",
       "      <td>10.000000</td>\n",
       "      <td>3.000000</td>\n",
       "      <td>68.000000</td>\n",
       "      <td>46.000000</td>\n",
       "      <td>1649.000000</td>\n",
       "      <td>8.000000</td>\n",
       "      <td>70.000000</td>\n",
       "      <td>0.000000</td>\n",
       "      <td>0.000000</td>\n",
       "      <td>0.000000</td>\n",
       "    </tr>\n",
       "    <tr>\n",
       "      <th>25%</th>\n",
       "      <td>17.000000</td>\n",
       "      <td>4.000000</td>\n",
       "      <td>105.500000</td>\n",
       "      <td>76.250000</td>\n",
       "      <td>2256.500000</td>\n",
       "      <td>13.800000</td>\n",
       "      <td>73.000000</td>\n",
       "      <td>0.000000</td>\n",
       "      <td>0.000000</td>\n",
       "      <td>0.000000</td>\n",
       "    </tr>\n",
       "    <tr>\n",
       "      <th>50%</th>\n",
       "      <td>22.000000</td>\n",
       "      <td>4.000000</td>\n",
       "      <td>151.000000</td>\n",
       "      <td>94.500000</td>\n",
       "      <td>2822.500000</td>\n",
       "      <td>15.500000</td>\n",
       "      <td>76.000000</td>\n",
       "      <td>0.000000</td>\n",
       "      <td>0.000000</td>\n",
       "      <td>1.000000</td>\n",
       "    </tr>\n",
       "    <tr>\n",
       "      <th>75%</th>\n",
       "      <td>28.950000</td>\n",
       "      <td>8.000000</td>\n",
       "      <td>265.750000</td>\n",
       "      <td>128.000000</td>\n",
       "      <td>3608.000000</td>\n",
       "      <td>17.200000</td>\n",
       "      <td>79.000000</td>\n",
       "      <td>0.000000</td>\n",
       "      <td>0.000000</td>\n",
       "      <td>1.000000</td>\n",
       "    </tr>\n",
       "    <tr>\n",
       "      <th>max</th>\n",
       "      <td>46.600000</td>\n",
       "      <td>8.000000</td>\n",
       "      <td>455.000000</td>\n",
       "      <td>225.000000</td>\n",
       "      <td>5140.000000</td>\n",
       "      <td>24.800000</td>\n",
       "      <td>82.000000</td>\n",
       "      <td>1.000000</td>\n",
       "      <td>1.000000</td>\n",
       "      <td>1.000000</td>\n",
       "    </tr>\n",
       "  </tbody>\n",
       "</table>\n",
       "</div>"
      ],
      "text/plain": [
       "              MPG   Cylinders  Displacement  Horsepower       Weight  \\\n",
       "count  314.000000  314.000000    314.000000  314.000000   314.000000   \n",
       "mean    23.310510    5.477707    195.318471  104.869427  2990.251592   \n",
       "std      7.728652    1.699788    104.331589   38.096214   843.898596   \n",
       "min     10.000000    3.000000     68.000000   46.000000  1649.000000   \n",
       "25%     17.000000    4.000000    105.500000   76.250000  2256.500000   \n",
       "50%     22.000000    4.000000    151.000000   94.500000  2822.500000   \n",
       "75%     28.950000    8.000000    265.750000  128.000000  3608.000000   \n",
       "max     46.600000    8.000000    455.000000  225.000000  5140.000000   \n",
       "\n",
       "       Acceleration  Model Year      Europe       Japan         USA  \n",
       "count    314.000000  314.000000  314.000000  314.000000  314.000000  \n",
       "mean      15.559236   75.898089    0.178344    0.197452    0.624204  \n",
       "std        2.789230    3.675642    0.383413    0.398712    0.485101  \n",
       "min        8.000000   70.000000    0.000000    0.000000    0.000000  \n",
       "25%       13.800000   73.000000    0.000000    0.000000    0.000000  \n",
       "50%       15.500000   76.000000    0.000000    0.000000    1.000000  \n",
       "75%       17.200000   79.000000    0.000000    0.000000    1.000000  \n",
       "max       24.800000   82.000000    1.000000    1.000000    1.000000  "
      ]
     },
     "execution_count": 74,
     "metadata": {},
     "output_type": "execute_result"
    }
   ],
   "source": [
    "# view statistical summary data\n",
    "train_stats = train.describe()\n",
    "train_stats"
   ]
  },
  {
   "cell_type": "code",
   "execution_count": 75,
   "metadata": {},
   "outputs": [
    {
     "data": {
      "text/html": [
       "<div>\n",
       "<style scoped>\n",
       "    .dataframe tbody tr th:only-of-type {\n",
       "        vertical-align: middle;\n",
       "    }\n",
       "\n",
       "    .dataframe tbody tr th {\n",
       "        vertical-align: top;\n",
       "    }\n",
       "\n",
       "    .dataframe thead th {\n",
       "        text-align: right;\n",
       "    }\n",
       "</style>\n",
       "<table border=\"1\" class=\"dataframe\">\n",
       "  <thead>\n",
       "    <tr style=\"text-align: right;\">\n",
       "      <th></th>\n",
       "      <th>Cylinders</th>\n",
       "      <th>Displacement</th>\n",
       "      <th>Horsepower</th>\n",
       "      <th>Weight</th>\n",
       "      <th>Acceleration</th>\n",
       "      <th>Model Year</th>\n",
       "      <th>Europe</th>\n",
       "      <th>Japan</th>\n",
       "      <th>USA</th>\n",
       "    </tr>\n",
       "  </thead>\n",
       "  <tbody>\n",
       "    <tr>\n",
       "      <th>count</th>\n",
       "      <td>314.000000</td>\n",
       "      <td>314.000000</td>\n",
       "      <td>314.000000</td>\n",
       "      <td>314.000000</td>\n",
       "      <td>314.000000</td>\n",
       "      <td>314.000000</td>\n",
       "      <td>314.000000</td>\n",
       "      <td>314.000000</td>\n",
       "      <td>314.000000</td>\n",
       "    </tr>\n",
       "    <tr>\n",
       "      <th>mean</th>\n",
       "      <td>5.477707</td>\n",
       "      <td>195.318471</td>\n",
       "      <td>104.869427</td>\n",
       "      <td>2990.251592</td>\n",
       "      <td>15.559236</td>\n",
       "      <td>75.898089</td>\n",
       "      <td>0.178344</td>\n",
       "      <td>0.197452</td>\n",
       "      <td>0.624204</td>\n",
       "    </tr>\n",
       "    <tr>\n",
       "      <th>std</th>\n",
       "      <td>1.699788</td>\n",
       "      <td>104.331589</td>\n",
       "      <td>38.096214</td>\n",
       "      <td>843.898596</td>\n",
       "      <td>2.789230</td>\n",
       "      <td>3.675642</td>\n",
       "      <td>0.383413</td>\n",
       "      <td>0.398712</td>\n",
       "      <td>0.485101</td>\n",
       "    </tr>\n",
       "    <tr>\n",
       "      <th>min</th>\n",
       "      <td>3.000000</td>\n",
       "      <td>68.000000</td>\n",
       "      <td>46.000000</td>\n",
       "      <td>1649.000000</td>\n",
       "      <td>8.000000</td>\n",
       "      <td>70.000000</td>\n",
       "      <td>0.000000</td>\n",
       "      <td>0.000000</td>\n",
       "      <td>0.000000</td>\n",
       "    </tr>\n",
       "    <tr>\n",
       "      <th>25%</th>\n",
       "      <td>4.000000</td>\n",
       "      <td>105.500000</td>\n",
       "      <td>76.250000</td>\n",
       "      <td>2256.500000</td>\n",
       "      <td>13.800000</td>\n",
       "      <td>73.000000</td>\n",
       "      <td>0.000000</td>\n",
       "      <td>0.000000</td>\n",
       "      <td>0.000000</td>\n",
       "    </tr>\n",
       "    <tr>\n",
       "      <th>50%</th>\n",
       "      <td>4.000000</td>\n",
       "      <td>151.000000</td>\n",
       "      <td>94.500000</td>\n",
       "      <td>2822.500000</td>\n",
       "      <td>15.500000</td>\n",
       "      <td>76.000000</td>\n",
       "      <td>0.000000</td>\n",
       "      <td>0.000000</td>\n",
       "      <td>1.000000</td>\n",
       "    </tr>\n",
       "    <tr>\n",
       "      <th>75%</th>\n",
       "      <td>8.000000</td>\n",
       "      <td>265.750000</td>\n",
       "      <td>128.000000</td>\n",
       "      <td>3608.000000</td>\n",
       "      <td>17.200000</td>\n",
       "      <td>79.000000</td>\n",
       "      <td>0.000000</td>\n",
       "      <td>0.000000</td>\n",
       "      <td>1.000000</td>\n",
       "    </tr>\n",
       "    <tr>\n",
       "      <th>max</th>\n",
       "      <td>8.000000</td>\n",
       "      <td>455.000000</td>\n",
       "      <td>225.000000</td>\n",
       "      <td>5140.000000</td>\n",
       "      <td>24.800000</td>\n",
       "      <td>82.000000</td>\n",
       "      <td>1.000000</td>\n",
       "      <td>1.000000</td>\n",
       "      <td>1.000000</td>\n",
       "    </tr>\n",
       "  </tbody>\n",
       "</table>\n",
       "</div>"
      ],
      "text/plain": [
       "        Cylinders  Displacement  Horsepower       Weight  Acceleration  \\\n",
       "count  314.000000    314.000000  314.000000   314.000000    314.000000   \n",
       "mean     5.477707    195.318471  104.869427  2990.251592     15.559236   \n",
       "std      1.699788    104.331589   38.096214   843.898596      2.789230   \n",
       "min      3.000000     68.000000   46.000000  1649.000000      8.000000   \n",
       "25%      4.000000    105.500000   76.250000  2256.500000     13.800000   \n",
       "50%      4.000000    151.000000   94.500000  2822.500000     15.500000   \n",
       "75%      8.000000    265.750000  128.000000  3608.000000     17.200000   \n",
       "max      8.000000    455.000000  225.000000  5140.000000     24.800000   \n",
       "\n",
       "       Model Year      Europe       Japan         USA  \n",
       "count  314.000000  314.000000  314.000000  314.000000  \n",
       "mean    75.898089    0.178344    0.197452    0.624204  \n",
       "std      3.675642    0.383413    0.398712    0.485101  \n",
       "min     70.000000    0.000000    0.000000    0.000000  \n",
       "25%     73.000000    0.000000    0.000000    0.000000  \n",
       "50%     76.000000    0.000000    0.000000    1.000000  \n",
       "75%     79.000000    0.000000    0.000000    1.000000  \n",
       "max     82.000000    1.000000    1.000000    1.000000  "
      ]
     },
     "execution_count": 75,
     "metadata": {},
     "output_type": "execute_result"
    }
   ],
   "source": [
    "# since MPG is response variable, we remove it to simplify stats\n",
    "train_stats.pop(\"MPG\")\n",
    "train_stats"
   ]
  },
  {
   "cell_type": "code",
   "execution_count": 76,
   "metadata": {},
   "outputs": [
    {
     "data": {
      "text/html": [
       "<div>\n",
       "<style scoped>\n",
       "    .dataframe tbody tr th:only-of-type {\n",
       "        vertical-align: middle;\n",
       "    }\n",
       "\n",
       "    .dataframe tbody tr th {\n",
       "        vertical-align: top;\n",
       "    }\n",
       "\n",
       "    .dataframe thead th {\n",
       "        text-align: right;\n",
       "    }\n",
       "</style>\n",
       "<table border=\"1\" class=\"dataframe\">\n",
       "  <thead>\n",
       "    <tr style=\"text-align: right;\">\n",
       "      <th></th>\n",
       "      <th>count</th>\n",
       "      <th>mean</th>\n",
       "      <th>std</th>\n",
       "      <th>min</th>\n",
       "      <th>25%</th>\n",
       "      <th>50%</th>\n",
       "      <th>75%</th>\n",
       "      <th>max</th>\n",
       "    </tr>\n",
       "  </thead>\n",
       "  <tbody>\n",
       "    <tr>\n",
       "      <th>Cylinders</th>\n",
       "      <td>314.0</td>\n",
       "      <td>5.477707</td>\n",
       "      <td>1.699788</td>\n",
       "      <td>3.0</td>\n",
       "      <td>4.00</td>\n",
       "      <td>4.0</td>\n",
       "      <td>8.00</td>\n",
       "      <td>8.0</td>\n",
       "    </tr>\n",
       "    <tr>\n",
       "      <th>Displacement</th>\n",
       "      <td>314.0</td>\n",
       "      <td>195.318471</td>\n",
       "      <td>104.331589</td>\n",
       "      <td>68.0</td>\n",
       "      <td>105.50</td>\n",
       "      <td>151.0</td>\n",
       "      <td>265.75</td>\n",
       "      <td>455.0</td>\n",
       "    </tr>\n",
       "    <tr>\n",
       "      <th>Horsepower</th>\n",
       "      <td>314.0</td>\n",
       "      <td>104.869427</td>\n",
       "      <td>38.096214</td>\n",
       "      <td>46.0</td>\n",
       "      <td>76.25</td>\n",
       "      <td>94.5</td>\n",
       "      <td>128.00</td>\n",
       "      <td>225.0</td>\n",
       "    </tr>\n",
       "    <tr>\n",
       "      <th>Weight</th>\n",
       "      <td>314.0</td>\n",
       "      <td>2990.251592</td>\n",
       "      <td>843.898596</td>\n",
       "      <td>1649.0</td>\n",
       "      <td>2256.50</td>\n",
       "      <td>2822.5</td>\n",
       "      <td>3608.00</td>\n",
       "      <td>5140.0</td>\n",
       "    </tr>\n",
       "    <tr>\n",
       "      <th>Acceleration</th>\n",
       "      <td>314.0</td>\n",
       "      <td>15.559236</td>\n",
       "      <td>2.789230</td>\n",
       "      <td>8.0</td>\n",
       "      <td>13.80</td>\n",
       "      <td>15.5</td>\n",
       "      <td>17.20</td>\n",
       "      <td>24.8</td>\n",
       "    </tr>\n",
       "    <tr>\n",
       "      <th>Model Year</th>\n",
       "      <td>314.0</td>\n",
       "      <td>75.898089</td>\n",
       "      <td>3.675642</td>\n",
       "      <td>70.0</td>\n",
       "      <td>73.00</td>\n",
       "      <td>76.0</td>\n",
       "      <td>79.00</td>\n",
       "      <td>82.0</td>\n",
       "    </tr>\n",
       "    <tr>\n",
       "      <th>Europe</th>\n",
       "      <td>314.0</td>\n",
       "      <td>0.178344</td>\n",
       "      <td>0.383413</td>\n",
       "      <td>0.0</td>\n",
       "      <td>0.00</td>\n",
       "      <td>0.0</td>\n",
       "      <td>0.00</td>\n",
       "      <td>1.0</td>\n",
       "    </tr>\n",
       "    <tr>\n",
       "      <th>Japan</th>\n",
       "      <td>314.0</td>\n",
       "      <td>0.197452</td>\n",
       "      <td>0.398712</td>\n",
       "      <td>0.0</td>\n",
       "      <td>0.00</td>\n",
       "      <td>0.0</td>\n",
       "      <td>0.00</td>\n",
       "      <td>1.0</td>\n",
       "    </tr>\n",
       "    <tr>\n",
       "      <th>USA</th>\n",
       "      <td>314.0</td>\n",
       "      <td>0.624204</td>\n",
       "      <td>0.485101</td>\n",
       "      <td>0.0</td>\n",
       "      <td>0.00</td>\n",
       "      <td>1.0</td>\n",
       "      <td>1.00</td>\n",
       "      <td>1.0</td>\n",
       "    </tr>\n",
       "  </tbody>\n",
       "</table>\n",
       "</div>"
      ],
      "text/plain": [
       "              count         mean         std     min      25%     50%  \\\n",
       "Cylinders     314.0     5.477707    1.699788     3.0     4.00     4.0   \n",
       "Displacement  314.0   195.318471  104.331589    68.0   105.50   151.0   \n",
       "Horsepower    314.0   104.869427   38.096214    46.0    76.25    94.5   \n",
       "Weight        314.0  2990.251592  843.898596  1649.0  2256.50  2822.5   \n",
       "Acceleration  314.0    15.559236    2.789230     8.0    13.80    15.5   \n",
       "Model Year    314.0    75.898089    3.675642    70.0    73.00    76.0   \n",
       "Europe        314.0     0.178344    0.383413     0.0     0.00     0.0   \n",
       "Japan         314.0     0.197452    0.398712     0.0     0.00     0.0   \n",
       "USA           314.0     0.624204    0.485101     0.0     0.00     1.0   \n",
       "\n",
       "                  75%     max  \n",
       "Cylinders        8.00     8.0  \n",
       "Displacement   265.75   455.0  \n",
       "Horsepower     128.00   225.0  \n",
       "Weight        3608.00  5140.0  \n",
       "Acceleration    17.20    24.8  \n",
       "Model Year      79.00    82.0  \n",
       "Europe           0.00     1.0  \n",
       "Japan            0.00     1.0  \n",
       "USA              1.00     1.0  "
      ]
     },
     "execution_count": 76,
     "metadata": {},
     "output_type": "execute_result"
    }
   ],
   "source": [
    "# columns <--> rows\n",
    "train_stats = train_stats.transpose()\n",
    "train_stats"
   ]
  },
  {
   "cell_type": "markdown",
   "metadata": {},
   "source": [
    "<br>\n",
    "\n",
    "**Split features from labels**"
   ]
  },
  {
   "cell_type": "code",
   "execution_count": 77,
   "metadata": {},
   "outputs": [],
   "source": [
    "# remove Label from training and testing sets\n",
    "train_labels = train.pop('MPG')\n",
    "test_labels = test.pop('MPG')"
   ]
  },
  {
   "cell_type": "markdown",
   "metadata": {},
   "source": [
    "___\n",
    "**Note:** Looking at ```train_stats``` we see that the scale and range between feates is at times 3-orders of maginitude appart. We want to [normalize](https://www.usna.edu/Users/cs/taylor/courses/si486l/notes/regLinReg.html) our features so that our ranges are closer and so that it takes less time to train our model. Normalizing also makes the resulting model dependent on the choice of units used in the input.\n",
    "___"
   ]
  },
  {
   "cell_type": "markdown",
   "metadata": {},
   "source": [
    "<br>\n",
    "\n",
    "**Normalize data**"
   ]
  },
  {
   "cell_type": "code",
   "execution_count": 78,
   "metadata": {},
   "outputs": [],
   "source": [
    "# normalize data function uses statiistical summary data\n",
    "def norm(x):\n",
    "  return((x - train_stats['mean']) / train_stats['std'])"
   ]
  },
  {
   "cell_type": "code",
   "execution_count": 79,
   "metadata": {},
   "outputs": [],
   "source": [
    "# normalize training and testing sets\n",
    "normed_train_data = norm(train)\n",
    "normed_test_data = norm(test)"
   ]
  },
  {
   "cell_type": "markdown",
   "metadata": {},
   "source": [
    "<br>\n",
    "\n",
    "**Build Model**\n",
    "\n",
    "<br>\n",
    "\n",
    "We will be building a [sequential model](https://youtu.be/CznICCPa63Q) with [one densely connected hidden layer](https://www.oreilly.com/library/view/tensorflow-for-deep/9781491980446/ch04.html) and [one ouput layer](http://deeplearning.stanford.edu/tutorial/supervised/MultiLayerNeuralNetworks/). A model with one hidden layer is generally referred to as a [shallow neural network](https://link.springer.com/chapter/10.1007/978-3-319-94463-0_2). We are building such a sequential model in order to preserve order in sequences, keep track of long-term dependencie, and maintain the relationships between variables -- while attempting to ensure that the modeling procedure is clearly presented and understood. "
   ]
  },
  {
   "cell_type": "code",
   "execution_count": 80,
   "metadata": {},
   "outputs": [],
   "source": [
    "# wrapper function for building sequential model using keras\n",
    "def build_model():\n",
    "  model = keras.Sequential([\n",
    "    # dense hidden layer  \n",
    "    layers.Dense(64, activation='relu', input_shape=[len(normed_train_data.keys())]),\n",
    "    # dense output layer\n",
    "    layers.Dense(1)\n",
    "  ])\n",
    "\n",
    "  optimizer = tf.keras.optimizers.RMSprop(0.001)\n",
    "  \n",
    "  model.compile(loss='mse',\n",
    "                optimizer=optimizer,\n",
    "                metrics=['mae', 'mse'])\n",
    "  return(model)"
   ]
  },
  {
   "cell_type": "code",
   "execution_count": 81,
   "metadata": {},
   "outputs": [],
   "source": [
    "# instantiate model\n",
    "model = build_model()"
   ]
  },
  {
   "cell_type": "markdown",
   "metadata": {},
   "source": [
    "<br>\n",
    "\n",
    "**Inspect the model**"
   ]
  },
  {
   "cell_type": "code",
   "execution_count": 82,
   "metadata": {},
   "outputs": [
    {
     "name": "stdout",
     "output_type": "stream",
     "text": [
      "Model: \"sequential_2\"\n",
      "_________________________________________________________________\n",
      "Layer (type)                 Output Shape              Param #   \n",
      "=================================================================\n",
      "dense_6 (Dense)              (None, 64)                640       \n",
      "_________________________________________________________________\n",
      "dense_7 (Dense)              (None, 1)                 65        \n",
      "=================================================================\n",
      "Total params: 705\n",
      "Trainable params: 705\n",
      "Non-trainable params: 0\n",
      "_________________________________________________________________\n"
     ]
    }
   ],
   "source": [
    "model.summary()"
   ]
  },
  {
   "cell_type": "code",
   "execution_count": 83,
   "metadata": {},
   "outputs": [
    {
     "data": {
      "text/plain": [
       "array([[-0.67810583],\n",
       "       [-0.09583753],\n",
       "       [-0.27330333],\n",
       "       [ 0.11832139],\n",
       "       [ 0.27432662],\n",
       "       [ 0.04672064],\n",
       "       [ 0.22661015],\n",
       "       [-0.62842745],\n",
       "       [-0.03823699],\n",
       "       [-0.1169627 ]], dtype=float32)"
      ]
     },
     "execution_count": 83,
     "metadata": {},
     "output_type": "execute_result"
    }
   ],
   "source": [
    "# try out the model with a sample\n",
    "example_batch = normed_train_data[:10]\n",
    "example_result = model.predict(example_batch)\n",
    "example_result"
   ]
  },
  {
   "cell_type": "markdown",
   "metadata": {},
   "source": [
    "<br>\n",
    "\n",
    "**Train the model**"
   ]
  },
  {
   "cell_type": "code",
   "execution_count": 84,
   "metadata": {},
   "outputs": [
    {
     "name": "stdout",
     "output_type": "stream",
     "text": [
      "\n",
      "Epoch: 0, loss:592.8535,  mae:23.1295,  mse:592.8535,  val_loss:610.0380,  val_mae:23.4642,  val_mse:610.0380,  \n",
      "....................................................................................................\n",
      "Epoch: 100, loss:8.1125,  mae:1.9557,  mse:8.1125,  val_loss:7.9529,  val_mae:2.1193,  val_mse:7.9529,  \n",
      "....................................................................................................\n",
      "Epoch: 200, loss:6.6484,  mae:1.8007,  mse:6.6484,  val_loss:7.8487,  val_mae:2.0963,  val_mse:7.8487,  \n",
      "....................................................................................................\n",
      "Epoch: 300, loss:6.1625,  mae:1.7349,  mse:6.1625,  val_loss:7.9986,  val_mae:2.1171,  val_mse:7.9986,  \n",
      "....................................................................................................\n",
      "Epoch: 400, loss:5.9714,  mae:1.6959,  mse:5.9714,  val_loss:8.1073,  val_mae:2.1519,  val_mse:8.1073,  \n",
      "....................................................................................................\n",
      "Epoch: 500, loss:5.7098,  mae:1.6706,  mse:5.7098,  val_loss:8.1729,  val_mae:2.1838,  val_mse:8.1729,  \n",
      "....................................................................................................\n",
      "Epoch: 600, loss:5.5669,  mae:1.6318,  mse:5.5669,  val_loss:8.1678,  val_mae:2.1858,  val_mse:8.1678,  \n",
      "....................................................................................................\n",
      "Epoch: 700, loss:5.3881,  mae:1.6106,  mse:5.3881,  val_loss:8.1804,  val_mae:2.1716,  val_mse:8.1804,  \n",
      "....................................................................................................\n",
      "Epoch: 800, loss:5.2537,  mae:1.5822,  mse:5.2537,  val_loss:8.2753,  val_mae:2.2107,  val_mse:8.2753,  \n",
      "....................................................................................................\n",
      "Epoch: 900, loss:5.1177,  mae:1.5549,  mse:5.1177,  val_loss:8.2474,  val_mae:2.2059,  val_mse:8.2474,  \n",
      "...................................................................................................."
     ]
    }
   ],
   "source": [
    "# 1 epoch equal to one forward and one backward pass on all training examples\n",
    "EPOCHS = 1000\n",
    "\n",
    "# fit model\n",
    "history = model.fit(\n",
    "  normed_train_data, train_labels,\n",
    "  epochs=EPOCHS, validation_split = 0.2, verbose=0,\n",
    "  callbacks=[tfdocs.modeling.EpochDots()])"
   ]
  },
  {
   "cell_type": "markdown",
   "metadata": {},
   "source": [
    "___\n",
    "\n",
    "**Note:** the ```build_model()``` function can be split into its components and ran independently.\n",
    "\n",
    "```python\n",
    "# Build 1 layer sequential model\n",
    "model = keras.Sequential([\n",
    "    layers.Dense(64, activation='relu', input_shape=[len(normed_train_data.keys())]),\n",
    "    keras.layers.Dense(10)\n",
    "])\n",
    "\n",
    "# Compile model\n",
    "model.compile(loss='mse',\n",
    "              optimizer=tf.keras.optimizers.RMSprop(0.001),\n",
    "              metrics=['mae', 'mse'],\n",
    "              )\n",
    "\n",
    "# fit model, over 1000 epoch\n",
    "model.fit(normed_train_data, \n",
    "          train_labels, \n",
    "          epochs=1000, \n",
    "          validation_split=0.2, \n",
    "          verbose=0, \n",
    "          callbacks=[tfdocs.modeling.EpochDots()])\n",
    "          \n",
    "```\n",
    "___"
   ]
  },
  {
   "cell_type": "markdown",
   "metadata": {},
   "source": [
    "<br>\n",
    "\n",
    "**Visualize model's progress**"
   ]
  },
  {
   "cell_type": "code",
   "execution_count": 85,
   "metadata": {},
   "outputs": [
    {
     "data": {
      "text/html": [
       "<div>\n",
       "<style scoped>\n",
       "    .dataframe tbody tr th:only-of-type {\n",
       "        vertical-align: middle;\n",
       "    }\n",
       "\n",
       "    .dataframe tbody tr th {\n",
       "        vertical-align: top;\n",
       "    }\n",
       "\n",
       "    .dataframe thead th {\n",
       "        text-align: right;\n",
       "    }\n",
       "</style>\n",
       "<table border=\"1\" class=\"dataframe\">\n",
       "  <thead>\n",
       "    <tr style=\"text-align: right;\">\n",
       "      <th></th>\n",
       "      <th>loss</th>\n",
       "      <th>mae</th>\n",
       "      <th>mse</th>\n",
       "      <th>val_loss</th>\n",
       "      <th>val_mae</th>\n",
       "      <th>val_mse</th>\n",
       "      <th>epoch</th>\n",
       "    </tr>\n",
       "  </thead>\n",
       "  <tbody>\n",
       "    <tr>\n",
       "      <th>0</th>\n",
       "      <td>592.853455</td>\n",
       "      <td>23.129536</td>\n",
       "      <td>592.853455</td>\n",
       "      <td>610.037964</td>\n",
       "      <td>23.464245</td>\n",
       "      <td>610.037964</td>\n",
       "      <td>0</td>\n",
       "    </tr>\n",
       "    <tr>\n",
       "      <th>1</th>\n",
       "      <td>576.747681</td>\n",
       "      <td>22.781773</td>\n",
       "      <td>576.747681</td>\n",
       "      <td>595.403198</td>\n",
       "      <td>23.157305</td>\n",
       "      <td>595.403198</td>\n",
       "      <td>1</td>\n",
       "    </tr>\n",
       "    <tr>\n",
       "      <th>2</th>\n",
       "      <td>563.994690</td>\n",
       "      <td>22.506968</td>\n",
       "      <td>563.994690</td>\n",
       "      <td>582.101501</td>\n",
       "      <td>22.875534</td>\n",
       "      <td>582.101501</td>\n",
       "      <td>2</td>\n",
       "    </tr>\n",
       "    <tr>\n",
       "      <th>3</th>\n",
       "      <td>551.909485</td>\n",
       "      <td>22.244595</td>\n",
       "      <td>551.909485</td>\n",
       "      <td>569.177368</td>\n",
       "      <td>22.600035</td>\n",
       "      <td>569.177368</td>\n",
       "      <td>3</td>\n",
       "    </tr>\n",
       "    <tr>\n",
       "      <th>4</th>\n",
       "      <td>540.034912</td>\n",
       "      <td>21.985357</td>\n",
       "      <td>540.034912</td>\n",
       "      <td>556.297363</td>\n",
       "      <td>22.321615</td>\n",
       "      <td>556.297363</td>\n",
       "      <td>4</td>\n",
       "    </tr>\n",
       "  </tbody>\n",
       "</table>\n",
       "</div>"
      ],
      "text/plain": [
       "         loss        mae         mse    val_loss    val_mae     val_mse  epoch\n",
       "0  592.853455  23.129536  592.853455  610.037964  23.464245  610.037964      0\n",
       "1  576.747681  22.781773  576.747681  595.403198  23.157305  595.403198      1\n",
       "2  563.994690  22.506968  563.994690  582.101501  22.875534  582.101501      2\n",
       "3  551.909485  22.244595  551.909485  569.177368  22.600035  569.177368      3\n",
       "4  540.034912  21.985357  540.034912  556.297363  22.321615  556.297363      4"
      ]
     },
     "execution_count": 85,
     "metadata": {},
     "output_type": "execute_result"
    }
   ],
   "source": [
    "# extract stored history data\n",
    "hist = pd.DataFrame(history.history)\n",
    "hist['epoch'] = history.epoch\n",
    "hist.head()"
   ]
  },
  {
   "cell_type": "code",
   "execution_count": 86,
   "metadata": {},
   "outputs": [
    {
     "data": {
      "text/plain": [
       "Text(0, 0.5, 'MAE [MPG]')"
      ]
     },
     "execution_count": 86,
     "metadata": {},
     "output_type": "execute_result"
    },
    {
     "data": {
      "image/png": "[encoded data removed]",
      "text/plain": [
       "<Figure size 432x288 with 1 Axes>"
      ]
     },
     "metadata": {
      "needs_background": "light"
     },
     "output_type": "display_data"
    }
   ],
   "source": [
    "# plot history data - Mean Absolute Error over Epochs\n",
    "plotter = tfdocs.plots.HistoryPlotter(smoothing_std=2)\n",
    "plotter.plot({'Basic': history}, metric = \"mae\")\n",
    "plt.ylim([0, 10])\n",
    "plt.ylabel('MAE [MPG]')"
   ]
  },
  {
   "cell_type": "code",
   "execution_count": 87,
   "metadata": {},
   "outputs": [
    {
     "data": {
      "text/plain": [
       "Text(0, 0.5, 'MSE [$MPG^2$]')"
      ]
     },
     "execution_count": 87,
     "metadata": {},
     "output_type": "execute_result"
    },
    {
     "data": {
      "image/png": "[encoded data removed]",
      "text/plain": [
       "<Figure size 432x288 with 1 Axes>"
      ]
     },
     "metadata": {
      "needs_background": "light"
     },
     "output_type": "display_data"
    }
   ],
   "source": [
    "# plot history data - Mean Absolute Error over Epochs\n",
    "plotter.plot({'Basic': history}, metric = \"mse\")\n",
    "plt.ylim([0, 20])\n",
    "plt.ylabel('MSE [$MPG^2$]')"
   ]
  },
  {
   "cell_type": "markdown",
   "metadata": {},
   "source": [
    "___\n",
    "\n",
    "**Note:** The $MSE\\left[MPG^2\\right]$ over Epoch plot displays little improvement, or even degradation in the validation error after about 100 epochs. We can implement an [EarlyStopping callback](https://www.tensorflow.org/api_docs/python/tf/keras/callbacks/EarlyStopping) that tests a training condition for every epoch. If a set amount of epochs elapses without showing improvement, then training automatically stops.\n",
    "\n",
    "___"
   ]
  },
  {
   "cell_type": "markdown",
   "metadata": {},
   "source": [
    "<br>\n",
    "\n",
    "**Re-train model using early stopping and TensorBoard**"
   ]
  },
  {
   "cell_type": "code",
   "execution_count": 88,
   "metadata": {},
   "outputs": [],
   "source": [
    "## Load additional libraries needed ##\n",
    "from datetime import datetime\n",
    "from IPython.display import clear_output, Image, display, HTML\n",
    "import os\n",
    "import pathlib\n",
    "\n",
    "t = datetime.utcnow().strftime(\"%Y%m%d%H%M%S\") \n",
    "log_dir = \"tf_logs\"\n",
    "logd = \"/tmp/{}/r{}/\".format(log_dir, t)"
   ]
  },
  {
   "cell_type": "markdown",
   "metadata": {},
   "source": [
    "<br>\n",
    "\n",
    "**TensorBoard Callbacks**"
   ]
  },
  {
   "cell_type": "code",
   "execution_count": 89,
   "metadata": {},
   "outputs": [],
   "source": [
    "## Load TensorBoard notebook extension ##\n",
    "%reload_ext tensorboard"
   ]
  },
  {
   "cell_type": "code",
   "execution_count": 90,
   "metadata": {},
   "outputs": [],
   "source": [
    "## Clear any logs from previous runs ##\n",
    "!rm -rf ./logs/"
   ]
  },
  {
   "cell_type": "code",
   "execution_count": 91,
   "metadata": {},
   "outputs": [],
   "source": [
    "# place logs in a timestamped subdirectory and enable histogram computation with every epoch\n",
    "log_dir = \"logs/mpg/\" + datetime.now().strftime(\"%Y%m%d-%H%M%S\")\n",
    "tensorboard_callback = tf.keras.callbacks.TensorBoard(log_dir=log_dir, histogram_freq=1)"
   ]
  },
  {
   "cell_type": "markdown",
   "metadata": {},
   "source": [
    "<br>\n",
    "\n",
    "**Build model**"
   ]
  },
  {
   "cell_type": "code",
   "execution_count": 92,
   "metadata": {},
   "outputs": [
    {
     "name": "stdout",
     "output_type": "stream",
     "text": [
      "WARNING:tensorflow:Callbacks method `on_train_batch_end` is slow compared to the batch time (batch time: 0.0008s vs `on_train_batch_end` time: 0.0629s). Check your callbacks.\n"
     ]
    }
   ],
   "source": [
    "model = build_model()\n",
    "\n",
    "# The patience parameter is the amount of epochs to check for improvement\n",
    "early_stop = keras.callbacks.EarlyStopping(monitor='val_loss', patience=10)\n",
    "\n",
    "early_history = model.fit(normed_train_data, train_labels, \n",
    "                    epochs=EPOCHS, validation_split = 0.2, verbose=0, \n",
    "                    callbacks=[early_stop, tensorboard_callback])"
   ]
  },
  {
   "cell_type": "markdown",
   "metadata": {},
   "source": [
    "<br>\n",
    "\n",
    "**Visualize Model Using TensorFlow (with callbacks)**# visualize logs\n",
    "%tensorboard --logdir logs/mpg"
   ]
  },
  {
   "cell_type": "code",
   "execution_count": 93,
   "metadata": {},
   "outputs": [
    {
     "data": {
      "text/html": [
       "\n",
       "      <iframe id=\"tensorboard-frame-d1243cc3f40d1458\" width=\"100%\" height=\"800\" frameborder=\"0\">\n",
       "      </iframe>\n",
       "      <script>\n",
       "        (function() {\n",
       "          const frame = document.getElementById(\"tensorboard-frame-d1243cc3f40d1458\");\n",
       "          const url = new URL(\"/\", window.location);\n",
       "          const port = 6009;\n",
       "          if (port) {\n",
       "            url.port = port;\n",
       "          }\n",
       "          frame.src = url;\n",
       "        })();\n",
       "      </script>\n",
       "    "
      ],
      "text/plain": [
       "<IPython.core.display.HTML object>"
      ]
     },
     "metadata": {},
     "output_type": "display_data"
    }
   ],
   "source": [
    "# visualize logs\n",
    "%tensorboard --logdir logs/mpg"
   ]
  },
  {
   "cell_type": "markdown",
   "metadata": {},
   "source": [
    "<br>\n",
    "\n",
    "**Generalization**"
   ]
  },
  {
   "cell_type": "code",
   "execution_count": 94,
   "metadata": {},
   "outputs": [
    {
     "name": "stdout",
     "output_type": "stream",
     "text": [
      "3/3 - 0s - loss: 5.3209 - mae: 1.7511 - mse: 5.3209\n",
      "Testing set Mean Abs Error:  1.75 MPG\n"
     ]
    }
   ],
   "source": [
    "loss, mae, mse = model.evaluate(normed_test_data, test_labels, verbose=2)\n",
    "\n",
    "print(\"Testing set Mean Abs Error: {:5.2f} MPG\".format(mae))"
   ]
  },
  {
   "cell_type": "markdown",
   "metadata": {},
   "source": [
    "<br>\n",
    "\n",
    "**Make predictions**"
   ]
  },
  {
   "cell_type": "code",
   "execution_count": 95,
   "metadata": {},
   "outputs": [
    {
     "data": {
      "image/png": "[encoded data removed]",
      "text/plain": [
       "<Figure size 432x288 with 1 Axes>"
      ]
     },
     "metadata": {
      "needs_background": "light"
     },
     "output_type": "display_data"
    }
   ],
   "source": [
    "test_predictions = model.predict(normed_test_data).flatten()\n",
    "\n",
    "a = plt.axes(aspect='equal')\n",
    "plt.scatter(test_labels, test_predictions)\n",
    "plt.xlabel('True Values [MPG]')\n",
    "plt.ylabel('Predictions [MPG]')\n",
    "lims = [0, 50]\n",
    "plt.xlim(lims)\n",
    "plt.ylim(lims)\n",
    "_ = plt.plot(lims, lims)"
   ]
  },
  {
   "cell_type": "markdown",
   "metadata": {},
   "source": [
    "<br>\n",
    "\n",
    "**Error distribution**"
   ]
  },
  {
   "cell_type": "code",
   "execution_count": 96,
   "metadata": {},
   "outputs": [
    {
     "data": {
      "image/png": "[encoded data removed]",
      "text/plain": [
       "<Figure size 432x288 with 1 Axes>"
      ]
     },
     "metadata": {
      "needs_background": "light"
     },
     "output_type": "display_data"
    }
   ],
   "source": [
    "error = test_predictions - test_labels\n",
    "plt.hist(error, bins = 25)\n",
    "plt.xlabel(\"Prediction Error [MPG]\")\n",
    "_ = plt.ylabel(\"Count\")"
   ]
  },
  {
   "cell_type": "markdown",
   "metadata": {},
   "source": [
    "<br>\n",
    "\n",
    "___\n",
    "\n",
    "#### About: General Comments/Tips Regarding Neural Networks (NNs)\n",
    "\n",
    "<br>\n",
    "\n",
    "**(Vanilla) NN structure**\n",
    "\n",
    "> * Any NN with one hidden layer can be a [Universal Function Approximator](https://en.wikipedia.org/wiki/Universal_approximation_theorem).<br>\n",
    "> * The number of input nodes are equal to the number of features (sequential in Keras).<br>\n",
    "> * The number of output nodes are equal to the number of classes (for classification tasks).<br>\n",
    "> * A bias term is added to every layer that only feeds in a 1 -- doing so adds an extra degree of freedom for every functional input value to the next function.\n",
    "\n",
    "**How deep should we go?**\n",
    "\n",
    "> * We can overfit NN's, one way to combat that is by using dropout and regularization.<br>\n",
    "> * Predictions will usually be better when we increase depth of network and widen it (increase the number of neurons in every layer).\n",
    "\n",
    "**Activation Functions**\n",
    "\n",
    "> * Classically the [sigmoid function](https://en.wikipedia.org/wiki/Sigmoid_function) was used in the hidden layers (simplest function between 0 - 1).<br>\n",
    "> * Nowadays it is more common to use the [ReLU (Rectified Linear Unit)](https://en.wikipedia.org/wiki/Rectifier_(neural_networks)) -- much faster!<br>\n",
    "> * For deep networks sigmoid might not want to converge at all -- known as the [vanishing gradient problem](https://en.wikipedia.org/wiki/Vanishing_gradient_problem). It can be reduced using ReLU or by using [Batch Normalization](https://en.wikipedia.org/wiki/Batch_normalization).<br>\n",
    "> * For the input layer we send in the (standardized) values.<br>\n",
    "> * For the output layer we often use a [softmax](https://en.wikipedia.org/wiki/Softmax_function) function (multi-class classification) or a sigmoid function (binary classification). Softmax only works if the classes are mutually exclusive, i.e. we only try to label one pattern in every training example.\n",
    "\n",
    "**Dealing with Overfitting**\n",
    "\n",
    "> * Usually because our network has too many [degrees of freedom](https://en.wikipedia.org/wiki/Degrees_of_freedom_(statistics)) (neurons in the network).<br>\n",
    "> * Can use L1 and L2 [regularization](https://en.wikipedia.org/wiki/Tikhonov_regularization) on the [loss function](https://en.wikipedia.org/wiki/Loss_function).<br>\n",
    "> * Can also use [Dilution](https://en.wikipedia.org/wiki/Dilution_(neural_networks)) to mitigate the effects of too many degrees of freedom."
   ]
  },
  {
   "cell_type": "markdown",
   "metadata": {},
   "source": [
    "___\n",
    "\n",
    "## Additional Content and Sources\n",
    "\n",
    "> [TensorFlow Tutorials](https://pandas.pydata.org/pandas-docs/stable/user_guide/index.html)<br>\n",
    "> [TensorFlow Guide](https://youtu.be/dcqPhpY7tWk) <br>\n",
    "> [Deep Learning with Python by Francois Chollet](https://www.manning.com/books/deep-learning-with-python)\n",
    "> [Introduction to TensorFlow by Andrew Ng and Kian Katanforoosh](https://cs230.stanford.edu/blog/tensorflow/)<br>\n",
    "> [Deep Learning Illustrated by Jon Krohn, Grant Beyleveld, and Aglae Bassens](https://www.deeplearningillustrated.com/)<br>\n",
    "> [Hands-On Introduction to TensorFlow 2.0 by Josh Gordon and Amit Patankar](https://youtu.be/Yyv-ng0_OTU)<br>\n",
    "> [Getting Started with TensorFlow and Deep Learning by Josh Gordon](https://youtu.be/tYYVSEHq-io)"
   ]
  },
  {
   "cell_type": "markdown",
   "metadata": {},
   "source": [
    "<div align=\"center\" style=\"font-size:12px; font-family:FreeMono; font-weight: 100; font-stretch:ultra-condensed; line-height: 1.0; color:#2A2C2B\">\n",
    "    <img src=\"DataX_icon_wide_logo.png\" align=\"center\" width=\"50%\" padding=\"0px\"><br>\n",
    "    <br>\n",
    "</div>\n",
    "\n",
    "___"
   ]
  }
 ],
 "metadata": {
  "anaconda-cloud": {},
  "celltoolbar": "Slideshow",
  "kernelspec": {
   "display_name": "Python 3",
   "language": "python",
   "name": "python3"
  },
  "language_info": {
   "codemirror_mode": {
    "name": "ipython",
    "version": 3
   },
   "file_extension": ".py",
   "mimetype": "text/x-python",
   "name": "python",
   "nbconvert_exporter": "python",
   "pygments_lexer": "ipython3",
   "version": "3.6.10"
  },
  "livereveal": {
   "scroll": true
  },
  "rise": {
   "enable_chalkboard": true,
   "height": "90%",
   "width": "100%"
  }
 },
 "nbformat": 4,
 "nbformat_minor": 2
}
