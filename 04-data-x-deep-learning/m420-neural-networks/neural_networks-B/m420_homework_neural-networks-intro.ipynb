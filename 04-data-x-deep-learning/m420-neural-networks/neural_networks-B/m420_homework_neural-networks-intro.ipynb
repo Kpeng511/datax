{
 "cells": [
  {
   "cell_type": "markdown",
   "metadata": {},
   "source": [
    "![data-x](https://raw.githubusercontent.com/afo/data-x-plaksha/master/imgsource/dx_logo.png)\n",
    "\n",
    "<br>\n",
    "\n",
    "\n",
    "**References and Additional Resources**\n",
    "<br>\n",
    "\n",
    "\n",
    "> [TensorFlow Guides: Keras Sequential Model](https://www.tensorflow.org/guide/keras/sequential_model)<br>\n",
    "> [Keras: The Sequential Model Guide](https://keras.io/guides/sequential_model/)<br>\n",
    "> [TensorBoard in Notebooks](https://www.tensorflow.org/tensorboard/tensorboard_in_notebooks)"
   ]
  },
  {
   "cell_type": "markdown",
   "metadata": {},
   "source": [
    "___\n",
    "\n",
    "#### NAME:\n",
    "\n",
    "#### STUDENT ID:\n",
    "___"
   ]
  },
  {
   "cell_type": "markdown",
   "metadata": {},
   "source": [
    "## Homework - Nerual Networks"
   ]
  },
  {
   "cell_type": "code",
   "execution_count": 1,
   "metadata": {},
   "outputs": [
    {
     "data": {
      "text/plain": [
       "'2.2.0'"
      ]
     },
     "execution_count": 1,
     "metadata": {},
     "output_type": "execute_result"
    }
   ],
   "source": [
    "# load the dependencies\n",
    "import numpy as np\n",
    "import tensorflow as tf\n",
    "\n",
    "# check whether tf version is 2.x\n",
    "tf.__version__"
   ]
  },
  {
   "cell_type": "markdown",
   "metadata": {},
   "source": [
    "<br>\n",
    "\n",
    "## Understanding Tensors\n",
    "\n",
    "___"
   ]
  },
  {
   "cell_type": "markdown",
   "metadata": {},
   "source": [
    "<br>\n",
    "\n",
    "**Create the following tensors:**\n",
    "> `a` is a constant tensor with value 1. (float)<br>\n",
    "> `b` is a constant tensor with value 2. (float)<br>\n",
    "> `c` is an np.array with one consant value 3. (float)"
   ]
  },
  {
   "cell_type": "code",
   "execution_count": null,
   "metadata": {},
   "outputs": [],
   "source": [
    "# tensors\n",
    "a = tf.constant(1.)\n",
    "b = tf.constant(2.)\n",
    "c = tf.constant(np.array(3.))"
   ]
  },
  {
   "cell_type": "code",
   "execution_count": null,
   "metadata": {},
   "outputs": [],
   "source": [
    "# identify and fix the problem with following addition opperation for the defined constants\n",
    "a + b + c"
   ]
  },
  {
   "cell_type": "markdown",
   "metadata": {},
   "source": [
    "**Problem:**\n",
    "\n",
    "> your answer here (or add a cell and comment your Python)"
   ]
  },
  {
   "cell_type": "markdown",
   "metadata": {},
   "source": [
    "<br>\n",
    "\n",
    "**Use TensorFlow functions to solve** `a+b+c`"
   ]
  },
  {
   "cell_type": "code",
   "execution_count": 2,
   "metadata": {},
   "outputs": [],
   "source": [
    "# your code here\n"
   ]
  },
  {
   "cell_type": "markdown",
   "metadata": {},
   "source": [
    "<br>\n",
    "\n",
    "**Visualize the operation,** `a+b+c` **(Writing a graph to TensorBoard using TensorFlow 2.0)**\n",
    "\n",
    "> **Tip:** You will need to use the [\\@tf.function](https://www.tensorflow.org/api_docs/python/tf/function) in order ot compile a [TensorFlow graph](https://www.tensorflow.org/api_docs/python/tf/Graph).  You will also need to set up logging using [tf.summary.create_file_writer](https://www.tensorflow.org/api_docs/python/tf/summary/create_file_writer)"
   ]
  },
  {
   "cell_type": "code",
   "execution_count": 55,
   "metadata": {},
   "outputs": [],
   "source": [
    "# @tf.function\n",
    "@tf.function\n",
    "def f(x, y, z):\n",
    "    return(x + y + z)"
   ]
  },
  {
   "cell_type": "code",
   "execution_count": null,
   "metadata": {},
   "outputs": [],
   "source": [
    "# your work here"
   ]
  },
  {
   "cell_type": "markdown",
   "metadata": {},
   "source": [
    "<br>\n",
    "\n",
    "## Computing Gradients the TensorFlow way\n",
    "\n",
    "___"
   ]
  },
  {
   "cell_type": "markdown",
   "metadata": {},
   "source": [
    "<br>\n",
    "\n",
    "**The following is a non-optimized, simple, way to calculate gradients for a given function.**"
   ]
  },
  {
   "cell_type": "code",
   "execution_count": 5,
   "metadata": {},
   "outputs": [],
   "source": [
    "# function definition =>\n",
    "@tf.function\n",
    "def g(x, y):\n",
    "    return(5 * x ** 2 + 3 * x * y)"
   ]
  },
  {
   "cell_type": "markdown",
   "metadata": {},
   "source": [
    "___\n",
    "\n",
    "**Note:** for `[x, y] = [tf.Variable(1.), tf.Variable(1.)]` the result is\n",
    "\n",
    "```python \n",
    "    [<tf.Tensor: shape=(), dtype=float32, numpy=13.0>,\n",
    "     <tf.Tensor: shape=(), dtype=float32, numpy=3.0>]\n",
    "```\n",
    "\n",
    "___"
   ]
  },
  {
   "cell_type": "markdown",
   "metadata": {},
   "source": [
    "<br>\n",
    "\n",
    "**To Do:**<br>\n",
    "> Complete the following code to compute the gradients using [`tf.GradientTape()`](https://www.tensorflow.org/api_docs/python/tf/GradientTape) -- TensorFlow V2 Automatic Differentiation"
   ]
  },
  {
   "cell_type": "code",
   "execution_count": null,
   "metadata": {},
   "outputs": [],
   "source": [
    "x= tf.Variable(1.)\n",
    "y = tf.Variable(1.)\n",
    "\n",
    "with tf.GradientTape() as tape:\n",
    "    \n",
    "    z =     # fill the missing code\n",
    "\n",
    "# calculate gradients\n",
    "grads = tape.gradient(   ) # fill the arguments\n",
    "\n",
    "print('Gradients:')\n",
    "grads"
   ]
  },
  {
   "cell_type": "markdown",
   "metadata": {},
   "source": [
    "___\n",
    "\n",
    "### Deliverables\n",
    "\n",
    "Please submit your the following via the instructed method (lecture or Syllabus): \n",
    "\n",
    ">(1) A copy of your work, either a downloaded notebook or a pdf, by the assignment deadline\n",
    "\n",
    "<br>\n",
    "\n",
    "**Note:** Don't gorget to restart your kernel prior to extracting your data.\n",
    "\n",
    ">```Kernel --> Restart Kernel and Run all Cells```<br>\n",
    ">```File --> Export Notebooks As --> PDF``` (or as instructed)\n",
    "\n",
    "___"
   ]
  }
 ],
 "metadata": {
  "anaconda-cloud": {},
  "kernelspec": {
   "display_name": "Python 3",
   "language": "python",
   "name": "python3"
  },
  "language_info": {
   "codemirror_mode": {
    "name": "ipython",
    "version": 3
   },
   "file_extension": ".py",
   "mimetype": "text/x-python",
   "name": "python",
   "nbconvert_exporter": "python",
   "pygments_lexer": "ipython3",
   "version": "3.6.10"
  }
 },
 "nbformat": 4,
 "nbformat_minor": 2
}
